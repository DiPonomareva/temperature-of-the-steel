{
  "cells": [
    {
      "cell_type": "markdown",
      "metadata": {
        "id": "3re6S4wFBXxw"
      },
      "source": [
        "<div style=\"border:solid blue 2px; padding: 20px\">\n",
        "\n",
        "   Чтобы оптимизировать производственные расходы, металлургический комбинат ООО «Так закаляем сталь» решил уменьшить потребление электроэнергии на этапе обработки стали. Мне предстоит построить модель, которая предскажет температуру стали.\n",
        "\n",
        "**Описание этапа обработки**\n",
        "\n",
        "Сталь обрабатывают в металлическом ковше вместимостью около 100 тонн. Чтобы ковш выдерживал высокие температуры, изнутри его облицовывают огнеупорным кирпичом. Расплавленную сталь заливают в ковш и подогревают до нужной температуры графитовыми электродами. Они установлены в крышке ковша. \n",
        "\n",
        "Из сплава выводится сера (десульфурация), добавлением примесей корректируется химический состав и отбираются пробы. Сталь легируют — изменяют её состав — подавая куски сплава из бункера для сыпучих материалов или проволоку через специальный трайб-аппарат (англ. tribe, «масса»).\n",
        "\n",
        "Перед тем как первый раз ввести легирующие добавки, измеряют температуру стали и производят её химический анализ. Потом температуру на несколько минут повышают, добавляют легирующие материалы и продувают сплав инертным газом. Затем его перемешивают и снова проводят измерения. Такой цикл повторяется до достижения целевого химического состава и оптимальной температуры плавки.\n",
        "\n",
        "Тогда расплавленная сталь отправляется на доводку металла или поступает в машину непрерывной разливки. Оттуда готовый продукт выходит в виде заготовок-слябов (англ. *slab*, «плита»)."
      ]
    },
    {
      "cell_type": "markdown",
      "metadata": {
        "id": "YNOfVwVeBXxy"
      },
      "source": [
        "## Первичный анализ данных"
      ]
    },
    {
      "cell_type": "code",
      "execution_count": null,
      "metadata": {
        "id": "8HPL3sZlfLuK"
      },
      "outputs": [],
      "source": [
        "# pip install catboost"
      ]
    },
    {
      "cell_type": "markdown",
      "metadata": {
        "id": "9pqjNOuVBXxy"
      },
      "source": [
        "Импортируем нужные библиотеки:"
      ]
    },
    {
      "cell_type": "code",
      "execution_count": null,
      "metadata": {
        "id": "An3M0VDDBXxz",
        "scrolled": true
      },
      "outputs": [],
      "source": [
        "import pandas as pd\n",
        "import seaborn as sns\n",
        "import matplotlib.pyplot as plt\n",
        "import numpy as np\n",
        "\n",
        "from sklearn.pipeline import Pipeline\n",
        "from sklearn.preprocessing import MinMaxScaler, StandardScaler\n",
        "from sklearn.metrics import mean_absolute_error\n",
        "from sklearn.model_selection import train_test_split, RandomizedSearchCV, cross_val_score\n",
        "from sklearn.pipeline import make_pipeline\n",
        "\n",
        "from sklearn.svm import LinearSVR\n",
        "from sklearn.dummy import DummyRegressor\n",
        "from sklearn.ensemble import RandomForestRegressor\n",
        "from sklearn.tree import DecisionTreeRegressor\n",
        "from lightgbm import LGBMRegressor\n",
        "from catboost import CatBoostRegressor"
      ]
    },
    {
      "cell_type": "code",
      "execution_count": null,
      "metadata": {
        "id": "lzwuXrAdSMch"
      },
      "outputs": [],
      "source": [
        "import warnings\n",
        "warnings.filterwarnings('ignore')"
      ]
    },
    {
      "cell_type": "code",
      "execution_count": null,
      "metadata": {
        "id": "lZlXZYAhSOnU"
      },
      "outputs": [],
      "source": [
        "RANDOM_STATE = 100423"
      ]
    },
    {
      "cell_type": "markdown",
      "metadata": {
        "id": "Wg4aNRqtBXx1"
      },
      "source": [
        "Каждый датасет сохраняем в соответствующую переменную:"
      ]
    },
    {
      "cell_type": "code",
      "execution_count": null,
      "metadata": {
        "id": "phcwoWIsBXx1"
      },
      "outputs": [],
      "source": [
        "try:\n",
        "  # данные об электродах\n",
        "  data_arc = pd.read_csv('')\n",
        "\n",
        "  # данные о подаче сыпучих материалов (объём)\n",
        "  data_bulk = pd.read_csv('')\n",
        "\n",
        "  # данные о подаче сыпучих материалов (время)\n",
        "  data_bulk_time = pd.read_csv('')\n",
        "\n",
        "  # данные о продувке сплава газом\n",
        "  data_gas = pd.read_csv('')\n",
        "\n",
        "  # результаты измерения температуры\n",
        "  data_temp = pd.read_csv('')\n",
        "\n",
        "  # данные о проволочных материалах (объём)\n",
        "  data_wire = pd.read_csv('')\n",
        "\n",
        "  # данные о проволочных материалах (время)\n",
        "  data_wire_time = pd.read_csv('')\n",
        "\n",
        "except:\n",
        "  from google.colab import drive\n",
        "  drive.mount('/content/drive')\n",
        "  data_arc = pd.read_csv('')\n",
        "  data_bulk = pd.read_csv('')\n",
        "  data_bulk_time = pd.read_csv('')\n",
        "  data_gas = pd.read_csv('')\n",
        "  data_temp = pd.read_csv('')\n",
        "  data_wire = pd.read_csv('')\n",
        "  data_wire_time = pd.read_csv('')"
      ]
    },
    {
      "cell_type": "markdown",
      "metadata": {
        "id": "1iLFihB2BXx2"
      },
      "source": [
        "### Изучим общую информацию"
      ]
    },
    {
      "cell_type": "markdown",
      "metadata": {
        "id": "e8M3RXV-BXx2"
      },
      "source": [
        "Создадим функцию, которая на вход получает название таблицы и датасет, а выдаёт общую информацию, первые 5 строк и описательную статистику данных."
      ]
    },
    {
      "cell_type": "code",
      "execution_count": null,
      "metadata": {
        "id": "69gS-uL7BXx3",
        "scrolled": true
      },
      "outputs": [],
      "source": [
        "def info_describe(name_table, data):\n",
        "    print(name_table)\n",
        "    print('--' * 20)\n",
        "    print(data.info()) # общая информация о датасете\n",
        "    display(data.head())\n",
        "    display(data.describe()) # описательная статистика данных"
      ]
    },
    {
      "cell_type": "code",
      "execution_count": null,
      "metadata": {
        "colab": {
          "base_uri": "https://localhost:8080/",
          "height": 739
        },
        "id": "2zG5W1-TBXx3",
        "outputId": "ee24128b-a615-4294-95c7-1a251a2c0205"
      },
      "outputs": [
        {
          "name": "stdout",
          "output_type": "stream",
          "text": [
            "Данные об электродах\n",
            "----------------------------------------\n",
            "<class 'pandas.core.frame.DataFrame'>\n",
            "RangeIndex: 14876 entries, 0 to 14875\n",
            "Data columns (total 5 columns):\n",
            " #   Column                Non-Null Count  Dtype  \n",
            "---  ------                --------------  -----  \n",
            " 0   key                   14876 non-null  int64  \n",
            " 1   Начало нагрева дугой  14876 non-null  object \n",
            " 2   Конец нагрева дугой   14876 non-null  object \n",
            " 3   Активная мощность     14876 non-null  float64\n",
            " 4   Реактивная мощность   14876 non-null  float64\n",
            "dtypes: float64(2), int64(1), object(2)\n",
            "memory usage: 581.2+ KB\n",
            "None\n"
          ]
        },
        {
          "data": {
            "text/html": [
              "<div>\n",
              "<style scoped>\n",
              "    .dataframe tbody tr th:only-of-type {\n",
              "        vertical-align: middle;\n",
              "    }\n",
              "\n",
              "    .dataframe tbody tr th {\n",
              "        vertical-align: top;\n",
              "    }\n",
              "\n",
              "    .dataframe thead th {\n",
              "        text-align: right;\n",
              "    }\n",
              "</style>\n",
              "<table border=\"1\" class=\"dataframe\">\n",
              "  <thead>\n",
              "    <tr style=\"text-align: right;\">\n",
              "      <th></th>\n",
              "      <th>key</th>\n",
              "      <th>Начало нагрева дугой</th>\n",
              "      <th>Конец нагрева дугой</th>\n",
              "      <th>Активная мощность</th>\n",
              "      <th>Реактивная мощность</th>\n",
              "    </tr>\n",
              "  </thead>\n",
              "  <tbody>\n",
              "    <tr>\n",
              "      <th>0</th>\n",
              "      <td>1</td>\n",
              "      <td>2019-05-03 11:02:14</td>\n",
              "      <td>2019-05-03 11:06:02</td>\n",
              "      <td>0.976059</td>\n",
              "      <td>0.687084</td>\n",
              "    </tr>\n",
              "    <tr>\n",
              "      <th>1</th>\n",
              "      <td>1</td>\n",
              "      <td>2019-05-03 11:07:28</td>\n",
              "      <td>2019-05-03 11:10:33</td>\n",
              "      <td>0.805607</td>\n",
              "      <td>0.520285</td>\n",
              "    </tr>\n",
              "    <tr>\n",
              "      <th>2</th>\n",
              "      <td>1</td>\n",
              "      <td>2019-05-03 11:11:44</td>\n",
              "      <td>2019-05-03 11:14:36</td>\n",
              "      <td>0.744363</td>\n",
              "      <td>0.498805</td>\n",
              "    </tr>\n",
              "    <tr>\n",
              "      <th>3</th>\n",
              "      <td>1</td>\n",
              "      <td>2019-05-03 11:18:14</td>\n",
              "      <td>2019-05-03 11:24:19</td>\n",
              "      <td>1.659363</td>\n",
              "      <td>1.062669</td>\n",
              "    </tr>\n",
              "    <tr>\n",
              "      <th>4</th>\n",
              "      <td>1</td>\n",
              "      <td>2019-05-03 11:26:09</td>\n",
              "      <td>2019-05-03 11:28:37</td>\n",
              "      <td>0.692755</td>\n",
              "      <td>0.414397</td>\n",
              "    </tr>\n",
              "  </tbody>\n",
              "</table>\n",
              "</div>"
            ],
            "text/plain": [
              "   key Начало нагрева дугой  Конец нагрева дугой  Активная мощность  \\\n",
              "0    1  2019-05-03 11:02:14  2019-05-03 11:06:02           0.976059   \n",
              "1    1  2019-05-03 11:07:28  2019-05-03 11:10:33           0.805607   \n",
              "2    1  2019-05-03 11:11:44  2019-05-03 11:14:36           0.744363   \n",
              "3    1  2019-05-03 11:18:14  2019-05-03 11:24:19           1.659363   \n",
              "4    1  2019-05-03 11:26:09  2019-05-03 11:28:37           0.692755   \n",
              "\n",
              "   Реактивная мощность  \n",
              "0             0.687084  \n",
              "1             0.520285  \n",
              "2             0.498805  \n",
              "3             1.062669  \n",
              "4             0.414397  "
            ]
          },
          "metadata": {},
          "output_type": "display_data"
        },
        {
          "data": {
            "text/html": [
              "<div>\n",
              "<style scoped>\n",
              "    .dataframe tbody tr th:only-of-type {\n",
              "        vertical-align: middle;\n",
              "    }\n",
              "\n",
              "    .dataframe tbody tr th {\n",
              "        vertical-align: top;\n",
              "    }\n",
              "\n",
              "    .dataframe thead th {\n",
              "        text-align: right;\n",
              "    }\n",
              "</style>\n",
              "<table border=\"1\" class=\"dataframe\">\n",
              "  <thead>\n",
              "    <tr style=\"text-align: right;\">\n",
              "      <th></th>\n",
              "      <th>key</th>\n",
              "      <th>Активная мощность</th>\n",
              "      <th>Реактивная мощность</th>\n",
              "    </tr>\n",
              "  </thead>\n",
              "  <tbody>\n",
              "    <tr>\n",
              "      <th>count</th>\n",
              "      <td>14876.000000</td>\n",
              "      <td>14876.000000</td>\n",
              "      <td>14876.000000</td>\n",
              "    </tr>\n",
              "    <tr>\n",
              "      <th>mean</th>\n",
              "      <td>1615.220422</td>\n",
              "      <td>0.670441</td>\n",
              "      <td>0.452592</td>\n",
              "    </tr>\n",
              "    <tr>\n",
              "      <th>std</th>\n",
              "      <td>934.571502</td>\n",
              "      <td>0.408159</td>\n",
              "      <td>5.878702</td>\n",
              "    </tr>\n",
              "    <tr>\n",
              "      <th>min</th>\n",
              "      <td>1.000000</td>\n",
              "      <td>0.030002</td>\n",
              "      <td>-715.504924</td>\n",
              "    </tr>\n",
              "    <tr>\n",
              "      <th>25%</th>\n",
              "      <td>806.000000</td>\n",
              "      <td>0.395297</td>\n",
              "      <td>0.290991</td>\n",
              "    </tr>\n",
              "    <tr>\n",
              "      <th>50%</th>\n",
              "      <td>1617.000000</td>\n",
              "      <td>0.555517</td>\n",
              "      <td>0.415962</td>\n",
              "    </tr>\n",
              "    <tr>\n",
              "      <th>75%</th>\n",
              "      <td>2429.000000</td>\n",
              "      <td>0.857034</td>\n",
              "      <td>0.637371</td>\n",
              "    </tr>\n",
              "    <tr>\n",
              "      <th>max</th>\n",
              "      <td>3241.000000</td>\n",
              "      <td>3.731596</td>\n",
              "      <td>2.676388</td>\n",
              "    </tr>\n",
              "  </tbody>\n",
              "</table>\n",
              "</div>"
            ],
            "text/plain": [
              "                key  Активная мощность  Реактивная мощность\n",
              "count  14876.000000       14876.000000         14876.000000\n",
              "mean    1615.220422           0.670441             0.452592\n",
              "std      934.571502           0.408159             5.878702\n",
              "min        1.000000           0.030002          -715.504924\n",
              "25%      806.000000           0.395297             0.290991\n",
              "50%     1617.000000           0.555517             0.415962\n",
              "75%     2429.000000           0.857034             0.637371\n",
              "max     3241.000000           3.731596             2.676388"
            ]
          },
          "metadata": {},
          "output_type": "display_data"
        }
      ],
      "source": [
        "info_describe('Данные об электродах', data_arc)"
      ]
    },
    {
      "cell_type": "code",
      "execution_count": null,
      "metadata": {
        "colab": {
          "base_uri": "https://localhost:8080/",
          "height": 926
        },
        "id": "yQHAP_Z7BXx4",
        "outputId": "cb2aa727-1ecb-483b-e524-6d301304aceb",
        "scrolled": false
      },
      "outputs": [
        {
          "name": "stdout",
          "output_type": "stream",
          "text": [
            "Данные о подаче сыпучих материалов (объём)\n",
            "----------------------------------------\n",
            "<class 'pandas.core.frame.DataFrame'>\n",
            "RangeIndex: 3129 entries, 0 to 3128\n",
            "Data columns (total 16 columns):\n",
            " #   Column   Non-Null Count  Dtype  \n",
            "---  ------   --------------  -----  \n",
            " 0   key      3129 non-null   int64  \n",
            " 1   Bulk 1   252 non-null    float64\n",
            " 2   Bulk 2   22 non-null     float64\n",
            " 3   Bulk 3   1298 non-null   float64\n",
            " 4   Bulk 4   1014 non-null   float64\n",
            " 5   Bulk 5   77 non-null     float64\n",
            " 6   Bulk 6   576 non-null    float64\n",
            " 7   Bulk 7   25 non-null     float64\n",
            " 8   Bulk 8   1 non-null      float64\n",
            " 9   Bulk 9   19 non-null     float64\n",
            " 10  Bulk 10  176 non-null    float64\n",
            " 11  Bulk 11  177 non-null    float64\n",
            " 12  Bulk 12  2450 non-null   float64\n",
            " 13  Bulk 13  18 non-null     float64\n",
            " 14  Bulk 14  2806 non-null   float64\n",
            " 15  Bulk 15  2248 non-null   float64\n",
            "dtypes: float64(15), int64(1)\n",
            "memory usage: 391.2 KB\n",
            "None\n"
          ]
        },
        {
          "data": {
            "text/html": [
              "<div>\n",
              "<style scoped>\n",
              "    .dataframe tbody tr th:only-of-type {\n",
              "        vertical-align: middle;\n",
              "    }\n",
              "\n",
              "    .dataframe tbody tr th {\n",
              "        vertical-align: top;\n",
              "    }\n",
              "\n",
              "    .dataframe thead th {\n",
              "        text-align: right;\n",
              "    }\n",
              "</style>\n",
              "<table border=\"1\" class=\"dataframe\">\n",
              "  <thead>\n",
              "    <tr style=\"text-align: right;\">\n",
              "      <th></th>\n",
              "      <th>key</th>\n",
              "      <th>Bulk 1</th>\n",
              "      <th>Bulk 2</th>\n",
              "      <th>Bulk 3</th>\n",
              "      <th>Bulk 4</th>\n",
              "      <th>Bulk 5</th>\n",
              "      <th>Bulk 6</th>\n",
              "      <th>Bulk 7</th>\n",
              "      <th>Bulk 8</th>\n",
              "      <th>Bulk 9</th>\n",
              "      <th>Bulk 10</th>\n",
              "      <th>Bulk 11</th>\n",
              "      <th>Bulk 12</th>\n",
              "      <th>Bulk 13</th>\n",
              "      <th>Bulk 14</th>\n",
              "      <th>Bulk 15</th>\n",
              "    </tr>\n",
              "  </thead>\n",
              "  <tbody>\n",
              "    <tr>\n",
              "      <th>0</th>\n",
              "      <td>1</td>\n",
              "      <td>NaN</td>\n",
              "      <td>NaN</td>\n",
              "      <td>NaN</td>\n",
              "      <td>43.0</td>\n",
              "      <td>NaN</td>\n",
              "      <td>NaN</td>\n",
              "      <td>NaN</td>\n",
              "      <td>NaN</td>\n",
              "      <td>NaN</td>\n",
              "      <td>NaN</td>\n",
              "      <td>NaN</td>\n",
              "      <td>206.0</td>\n",
              "      <td>NaN</td>\n",
              "      <td>150.0</td>\n",
              "      <td>154.0</td>\n",
              "    </tr>\n",
              "    <tr>\n",
              "      <th>1</th>\n",
              "      <td>2</td>\n",
              "      <td>NaN</td>\n",
              "      <td>NaN</td>\n",
              "      <td>NaN</td>\n",
              "      <td>73.0</td>\n",
              "      <td>NaN</td>\n",
              "      <td>NaN</td>\n",
              "      <td>NaN</td>\n",
              "      <td>NaN</td>\n",
              "      <td>NaN</td>\n",
              "      <td>NaN</td>\n",
              "      <td>NaN</td>\n",
              "      <td>206.0</td>\n",
              "      <td>NaN</td>\n",
              "      <td>149.0</td>\n",
              "      <td>154.0</td>\n",
              "    </tr>\n",
              "    <tr>\n",
              "      <th>2</th>\n",
              "      <td>3</td>\n",
              "      <td>NaN</td>\n",
              "      <td>NaN</td>\n",
              "      <td>NaN</td>\n",
              "      <td>34.0</td>\n",
              "      <td>NaN</td>\n",
              "      <td>NaN</td>\n",
              "      <td>NaN</td>\n",
              "      <td>NaN</td>\n",
              "      <td>NaN</td>\n",
              "      <td>NaN</td>\n",
              "      <td>NaN</td>\n",
              "      <td>205.0</td>\n",
              "      <td>NaN</td>\n",
              "      <td>152.0</td>\n",
              "      <td>153.0</td>\n",
              "    </tr>\n",
              "    <tr>\n",
              "      <th>3</th>\n",
              "      <td>4</td>\n",
              "      <td>NaN</td>\n",
              "      <td>NaN</td>\n",
              "      <td>NaN</td>\n",
              "      <td>81.0</td>\n",
              "      <td>NaN</td>\n",
              "      <td>NaN</td>\n",
              "      <td>NaN</td>\n",
              "      <td>NaN</td>\n",
              "      <td>NaN</td>\n",
              "      <td>NaN</td>\n",
              "      <td>NaN</td>\n",
              "      <td>207.0</td>\n",
              "      <td>NaN</td>\n",
              "      <td>153.0</td>\n",
              "      <td>154.0</td>\n",
              "    </tr>\n",
              "    <tr>\n",
              "      <th>4</th>\n",
              "      <td>5</td>\n",
              "      <td>NaN</td>\n",
              "      <td>NaN</td>\n",
              "      <td>NaN</td>\n",
              "      <td>78.0</td>\n",
              "      <td>NaN</td>\n",
              "      <td>NaN</td>\n",
              "      <td>NaN</td>\n",
              "      <td>NaN</td>\n",
              "      <td>NaN</td>\n",
              "      <td>NaN</td>\n",
              "      <td>NaN</td>\n",
              "      <td>203.0</td>\n",
              "      <td>NaN</td>\n",
              "      <td>151.0</td>\n",
              "      <td>152.0</td>\n",
              "    </tr>\n",
              "  </tbody>\n",
              "</table>\n",
              "</div>"
            ],
            "text/plain": [
              "   key  Bulk 1  Bulk 2  Bulk 3  Bulk 4  Bulk 5  Bulk 6  Bulk 7  Bulk 8  \\\n",
              "0    1     NaN     NaN     NaN    43.0     NaN     NaN     NaN     NaN   \n",
              "1    2     NaN     NaN     NaN    73.0     NaN     NaN     NaN     NaN   \n",
              "2    3     NaN     NaN     NaN    34.0     NaN     NaN     NaN     NaN   \n",
              "3    4     NaN     NaN     NaN    81.0     NaN     NaN     NaN     NaN   \n",
              "4    5     NaN     NaN     NaN    78.0     NaN     NaN     NaN     NaN   \n",
              "\n",
              "   Bulk 9  Bulk 10  Bulk 11  Bulk 12  Bulk 13  Bulk 14  Bulk 15  \n",
              "0     NaN      NaN      NaN    206.0      NaN    150.0    154.0  \n",
              "1     NaN      NaN      NaN    206.0      NaN    149.0    154.0  \n",
              "2     NaN      NaN      NaN    205.0      NaN    152.0    153.0  \n",
              "3     NaN      NaN      NaN    207.0      NaN    153.0    154.0  \n",
              "4     NaN      NaN      NaN    203.0      NaN    151.0    152.0  "
            ]
          },
          "metadata": {},
          "output_type": "display_data"
        },
        {
          "data": {
            "text/html": [
              "<div>\n",
              "<style scoped>\n",
              "    .dataframe tbody tr th:only-of-type {\n",
              "        vertical-align: middle;\n",
              "    }\n",
              "\n",
              "    .dataframe tbody tr th {\n",
              "        vertical-align: top;\n",
              "    }\n",
              "\n",
              "    .dataframe thead th {\n",
              "        text-align: right;\n",
              "    }\n",
              "</style>\n",
              "<table border=\"1\" class=\"dataframe\">\n",
              "  <thead>\n",
              "    <tr style=\"text-align: right;\">\n",
              "      <th></th>\n",
              "      <th>key</th>\n",
              "      <th>Bulk 1</th>\n",
              "      <th>Bulk 2</th>\n",
              "      <th>Bulk 3</th>\n",
              "      <th>Bulk 4</th>\n",
              "      <th>Bulk 5</th>\n",
              "      <th>Bulk 6</th>\n",
              "      <th>Bulk 7</th>\n",
              "      <th>Bulk 8</th>\n",
              "      <th>Bulk 9</th>\n",
              "      <th>Bulk 10</th>\n",
              "      <th>Bulk 11</th>\n",
              "      <th>Bulk 12</th>\n",
              "      <th>Bulk 13</th>\n",
              "      <th>Bulk 14</th>\n",
              "      <th>Bulk 15</th>\n",
              "    </tr>\n",
              "  </thead>\n",
              "  <tbody>\n",
              "    <tr>\n",
              "      <th>count</th>\n",
              "      <td>3129.000000</td>\n",
              "      <td>252.000000</td>\n",
              "      <td>22.000000</td>\n",
              "      <td>1298.000000</td>\n",
              "      <td>1014.000000</td>\n",
              "      <td>77.000000</td>\n",
              "      <td>576.000000</td>\n",
              "      <td>25.000000</td>\n",
              "      <td>1.0</td>\n",
              "      <td>19.000000</td>\n",
              "      <td>176.000000</td>\n",
              "      <td>177.000000</td>\n",
              "      <td>2450.000000</td>\n",
              "      <td>18.000000</td>\n",
              "      <td>2806.000000</td>\n",
              "      <td>2248.000000</td>\n",
              "    </tr>\n",
              "    <tr>\n",
              "      <th>mean</th>\n",
              "      <td>1624.383509</td>\n",
              "      <td>39.242063</td>\n",
              "      <td>253.045455</td>\n",
              "      <td>113.879045</td>\n",
              "      <td>104.394477</td>\n",
              "      <td>107.025974</td>\n",
              "      <td>118.925347</td>\n",
              "      <td>305.600000</td>\n",
              "      <td>49.0</td>\n",
              "      <td>76.315789</td>\n",
              "      <td>83.284091</td>\n",
              "      <td>76.819209</td>\n",
              "      <td>260.471020</td>\n",
              "      <td>181.111111</td>\n",
              "      <td>170.284747</td>\n",
              "      <td>160.513345</td>\n",
              "    </tr>\n",
              "    <tr>\n",
              "      <th>std</th>\n",
              "      <td>933.337642</td>\n",
              "      <td>18.277654</td>\n",
              "      <td>21.180578</td>\n",
              "      <td>75.483494</td>\n",
              "      <td>48.184126</td>\n",
              "      <td>81.790646</td>\n",
              "      <td>72.057776</td>\n",
              "      <td>191.022904</td>\n",
              "      <td>NaN</td>\n",
              "      <td>21.720581</td>\n",
              "      <td>26.060347</td>\n",
              "      <td>59.655365</td>\n",
              "      <td>120.649269</td>\n",
              "      <td>46.088009</td>\n",
              "      <td>65.868652</td>\n",
              "      <td>51.765319</td>\n",
              "    </tr>\n",
              "    <tr>\n",
              "      <th>min</th>\n",
              "      <td>1.000000</td>\n",
              "      <td>10.000000</td>\n",
              "      <td>228.000000</td>\n",
              "      <td>6.000000</td>\n",
              "      <td>12.000000</td>\n",
              "      <td>11.000000</td>\n",
              "      <td>17.000000</td>\n",
              "      <td>47.000000</td>\n",
              "      <td>49.0</td>\n",
              "      <td>63.000000</td>\n",
              "      <td>24.000000</td>\n",
              "      <td>8.000000</td>\n",
              "      <td>53.000000</td>\n",
              "      <td>151.000000</td>\n",
              "      <td>16.000000</td>\n",
              "      <td>1.000000</td>\n",
              "    </tr>\n",
              "    <tr>\n",
              "      <th>25%</th>\n",
              "      <td>816.000000</td>\n",
              "      <td>27.000000</td>\n",
              "      <td>242.000000</td>\n",
              "      <td>58.000000</td>\n",
              "      <td>72.000000</td>\n",
              "      <td>70.000000</td>\n",
              "      <td>69.750000</td>\n",
              "      <td>155.000000</td>\n",
              "      <td>49.0</td>\n",
              "      <td>66.000000</td>\n",
              "      <td>64.000000</td>\n",
              "      <td>25.000000</td>\n",
              "      <td>204.000000</td>\n",
              "      <td>153.250000</td>\n",
              "      <td>119.000000</td>\n",
              "      <td>105.000000</td>\n",
              "    </tr>\n",
              "    <tr>\n",
              "      <th>50%</th>\n",
              "      <td>1622.000000</td>\n",
              "      <td>31.000000</td>\n",
              "      <td>251.500000</td>\n",
              "      <td>97.500000</td>\n",
              "      <td>102.000000</td>\n",
              "      <td>86.000000</td>\n",
              "      <td>100.000000</td>\n",
              "      <td>298.000000</td>\n",
              "      <td>49.0</td>\n",
              "      <td>68.000000</td>\n",
              "      <td>86.500000</td>\n",
              "      <td>64.000000</td>\n",
              "      <td>208.000000</td>\n",
              "      <td>155.500000</td>\n",
              "      <td>151.000000</td>\n",
              "      <td>160.000000</td>\n",
              "    </tr>\n",
              "    <tr>\n",
              "      <th>75%</th>\n",
              "      <td>2431.000000</td>\n",
              "      <td>46.000000</td>\n",
              "      <td>257.750000</td>\n",
              "      <td>152.000000</td>\n",
              "      <td>133.000000</td>\n",
              "      <td>132.000000</td>\n",
              "      <td>157.000000</td>\n",
              "      <td>406.000000</td>\n",
              "      <td>49.0</td>\n",
              "      <td>70.500000</td>\n",
              "      <td>102.000000</td>\n",
              "      <td>106.000000</td>\n",
              "      <td>316.000000</td>\n",
              "      <td>203.500000</td>\n",
              "      <td>205.750000</td>\n",
              "      <td>205.000000</td>\n",
              "    </tr>\n",
              "    <tr>\n",
              "      <th>max</th>\n",
              "      <td>3241.000000</td>\n",
              "      <td>185.000000</td>\n",
              "      <td>325.000000</td>\n",
              "      <td>454.000000</td>\n",
              "      <td>281.000000</td>\n",
              "      <td>603.000000</td>\n",
              "      <td>503.000000</td>\n",
              "      <td>772.000000</td>\n",
              "      <td>49.0</td>\n",
              "      <td>147.000000</td>\n",
              "      <td>159.000000</td>\n",
              "      <td>313.000000</td>\n",
              "      <td>1849.000000</td>\n",
              "      <td>305.000000</td>\n",
              "      <td>636.000000</td>\n",
              "      <td>405.000000</td>\n",
              "    </tr>\n",
              "  </tbody>\n",
              "</table>\n",
              "</div>"
            ],
            "text/plain": [
              "               key      Bulk 1      Bulk 2       Bulk 3       Bulk 4  \\\n",
              "count  3129.000000  252.000000   22.000000  1298.000000  1014.000000   \n",
              "mean   1624.383509   39.242063  253.045455   113.879045   104.394477   \n",
              "std     933.337642   18.277654   21.180578    75.483494    48.184126   \n",
              "min       1.000000   10.000000  228.000000     6.000000    12.000000   \n",
              "25%     816.000000   27.000000  242.000000    58.000000    72.000000   \n",
              "50%    1622.000000   31.000000  251.500000    97.500000   102.000000   \n",
              "75%    2431.000000   46.000000  257.750000   152.000000   133.000000   \n",
              "max    3241.000000  185.000000  325.000000   454.000000   281.000000   \n",
              "\n",
              "           Bulk 5      Bulk 6      Bulk 7  Bulk 8      Bulk 9     Bulk 10  \\\n",
              "count   77.000000  576.000000   25.000000     1.0   19.000000  176.000000   \n",
              "mean   107.025974  118.925347  305.600000    49.0   76.315789   83.284091   \n",
              "std     81.790646   72.057776  191.022904     NaN   21.720581   26.060347   \n",
              "min     11.000000   17.000000   47.000000    49.0   63.000000   24.000000   \n",
              "25%     70.000000   69.750000  155.000000    49.0   66.000000   64.000000   \n",
              "50%     86.000000  100.000000  298.000000    49.0   68.000000   86.500000   \n",
              "75%    132.000000  157.000000  406.000000    49.0   70.500000  102.000000   \n",
              "max    603.000000  503.000000  772.000000    49.0  147.000000  159.000000   \n",
              "\n",
              "          Bulk 11      Bulk 12     Bulk 13      Bulk 14      Bulk 15  \n",
              "count  177.000000  2450.000000   18.000000  2806.000000  2248.000000  \n",
              "mean    76.819209   260.471020  181.111111   170.284747   160.513345  \n",
              "std     59.655365   120.649269   46.088009    65.868652    51.765319  \n",
              "min      8.000000    53.000000  151.000000    16.000000     1.000000  \n",
              "25%     25.000000   204.000000  153.250000   119.000000   105.000000  \n",
              "50%     64.000000   208.000000  155.500000   151.000000   160.000000  \n",
              "75%    106.000000   316.000000  203.500000   205.750000   205.000000  \n",
              "max    313.000000  1849.000000  305.000000   636.000000   405.000000  "
            ]
          },
          "metadata": {},
          "output_type": "display_data"
        }
      ],
      "source": [
        "info_describe('Данные о подаче сыпучих материалов (объём)', data_bulk)"
      ]
    },
    {
      "cell_type": "code",
      "execution_count": null,
      "metadata": {
        "colab": {
          "base_uri": "https://localhost:8080/",
          "height": 926
        },
        "id": "Ji__GjrmBXx4",
        "outputId": "4d5fc073-c5bc-4c3c-e4db-2874d6663345",
        "scrolled": false
      },
      "outputs": [
        {
          "name": "stdout",
          "output_type": "stream",
          "text": [
            "Данные о подаче сыпучих материалов (время)\n",
            "----------------------------------------\n",
            "<class 'pandas.core.frame.DataFrame'>\n",
            "RangeIndex: 3129 entries, 0 to 3128\n",
            "Data columns (total 16 columns):\n",
            " #   Column   Non-Null Count  Dtype \n",
            "---  ------   --------------  ----- \n",
            " 0   key      3129 non-null   int64 \n",
            " 1   Bulk 1   252 non-null    object\n",
            " 2   Bulk 2   22 non-null     object\n",
            " 3   Bulk 3   1298 non-null   object\n",
            " 4   Bulk 4   1014 non-null   object\n",
            " 5   Bulk 5   77 non-null     object\n",
            " 6   Bulk 6   576 non-null    object\n",
            " 7   Bulk 7   25 non-null     object\n",
            " 8   Bulk 8   1 non-null      object\n",
            " 9   Bulk 9   19 non-null     object\n",
            " 10  Bulk 10  176 non-null    object\n",
            " 11  Bulk 11  177 non-null    object\n",
            " 12  Bulk 12  2450 non-null   object\n",
            " 13  Bulk 13  18 non-null     object\n",
            " 14  Bulk 14  2806 non-null   object\n",
            " 15  Bulk 15  2248 non-null   object\n",
            "dtypes: int64(1), object(15)\n",
            "memory usage: 391.2+ KB\n",
            "None\n"
          ]
        },
        {
          "data": {
            "text/html": [
              "<div>\n",
              "<style scoped>\n",
              "    .dataframe tbody tr th:only-of-type {\n",
              "        vertical-align: middle;\n",
              "    }\n",
              "\n",
              "    .dataframe tbody tr th {\n",
              "        vertical-align: top;\n",
              "    }\n",
              "\n",
              "    .dataframe thead th {\n",
              "        text-align: right;\n",
              "    }\n",
              "</style>\n",
              "<table border=\"1\" class=\"dataframe\">\n",
              "  <thead>\n",
              "    <tr style=\"text-align: right;\">\n",
              "      <th></th>\n",
              "      <th>key</th>\n",
              "      <th>Bulk 1</th>\n",
              "      <th>Bulk 2</th>\n",
              "      <th>Bulk 3</th>\n",
              "      <th>Bulk 4</th>\n",
              "      <th>Bulk 5</th>\n",
              "      <th>Bulk 6</th>\n",
              "      <th>Bulk 7</th>\n",
              "      <th>Bulk 8</th>\n",
              "      <th>Bulk 9</th>\n",
              "      <th>Bulk 10</th>\n",
              "      <th>Bulk 11</th>\n",
              "      <th>Bulk 12</th>\n",
              "      <th>Bulk 13</th>\n",
              "      <th>Bulk 14</th>\n",
              "      <th>Bulk 15</th>\n",
              "    </tr>\n",
              "  </thead>\n",
              "  <tbody>\n",
              "    <tr>\n",
              "      <th>0</th>\n",
              "      <td>1</td>\n",
              "      <td>NaN</td>\n",
              "      <td>NaN</td>\n",
              "      <td>NaN</td>\n",
              "      <td>2019-05-03 11:21:30</td>\n",
              "      <td>NaN</td>\n",
              "      <td>NaN</td>\n",
              "      <td>NaN</td>\n",
              "      <td>NaN</td>\n",
              "      <td>NaN</td>\n",
              "      <td>NaN</td>\n",
              "      <td>NaN</td>\n",
              "      <td>2019-05-03 11:03:52</td>\n",
              "      <td>NaN</td>\n",
              "      <td>2019-05-03 11:03:52</td>\n",
              "      <td>2019-05-03 11:03:52</td>\n",
              "    </tr>\n",
              "    <tr>\n",
              "      <th>1</th>\n",
              "      <td>2</td>\n",
              "      <td>NaN</td>\n",
              "      <td>NaN</td>\n",
              "      <td>NaN</td>\n",
              "      <td>2019-05-03 11:46:38</td>\n",
              "      <td>NaN</td>\n",
              "      <td>NaN</td>\n",
              "      <td>NaN</td>\n",
              "      <td>NaN</td>\n",
              "      <td>NaN</td>\n",
              "      <td>NaN</td>\n",
              "      <td>NaN</td>\n",
              "      <td>2019-05-03 11:40:20</td>\n",
              "      <td>NaN</td>\n",
              "      <td>2019-05-03 11:40:20</td>\n",
              "      <td>2019-05-03 11:40:20</td>\n",
              "    </tr>\n",
              "    <tr>\n",
              "      <th>2</th>\n",
              "      <td>3</td>\n",
              "      <td>NaN</td>\n",
              "      <td>NaN</td>\n",
              "      <td>NaN</td>\n",
              "      <td>2019-05-03 12:31:06</td>\n",
              "      <td>NaN</td>\n",
              "      <td>NaN</td>\n",
              "      <td>NaN</td>\n",
              "      <td>NaN</td>\n",
              "      <td>NaN</td>\n",
              "      <td>NaN</td>\n",
              "      <td>NaN</td>\n",
              "      <td>2019-05-03 12:09:40</td>\n",
              "      <td>NaN</td>\n",
              "      <td>2019-05-03 12:09:40</td>\n",
              "      <td>2019-05-03 12:09:40</td>\n",
              "    </tr>\n",
              "    <tr>\n",
              "      <th>3</th>\n",
              "      <td>4</td>\n",
              "      <td>NaN</td>\n",
              "      <td>NaN</td>\n",
              "      <td>NaN</td>\n",
              "      <td>2019-05-03 12:48:43</td>\n",
              "      <td>NaN</td>\n",
              "      <td>NaN</td>\n",
              "      <td>NaN</td>\n",
              "      <td>NaN</td>\n",
              "      <td>NaN</td>\n",
              "      <td>NaN</td>\n",
              "      <td>NaN</td>\n",
              "      <td>2019-05-03 12:41:24</td>\n",
              "      <td>NaN</td>\n",
              "      <td>2019-05-03 12:41:24</td>\n",
              "      <td>2019-05-03 12:41:24</td>\n",
              "    </tr>\n",
              "    <tr>\n",
              "      <th>4</th>\n",
              "      <td>5</td>\n",
              "      <td>NaN</td>\n",
              "      <td>NaN</td>\n",
              "      <td>NaN</td>\n",
              "      <td>2019-05-03 13:18:50</td>\n",
              "      <td>NaN</td>\n",
              "      <td>NaN</td>\n",
              "      <td>NaN</td>\n",
              "      <td>NaN</td>\n",
              "      <td>NaN</td>\n",
              "      <td>NaN</td>\n",
              "      <td>NaN</td>\n",
              "      <td>2019-05-03 13:12:56</td>\n",
              "      <td>NaN</td>\n",
              "      <td>2019-05-03 13:12:56</td>\n",
              "      <td>2019-05-03 13:12:56</td>\n",
              "    </tr>\n",
              "  </tbody>\n",
              "</table>\n",
              "</div>"
            ],
            "text/plain": [
              "   key Bulk 1 Bulk 2 Bulk 3               Bulk 4 Bulk 5 Bulk 6 Bulk 7 Bulk 8  \\\n",
              "0    1    NaN    NaN    NaN  2019-05-03 11:21:30    NaN    NaN    NaN    NaN   \n",
              "1    2    NaN    NaN    NaN  2019-05-03 11:46:38    NaN    NaN    NaN    NaN   \n",
              "2    3    NaN    NaN    NaN  2019-05-03 12:31:06    NaN    NaN    NaN    NaN   \n",
              "3    4    NaN    NaN    NaN  2019-05-03 12:48:43    NaN    NaN    NaN    NaN   \n",
              "4    5    NaN    NaN    NaN  2019-05-03 13:18:50    NaN    NaN    NaN    NaN   \n",
              "\n",
              "  Bulk 9 Bulk 10 Bulk 11              Bulk 12 Bulk 13              Bulk 14  \\\n",
              "0    NaN     NaN     NaN  2019-05-03 11:03:52     NaN  2019-05-03 11:03:52   \n",
              "1    NaN     NaN     NaN  2019-05-03 11:40:20     NaN  2019-05-03 11:40:20   \n",
              "2    NaN     NaN     NaN  2019-05-03 12:09:40     NaN  2019-05-03 12:09:40   \n",
              "3    NaN     NaN     NaN  2019-05-03 12:41:24     NaN  2019-05-03 12:41:24   \n",
              "4    NaN     NaN     NaN  2019-05-03 13:12:56     NaN  2019-05-03 13:12:56   \n",
              "\n",
              "               Bulk 15  \n",
              "0  2019-05-03 11:03:52  \n",
              "1  2019-05-03 11:40:20  \n",
              "2  2019-05-03 12:09:40  \n",
              "3  2019-05-03 12:41:24  \n",
              "4  2019-05-03 13:12:56  "
            ]
          },
          "metadata": {},
          "output_type": "display_data"
        },
        {
          "data": {
            "text/html": [
              "<div>\n",
              "<style scoped>\n",
              "    .dataframe tbody tr th:only-of-type {\n",
              "        vertical-align: middle;\n",
              "    }\n",
              "\n",
              "    .dataframe tbody tr th {\n",
              "        vertical-align: top;\n",
              "    }\n",
              "\n",
              "    .dataframe thead th {\n",
              "        text-align: right;\n",
              "    }\n",
              "</style>\n",
              "<table border=\"1\" class=\"dataframe\">\n",
              "  <thead>\n",
              "    <tr style=\"text-align: right;\">\n",
              "      <th></th>\n",
              "      <th>key</th>\n",
              "    </tr>\n",
              "  </thead>\n",
              "  <tbody>\n",
              "    <tr>\n",
              "      <th>count</th>\n",
              "      <td>3129.000000</td>\n",
              "    </tr>\n",
              "    <tr>\n",
              "      <th>mean</th>\n",
              "      <td>1624.383509</td>\n",
              "    </tr>\n",
              "    <tr>\n",
              "      <th>std</th>\n",
              "      <td>933.337642</td>\n",
              "    </tr>\n",
              "    <tr>\n",
              "      <th>min</th>\n",
              "      <td>1.000000</td>\n",
              "    </tr>\n",
              "    <tr>\n",
              "      <th>25%</th>\n",
              "      <td>816.000000</td>\n",
              "    </tr>\n",
              "    <tr>\n",
              "      <th>50%</th>\n",
              "      <td>1622.000000</td>\n",
              "    </tr>\n",
              "    <tr>\n",
              "      <th>75%</th>\n",
              "      <td>2431.000000</td>\n",
              "    </tr>\n",
              "    <tr>\n",
              "      <th>max</th>\n",
              "      <td>3241.000000</td>\n",
              "    </tr>\n",
              "  </tbody>\n",
              "</table>\n",
              "</div>"
            ],
            "text/plain": [
              "               key\n",
              "count  3129.000000\n",
              "mean   1624.383509\n",
              "std     933.337642\n",
              "min       1.000000\n",
              "25%     816.000000\n",
              "50%    1622.000000\n",
              "75%    2431.000000\n",
              "max    3241.000000"
            ]
          },
          "metadata": {},
          "output_type": "display_data"
        }
      ],
      "source": [
        "info_describe('Данные о подаче сыпучих материалов (время)', data_bulk_time)"
      ]
    },
    {
      "cell_type": "code",
      "execution_count": null,
      "metadata": {
        "colab": {
          "base_uri": "https://localhost:8080/",
          "height": 688
        },
        "id": "6w09hmW_BXx5",
        "outputId": "7e7f58a2-7698-40df-dafd-a2efd8ba64f3",
        "scrolled": false
      },
      "outputs": [
        {
          "name": "stdout",
          "output_type": "stream",
          "text": [
            "Данные о продувке сплава газом\n",
            "----------------------------------------\n",
            "<class 'pandas.core.frame.DataFrame'>\n",
            "RangeIndex: 3239 entries, 0 to 3238\n",
            "Data columns (total 2 columns):\n",
            " #   Column  Non-Null Count  Dtype  \n",
            "---  ------  --------------  -----  \n",
            " 0   key     3239 non-null   int64  \n",
            " 1   Газ 1   3239 non-null   float64\n",
            "dtypes: float64(1), int64(1)\n",
            "memory usage: 50.7 KB\n",
            "None\n"
          ]
        },
        {
          "data": {
            "text/html": [
              "<div>\n",
              "<style scoped>\n",
              "    .dataframe tbody tr th:only-of-type {\n",
              "        vertical-align: middle;\n",
              "    }\n",
              "\n",
              "    .dataframe tbody tr th {\n",
              "        vertical-align: top;\n",
              "    }\n",
              "\n",
              "    .dataframe thead th {\n",
              "        text-align: right;\n",
              "    }\n",
              "</style>\n",
              "<table border=\"1\" class=\"dataframe\">\n",
              "  <thead>\n",
              "    <tr style=\"text-align: right;\">\n",
              "      <th></th>\n",
              "      <th>key</th>\n",
              "      <th>Газ 1</th>\n",
              "    </tr>\n",
              "  </thead>\n",
              "  <tbody>\n",
              "    <tr>\n",
              "      <th>0</th>\n",
              "      <td>1</td>\n",
              "      <td>29.749986</td>\n",
              "    </tr>\n",
              "    <tr>\n",
              "      <th>1</th>\n",
              "      <td>2</td>\n",
              "      <td>12.555561</td>\n",
              "    </tr>\n",
              "    <tr>\n",
              "      <th>2</th>\n",
              "      <td>3</td>\n",
              "      <td>28.554793</td>\n",
              "    </tr>\n",
              "    <tr>\n",
              "      <th>3</th>\n",
              "      <td>4</td>\n",
              "      <td>18.841219</td>\n",
              "    </tr>\n",
              "    <tr>\n",
              "      <th>4</th>\n",
              "      <td>5</td>\n",
              "      <td>5.413692</td>\n",
              "    </tr>\n",
              "  </tbody>\n",
              "</table>\n",
              "</div>"
            ],
            "text/plain": [
              "   key      Газ 1\n",
              "0    1  29.749986\n",
              "1    2  12.555561\n",
              "2    3  28.554793\n",
              "3    4  18.841219\n",
              "4    5   5.413692"
            ]
          },
          "metadata": {},
          "output_type": "display_data"
        },
        {
          "data": {
            "text/html": [
              "<div>\n",
              "<style scoped>\n",
              "    .dataframe tbody tr th:only-of-type {\n",
              "        vertical-align: middle;\n",
              "    }\n",
              "\n",
              "    .dataframe tbody tr th {\n",
              "        vertical-align: top;\n",
              "    }\n",
              "\n",
              "    .dataframe thead th {\n",
              "        text-align: right;\n",
              "    }\n",
              "</style>\n",
              "<table border=\"1\" class=\"dataframe\">\n",
              "  <thead>\n",
              "    <tr style=\"text-align: right;\">\n",
              "      <th></th>\n",
              "      <th>key</th>\n",
              "      <th>Газ 1</th>\n",
              "    </tr>\n",
              "  </thead>\n",
              "  <tbody>\n",
              "    <tr>\n",
              "      <th>count</th>\n",
              "      <td>3239.000000</td>\n",
              "      <td>3239.000000</td>\n",
              "    </tr>\n",
              "    <tr>\n",
              "      <th>mean</th>\n",
              "      <td>1621.861377</td>\n",
              "      <td>11.002062</td>\n",
              "    </tr>\n",
              "    <tr>\n",
              "      <th>std</th>\n",
              "      <td>935.386334</td>\n",
              "      <td>6.220327</td>\n",
              "    </tr>\n",
              "    <tr>\n",
              "      <th>min</th>\n",
              "      <td>1.000000</td>\n",
              "      <td>0.008399</td>\n",
              "    </tr>\n",
              "    <tr>\n",
              "      <th>25%</th>\n",
              "      <td>812.500000</td>\n",
              "      <td>7.043089</td>\n",
              "    </tr>\n",
              "    <tr>\n",
              "      <th>50%</th>\n",
              "      <td>1622.000000</td>\n",
              "      <td>9.836267</td>\n",
              "    </tr>\n",
              "    <tr>\n",
              "      <th>75%</th>\n",
              "      <td>2431.500000</td>\n",
              "      <td>13.769915</td>\n",
              "    </tr>\n",
              "    <tr>\n",
              "      <th>max</th>\n",
              "      <td>3241.000000</td>\n",
              "      <td>77.995040</td>\n",
              "    </tr>\n",
              "  </tbody>\n",
              "</table>\n",
              "</div>"
            ],
            "text/plain": [
              "               key        Газ 1\n",
              "count  3239.000000  3239.000000\n",
              "mean   1621.861377    11.002062\n",
              "std     935.386334     6.220327\n",
              "min       1.000000     0.008399\n",
              "25%     812.500000     7.043089\n",
              "50%    1622.000000     9.836267\n",
              "75%    2431.500000    13.769915\n",
              "max    3241.000000    77.995040"
            ]
          },
          "metadata": {},
          "output_type": "display_data"
        }
      ],
      "source": [
        "info_describe('Данные о продувке сплава газом', data_gas)"
      ]
    },
    {
      "cell_type": "code",
      "execution_count": null,
      "metadata": {
        "colab": {
          "base_uri": "https://localhost:8080/",
          "height": 705
        },
        "id": "x652exnlBXx5",
        "outputId": "cde96ff1-87a4-4946-d53d-abfbb79d2efb",
        "scrolled": false
      },
      "outputs": [
        {
          "name": "stdout",
          "output_type": "stream",
          "text": [
            "Результаты измерения температуры\n",
            "----------------------------------------\n",
            "<class 'pandas.core.frame.DataFrame'>\n",
            "RangeIndex: 15907 entries, 0 to 15906\n",
            "Data columns (total 3 columns):\n",
            " #   Column        Non-Null Count  Dtype  \n",
            "---  ------        --------------  -----  \n",
            " 0   key           15907 non-null  int64  \n",
            " 1   Время замера  15907 non-null  object \n",
            " 2   Температура   13006 non-null  float64\n",
            "dtypes: float64(1), int64(1), object(1)\n",
            "memory usage: 372.9+ KB\n",
            "None\n"
          ]
        },
        {
          "data": {
            "text/html": [
              "<div>\n",
              "<style scoped>\n",
              "    .dataframe tbody tr th:only-of-type {\n",
              "        vertical-align: middle;\n",
              "    }\n",
              "\n",
              "    .dataframe tbody tr th {\n",
              "        vertical-align: top;\n",
              "    }\n",
              "\n",
              "    .dataframe thead th {\n",
              "        text-align: right;\n",
              "    }\n",
              "</style>\n",
              "<table border=\"1\" class=\"dataframe\">\n",
              "  <thead>\n",
              "    <tr style=\"text-align: right;\">\n",
              "      <th></th>\n",
              "      <th>key</th>\n",
              "      <th>Время замера</th>\n",
              "      <th>Температура</th>\n",
              "    </tr>\n",
              "  </thead>\n",
              "  <tbody>\n",
              "    <tr>\n",
              "      <th>0</th>\n",
              "      <td>1</td>\n",
              "      <td>2019-05-03 11:16:18</td>\n",
              "      <td>1571.0</td>\n",
              "    </tr>\n",
              "    <tr>\n",
              "      <th>1</th>\n",
              "      <td>1</td>\n",
              "      <td>2019-05-03 11:25:53</td>\n",
              "      <td>1604.0</td>\n",
              "    </tr>\n",
              "    <tr>\n",
              "      <th>2</th>\n",
              "      <td>1</td>\n",
              "      <td>2019-05-03 11:29:11</td>\n",
              "      <td>1618.0</td>\n",
              "    </tr>\n",
              "    <tr>\n",
              "      <th>3</th>\n",
              "      <td>1</td>\n",
              "      <td>2019-05-03 11:30:01</td>\n",
              "      <td>1601.0</td>\n",
              "    </tr>\n",
              "    <tr>\n",
              "      <th>4</th>\n",
              "      <td>1</td>\n",
              "      <td>2019-05-03 11:30:39</td>\n",
              "      <td>1613.0</td>\n",
              "    </tr>\n",
              "  </tbody>\n",
              "</table>\n",
              "</div>"
            ],
            "text/plain": [
              "   key         Время замера  Температура\n",
              "0    1  2019-05-03 11:16:18       1571.0\n",
              "1    1  2019-05-03 11:25:53       1604.0\n",
              "2    1  2019-05-03 11:29:11       1618.0\n",
              "3    1  2019-05-03 11:30:01       1601.0\n",
              "4    1  2019-05-03 11:30:39       1613.0"
            ]
          },
          "metadata": {},
          "output_type": "display_data"
        },
        {
          "data": {
            "text/html": [
              "<div>\n",
              "<style scoped>\n",
              "    .dataframe tbody tr th:only-of-type {\n",
              "        vertical-align: middle;\n",
              "    }\n",
              "\n",
              "    .dataframe tbody tr th {\n",
              "        vertical-align: top;\n",
              "    }\n",
              "\n",
              "    .dataframe thead th {\n",
              "        text-align: right;\n",
              "    }\n",
              "</style>\n",
              "<table border=\"1\" class=\"dataframe\">\n",
              "  <thead>\n",
              "    <tr style=\"text-align: right;\">\n",
              "      <th></th>\n",
              "      <th>key</th>\n",
              "      <th>Температура</th>\n",
              "    </tr>\n",
              "  </thead>\n",
              "  <tbody>\n",
              "    <tr>\n",
              "      <th>count</th>\n",
              "      <td>15907.000000</td>\n",
              "      <td>13006.000000</td>\n",
              "    </tr>\n",
              "    <tr>\n",
              "      <th>mean</th>\n",
              "      <td>1607.880870</td>\n",
              "      <td>1591.840920</td>\n",
              "    </tr>\n",
              "    <tr>\n",
              "      <th>std</th>\n",
              "      <td>942.212073</td>\n",
              "      <td>21.375851</td>\n",
              "    </tr>\n",
              "    <tr>\n",
              "      <th>min</th>\n",
              "      <td>1.000000</td>\n",
              "      <td>1191.000000</td>\n",
              "    </tr>\n",
              "    <tr>\n",
              "      <th>25%</th>\n",
              "      <td>790.000000</td>\n",
              "      <td>1581.000000</td>\n",
              "    </tr>\n",
              "    <tr>\n",
              "      <th>50%</th>\n",
              "      <td>1618.000000</td>\n",
              "      <td>1591.000000</td>\n",
              "    </tr>\n",
              "    <tr>\n",
              "      <th>75%</th>\n",
              "      <td>2427.000000</td>\n",
              "      <td>1601.000000</td>\n",
              "    </tr>\n",
              "    <tr>\n",
              "      <th>max</th>\n",
              "      <td>3241.000000</td>\n",
              "      <td>1705.000000</td>\n",
              "    </tr>\n",
              "  </tbody>\n",
              "</table>\n",
              "</div>"
            ],
            "text/plain": [
              "                key   Температура\n",
              "count  15907.000000  13006.000000\n",
              "mean    1607.880870   1591.840920\n",
              "std      942.212073     21.375851\n",
              "min        1.000000   1191.000000\n",
              "25%      790.000000   1581.000000\n",
              "50%     1618.000000   1591.000000\n",
              "75%     2427.000000   1601.000000\n",
              "max     3241.000000   1705.000000"
            ]
          },
          "metadata": {},
          "output_type": "display_data"
        }
      ],
      "source": [
        "info_describe('Результаты измерения температуры', data_temp)"
      ]
    },
    {
      "cell_type": "code",
      "execution_count": null,
      "metadata": {
        "colab": {
          "base_uri": "https://localhost:8080/",
          "height": 824
        },
        "id": "4ZvZbbeXBXx6",
        "outputId": "88a8d609-edf5-4408-b0d4-4444dd165767",
        "scrolled": false
      },
      "outputs": [
        {
          "name": "stdout",
          "output_type": "stream",
          "text": [
            "Данные о проволочных материалах (объём)\n",
            "----------------------------------------\n",
            "<class 'pandas.core.frame.DataFrame'>\n",
            "RangeIndex: 3081 entries, 0 to 3080\n",
            "Data columns (total 10 columns):\n",
            " #   Column  Non-Null Count  Dtype  \n",
            "---  ------  --------------  -----  \n",
            " 0   key     3081 non-null   int64  \n",
            " 1   Wire 1  3055 non-null   float64\n",
            " 2   Wire 2  1079 non-null   float64\n",
            " 3   Wire 3  63 non-null     float64\n",
            " 4   Wire 4  14 non-null     float64\n",
            " 5   Wire 5  1 non-null      float64\n",
            " 6   Wire 6  73 non-null     float64\n",
            " 7   Wire 7  11 non-null     float64\n",
            " 8   Wire 8  19 non-null     float64\n",
            " 9   Wire 9  29 non-null     float64\n",
            "dtypes: float64(9), int64(1)\n",
            "memory usage: 240.8 KB\n",
            "None\n"
          ]
        },
        {
          "data": {
            "text/html": [
              "<div>\n",
              "<style scoped>\n",
              "    .dataframe tbody tr th:only-of-type {\n",
              "        vertical-align: middle;\n",
              "    }\n",
              "\n",
              "    .dataframe tbody tr th {\n",
              "        vertical-align: top;\n",
              "    }\n",
              "\n",
              "    .dataframe thead th {\n",
              "        text-align: right;\n",
              "    }\n",
              "</style>\n",
              "<table border=\"1\" class=\"dataframe\">\n",
              "  <thead>\n",
              "    <tr style=\"text-align: right;\">\n",
              "      <th></th>\n",
              "      <th>key</th>\n",
              "      <th>Wire 1</th>\n",
              "      <th>Wire 2</th>\n",
              "      <th>Wire 3</th>\n",
              "      <th>Wire 4</th>\n",
              "      <th>Wire 5</th>\n",
              "      <th>Wire 6</th>\n",
              "      <th>Wire 7</th>\n",
              "      <th>Wire 8</th>\n",
              "      <th>Wire 9</th>\n",
              "    </tr>\n",
              "  </thead>\n",
              "  <tbody>\n",
              "    <tr>\n",
              "      <th>0</th>\n",
              "      <td>1</td>\n",
              "      <td>60.059998</td>\n",
              "      <td>NaN</td>\n",
              "      <td>NaN</td>\n",
              "      <td>NaN</td>\n",
              "      <td>NaN</td>\n",
              "      <td>NaN</td>\n",
              "      <td>NaN</td>\n",
              "      <td>NaN</td>\n",
              "      <td>NaN</td>\n",
              "    </tr>\n",
              "    <tr>\n",
              "      <th>1</th>\n",
              "      <td>2</td>\n",
              "      <td>96.052315</td>\n",
              "      <td>NaN</td>\n",
              "      <td>NaN</td>\n",
              "      <td>NaN</td>\n",
              "      <td>NaN</td>\n",
              "      <td>NaN</td>\n",
              "      <td>NaN</td>\n",
              "      <td>NaN</td>\n",
              "      <td>NaN</td>\n",
              "    </tr>\n",
              "    <tr>\n",
              "      <th>2</th>\n",
              "      <td>3</td>\n",
              "      <td>91.160157</td>\n",
              "      <td>NaN</td>\n",
              "      <td>NaN</td>\n",
              "      <td>NaN</td>\n",
              "      <td>NaN</td>\n",
              "      <td>NaN</td>\n",
              "      <td>NaN</td>\n",
              "      <td>NaN</td>\n",
              "      <td>NaN</td>\n",
              "    </tr>\n",
              "    <tr>\n",
              "      <th>3</th>\n",
              "      <td>4</td>\n",
              "      <td>89.063515</td>\n",
              "      <td>NaN</td>\n",
              "      <td>NaN</td>\n",
              "      <td>NaN</td>\n",
              "      <td>NaN</td>\n",
              "      <td>NaN</td>\n",
              "      <td>NaN</td>\n",
              "      <td>NaN</td>\n",
              "      <td>NaN</td>\n",
              "    </tr>\n",
              "    <tr>\n",
              "      <th>4</th>\n",
              "      <td>5</td>\n",
              "      <td>89.238236</td>\n",
              "      <td>9.11456</td>\n",
              "      <td>NaN</td>\n",
              "      <td>NaN</td>\n",
              "      <td>NaN</td>\n",
              "      <td>NaN</td>\n",
              "      <td>NaN</td>\n",
              "      <td>NaN</td>\n",
              "      <td>NaN</td>\n",
              "    </tr>\n",
              "  </tbody>\n",
              "</table>\n",
              "</div>"
            ],
            "text/plain": [
              "   key     Wire 1   Wire 2  Wire 3  Wire 4  Wire 5  Wire 6  Wire 7  Wire 8  \\\n",
              "0    1  60.059998      NaN     NaN     NaN     NaN     NaN     NaN     NaN   \n",
              "1    2  96.052315      NaN     NaN     NaN     NaN     NaN     NaN     NaN   \n",
              "2    3  91.160157      NaN     NaN     NaN     NaN     NaN     NaN     NaN   \n",
              "3    4  89.063515      NaN     NaN     NaN     NaN     NaN     NaN     NaN   \n",
              "4    5  89.238236  9.11456     NaN     NaN     NaN     NaN     NaN     NaN   \n",
              "\n",
              "   Wire 9  \n",
              "0     NaN  \n",
              "1     NaN  \n",
              "2     NaN  \n",
              "3     NaN  \n",
              "4     NaN  "
            ]
          },
          "metadata": {},
          "output_type": "display_data"
        },
        {
          "data": {
            "text/html": [
              "<div>\n",
              "<style scoped>\n",
              "    .dataframe tbody tr th:only-of-type {\n",
              "        vertical-align: middle;\n",
              "    }\n",
              "\n",
              "    .dataframe tbody tr th {\n",
              "        vertical-align: top;\n",
              "    }\n",
              "\n",
              "    .dataframe thead th {\n",
              "        text-align: right;\n",
              "    }\n",
              "</style>\n",
              "<table border=\"1\" class=\"dataframe\">\n",
              "  <thead>\n",
              "    <tr style=\"text-align: right;\">\n",
              "      <th></th>\n",
              "      <th>key</th>\n",
              "      <th>Wire 1</th>\n",
              "      <th>Wire 2</th>\n",
              "      <th>Wire 3</th>\n",
              "      <th>Wire 4</th>\n",
              "      <th>Wire 5</th>\n",
              "      <th>Wire 6</th>\n",
              "      <th>Wire 7</th>\n",
              "      <th>Wire 8</th>\n",
              "      <th>Wire 9</th>\n",
              "    </tr>\n",
              "  </thead>\n",
              "  <tbody>\n",
              "    <tr>\n",
              "      <th>count</th>\n",
              "      <td>3081.000000</td>\n",
              "      <td>3055.000000</td>\n",
              "      <td>1079.000000</td>\n",
              "      <td>63.000000</td>\n",
              "      <td>14.000000</td>\n",
              "      <td>1.000</td>\n",
              "      <td>73.000000</td>\n",
              "      <td>11.000000</td>\n",
              "      <td>19.000000</td>\n",
              "      <td>29.000000</td>\n",
              "    </tr>\n",
              "    <tr>\n",
              "      <th>mean</th>\n",
              "      <td>1623.426485</td>\n",
              "      <td>100.895853</td>\n",
              "      <td>50.577323</td>\n",
              "      <td>189.482681</td>\n",
              "      <td>57.442841</td>\n",
              "      <td>15.132</td>\n",
              "      <td>48.016974</td>\n",
              "      <td>10.039007</td>\n",
              "      <td>53.625193</td>\n",
              "      <td>34.155752</td>\n",
              "    </tr>\n",
              "    <tr>\n",
              "      <th>std</th>\n",
              "      <td>932.996726</td>\n",
              "      <td>42.012518</td>\n",
              "      <td>39.320216</td>\n",
              "      <td>99.513444</td>\n",
              "      <td>28.824667</td>\n",
              "      <td>NaN</td>\n",
              "      <td>33.919845</td>\n",
              "      <td>8.610584</td>\n",
              "      <td>16.881728</td>\n",
              "      <td>19.931616</td>\n",
              "    </tr>\n",
              "    <tr>\n",
              "      <th>min</th>\n",
              "      <td>1.000000</td>\n",
              "      <td>1.918800</td>\n",
              "      <td>0.030160</td>\n",
              "      <td>0.144144</td>\n",
              "      <td>24.148801</td>\n",
              "      <td>15.132</td>\n",
              "      <td>0.034320</td>\n",
              "      <td>0.234208</td>\n",
              "      <td>45.076721</td>\n",
              "      <td>4.622800</td>\n",
              "    </tr>\n",
              "    <tr>\n",
              "      <th>25%</th>\n",
              "      <td>823.000000</td>\n",
              "      <td>72.115684</td>\n",
              "      <td>20.193680</td>\n",
              "      <td>95.135044</td>\n",
              "      <td>40.807002</td>\n",
              "      <td>15.132</td>\n",
              "      <td>25.053600</td>\n",
              "      <td>6.762756</td>\n",
              "      <td>46.094879</td>\n",
              "      <td>22.058401</td>\n",
              "    </tr>\n",
              "    <tr>\n",
              "      <th>50%</th>\n",
              "      <td>1619.000000</td>\n",
              "      <td>100.158234</td>\n",
              "      <td>40.142956</td>\n",
              "      <td>235.194977</td>\n",
              "      <td>45.234282</td>\n",
              "      <td>15.132</td>\n",
              "      <td>42.076324</td>\n",
              "      <td>9.017009</td>\n",
              "      <td>46.279999</td>\n",
              "      <td>30.066399</td>\n",
              "    </tr>\n",
              "    <tr>\n",
              "      <th>75%</th>\n",
              "      <td>2434.000000</td>\n",
              "      <td>126.060483</td>\n",
              "      <td>70.227558</td>\n",
              "      <td>276.252014</td>\n",
              "      <td>76.124619</td>\n",
              "      <td>15.132</td>\n",
              "      <td>64.212723</td>\n",
              "      <td>11.886057</td>\n",
              "      <td>48.089603</td>\n",
              "      <td>43.862003</td>\n",
              "    </tr>\n",
              "    <tr>\n",
              "      <th>max</th>\n",
              "      <td>3241.000000</td>\n",
              "      <td>330.314424</td>\n",
              "      <td>282.780152</td>\n",
              "      <td>385.008668</td>\n",
              "      <td>113.231044</td>\n",
              "      <td>15.132</td>\n",
              "      <td>180.454575</td>\n",
              "      <td>32.847674</td>\n",
              "      <td>102.762401</td>\n",
              "      <td>90.053604</td>\n",
              "    </tr>\n",
              "  </tbody>\n",
              "</table>\n",
              "</div>"
            ],
            "text/plain": [
              "               key       Wire 1       Wire 2      Wire 3      Wire 4  Wire 5  \\\n",
              "count  3081.000000  3055.000000  1079.000000   63.000000   14.000000   1.000   \n",
              "mean   1623.426485   100.895853    50.577323  189.482681   57.442841  15.132   \n",
              "std     932.996726    42.012518    39.320216   99.513444   28.824667     NaN   \n",
              "min       1.000000     1.918800     0.030160    0.144144   24.148801  15.132   \n",
              "25%     823.000000    72.115684    20.193680   95.135044   40.807002  15.132   \n",
              "50%    1619.000000   100.158234    40.142956  235.194977   45.234282  15.132   \n",
              "75%    2434.000000   126.060483    70.227558  276.252014   76.124619  15.132   \n",
              "max    3241.000000   330.314424   282.780152  385.008668  113.231044  15.132   \n",
              "\n",
              "           Wire 6     Wire 7      Wire 8     Wire 9  \n",
              "count   73.000000  11.000000   19.000000  29.000000  \n",
              "mean    48.016974  10.039007   53.625193  34.155752  \n",
              "std     33.919845   8.610584   16.881728  19.931616  \n",
              "min      0.034320   0.234208   45.076721   4.622800  \n",
              "25%     25.053600   6.762756   46.094879  22.058401  \n",
              "50%     42.076324   9.017009   46.279999  30.066399  \n",
              "75%     64.212723  11.886057   48.089603  43.862003  \n",
              "max    180.454575  32.847674  102.762401  90.053604  "
            ]
          },
          "metadata": {},
          "output_type": "display_data"
        }
      ],
      "source": [
        "info_describe('Данные о проволочных материалах (объём)', data_wire)"
      ]
    },
    {
      "cell_type": "code",
      "execution_count": null,
      "metadata": {
        "colab": {
          "base_uri": "https://localhost:8080/",
          "height": 824
        },
        "id": "I5AelSzhBXx6",
        "outputId": "a8815148-a03d-49a7-9e68-140a235a5047",
        "scrolled": false
      },
      "outputs": [
        {
          "name": "stdout",
          "output_type": "stream",
          "text": [
            "Данные о проволочных материалах (время)\n",
            "----------------------------------------\n",
            "<class 'pandas.core.frame.DataFrame'>\n",
            "RangeIndex: 3081 entries, 0 to 3080\n",
            "Data columns (total 10 columns):\n",
            " #   Column  Non-Null Count  Dtype \n",
            "---  ------  --------------  ----- \n",
            " 0   key     3081 non-null   int64 \n",
            " 1   Wire 1  3055 non-null   object\n",
            " 2   Wire 2  1079 non-null   object\n",
            " 3   Wire 3  63 non-null     object\n",
            " 4   Wire 4  14 non-null     object\n",
            " 5   Wire 5  1 non-null      object\n",
            " 6   Wire 6  73 non-null     object\n",
            " 7   Wire 7  11 non-null     object\n",
            " 8   Wire 8  19 non-null     object\n",
            " 9   Wire 9  29 non-null     object\n",
            "dtypes: int64(1), object(9)\n",
            "memory usage: 240.8+ KB\n",
            "None\n"
          ]
        },
        {
          "data": {
            "text/html": [
              "<div>\n",
              "<style scoped>\n",
              "    .dataframe tbody tr th:only-of-type {\n",
              "        vertical-align: middle;\n",
              "    }\n",
              "\n",
              "    .dataframe tbody tr th {\n",
              "        vertical-align: top;\n",
              "    }\n",
              "\n",
              "    .dataframe thead th {\n",
              "        text-align: right;\n",
              "    }\n",
              "</style>\n",
              "<table border=\"1\" class=\"dataframe\">\n",
              "  <thead>\n",
              "    <tr style=\"text-align: right;\">\n",
              "      <th></th>\n",
              "      <th>key</th>\n",
              "      <th>Wire 1</th>\n",
              "      <th>Wire 2</th>\n",
              "      <th>Wire 3</th>\n",
              "      <th>Wire 4</th>\n",
              "      <th>Wire 5</th>\n",
              "      <th>Wire 6</th>\n",
              "      <th>Wire 7</th>\n",
              "      <th>Wire 8</th>\n",
              "      <th>Wire 9</th>\n",
              "    </tr>\n",
              "  </thead>\n",
              "  <tbody>\n",
              "    <tr>\n",
              "      <th>0</th>\n",
              "      <td>1</td>\n",
              "      <td>2019-05-03 11:11:41</td>\n",
              "      <td>NaN</td>\n",
              "      <td>NaN</td>\n",
              "      <td>NaN</td>\n",
              "      <td>NaN</td>\n",
              "      <td>NaN</td>\n",
              "      <td>NaN</td>\n",
              "      <td>NaN</td>\n",
              "      <td>NaN</td>\n",
              "    </tr>\n",
              "    <tr>\n",
              "      <th>1</th>\n",
              "      <td>2</td>\n",
              "      <td>2019-05-03 11:46:10</td>\n",
              "      <td>NaN</td>\n",
              "      <td>NaN</td>\n",
              "      <td>NaN</td>\n",
              "      <td>NaN</td>\n",
              "      <td>NaN</td>\n",
              "      <td>NaN</td>\n",
              "      <td>NaN</td>\n",
              "      <td>NaN</td>\n",
              "    </tr>\n",
              "    <tr>\n",
              "      <th>2</th>\n",
              "      <td>3</td>\n",
              "      <td>2019-05-03 12:13:47</td>\n",
              "      <td>NaN</td>\n",
              "      <td>NaN</td>\n",
              "      <td>NaN</td>\n",
              "      <td>NaN</td>\n",
              "      <td>NaN</td>\n",
              "      <td>NaN</td>\n",
              "      <td>NaN</td>\n",
              "      <td>NaN</td>\n",
              "    </tr>\n",
              "    <tr>\n",
              "      <th>3</th>\n",
              "      <td>4</td>\n",
              "      <td>2019-05-03 12:48:05</td>\n",
              "      <td>NaN</td>\n",
              "      <td>NaN</td>\n",
              "      <td>NaN</td>\n",
              "      <td>NaN</td>\n",
              "      <td>NaN</td>\n",
              "      <td>NaN</td>\n",
              "      <td>NaN</td>\n",
              "      <td>NaN</td>\n",
              "    </tr>\n",
              "    <tr>\n",
              "      <th>4</th>\n",
              "      <td>5</td>\n",
              "      <td>2019-05-03 13:18:15</td>\n",
              "      <td>2019-05-03 13:32:06</td>\n",
              "      <td>NaN</td>\n",
              "      <td>NaN</td>\n",
              "      <td>NaN</td>\n",
              "      <td>NaN</td>\n",
              "      <td>NaN</td>\n",
              "      <td>NaN</td>\n",
              "      <td>NaN</td>\n",
              "    </tr>\n",
              "  </tbody>\n",
              "</table>\n",
              "</div>"
            ],
            "text/plain": [
              "   key               Wire 1               Wire 2 Wire 3 Wire 4 Wire 5 Wire 6  \\\n",
              "0    1  2019-05-03 11:11:41                  NaN    NaN    NaN    NaN    NaN   \n",
              "1    2  2019-05-03 11:46:10                  NaN    NaN    NaN    NaN    NaN   \n",
              "2    3  2019-05-03 12:13:47                  NaN    NaN    NaN    NaN    NaN   \n",
              "3    4  2019-05-03 12:48:05                  NaN    NaN    NaN    NaN    NaN   \n",
              "4    5  2019-05-03 13:18:15  2019-05-03 13:32:06    NaN    NaN    NaN    NaN   \n",
              "\n",
              "  Wire 7 Wire 8 Wire 9  \n",
              "0    NaN    NaN    NaN  \n",
              "1    NaN    NaN    NaN  \n",
              "2    NaN    NaN    NaN  \n",
              "3    NaN    NaN    NaN  \n",
              "4    NaN    NaN    NaN  "
            ]
          },
          "metadata": {},
          "output_type": "display_data"
        },
        {
          "data": {
            "text/html": [
              "<div>\n",
              "<style scoped>\n",
              "    .dataframe tbody tr th:only-of-type {\n",
              "        vertical-align: middle;\n",
              "    }\n",
              "\n",
              "    .dataframe tbody tr th {\n",
              "        vertical-align: top;\n",
              "    }\n",
              "\n",
              "    .dataframe thead th {\n",
              "        text-align: right;\n",
              "    }\n",
              "</style>\n",
              "<table border=\"1\" class=\"dataframe\">\n",
              "  <thead>\n",
              "    <tr style=\"text-align: right;\">\n",
              "      <th></th>\n",
              "      <th>key</th>\n",
              "    </tr>\n",
              "  </thead>\n",
              "  <tbody>\n",
              "    <tr>\n",
              "      <th>count</th>\n",
              "      <td>3081.000000</td>\n",
              "    </tr>\n",
              "    <tr>\n",
              "      <th>mean</th>\n",
              "      <td>1623.426485</td>\n",
              "    </tr>\n",
              "    <tr>\n",
              "      <th>std</th>\n",
              "      <td>932.996726</td>\n",
              "    </tr>\n",
              "    <tr>\n",
              "      <th>min</th>\n",
              "      <td>1.000000</td>\n",
              "    </tr>\n",
              "    <tr>\n",
              "      <th>25%</th>\n",
              "      <td>823.000000</td>\n",
              "    </tr>\n",
              "    <tr>\n",
              "      <th>50%</th>\n",
              "      <td>1619.000000</td>\n",
              "    </tr>\n",
              "    <tr>\n",
              "      <th>75%</th>\n",
              "      <td>2434.000000</td>\n",
              "    </tr>\n",
              "    <tr>\n",
              "      <th>max</th>\n",
              "      <td>3241.000000</td>\n",
              "    </tr>\n",
              "  </tbody>\n",
              "</table>\n",
              "</div>"
            ],
            "text/plain": [
              "               key\n",
              "count  3081.000000\n",
              "mean   1623.426485\n",
              "std     932.996726\n",
              "min       1.000000\n",
              "25%     823.000000\n",
              "50%    1619.000000\n",
              "75%    2434.000000\n",
              "max    3241.000000"
            ]
          },
          "metadata": {},
          "output_type": "display_data"
        }
      ],
      "source": [
        "info_describe('Данные о проволочных материалах (время)', data_wire_time)"
      ]
    },
    {
      "cell_type": "markdown",
      "metadata": {
        "id": "1Nfv5PneBXx6"
      },
      "source": [
        "Всего мы имеем данные о 3.241 партии стали. В каждой таблице есть небольшое количество партий (от 2 в таблице с газом до 160 в таблице о проволочных материалах), информация о которых отсутствует. \n",
        "\n",
        "В **данных об электродах** указаны начало и конец нагрева дугой, активная и реактивная мощности. Исходя из описательной статистики можно увидеть выбросы в реактивной мощности.\n",
        "\n",
        "В **данных о подаче сыпучих материалов** содержится информация о 15 видах примесей (Bulk 1 - Bulk 15). В большинстве случаев добавляются примеси под номерами 12, 14 и 15; в треть партий примеси 3 и 4. Bulk 8 добавлялся в состав один раз, нужно узнать можно ли его исключить при обучении модели. Bulk 12 имеет выброс, максимальное значение 1849 является аномальным.\n",
        "\n",
        "В **данных о продувке сплава газом** минимальное значение инертного газа, которым продувают сплав составляет 0.008399, необходимо уточнить у заказчика допустимы ли такие низкие значения.\n",
        "\n",
        "**Результаты измерения температуры.** Среднее значение температуры стали при её обработке 1.591 градус (Фаренгейта?). Пропущенные значения температур (их 2091) нужно выяснить как корректнее обработать.\n",
        "\n",
        "**Данные о проволочных материалах** Выделено 9 видов проволочных материалов, добавляемых при легировании стали. Wire 1 добавляется почти в каждой партии объёмом от 1,92 до 330. Wire 2 добавляется в три раза реже, остальные шесть - практически единичные случаи.\n",
        "\n",
        "Тип времени в таблице data_bulk_time и data_wire_time нужно изменить на datetime."
      ]
    },
    {
      "cell_type": "code",
      "execution_count": null,
      "metadata": {
        "id": "nxcwI16oBXx7"
      },
      "outputs": [],
      "source": [
        "# изменим тип данных времени в data_bulk_time\n",
        "for b in [column for column in data_bulk_time.drop('key', axis=1)]:\n",
        "    data_bulk_time[b] = pd.to_datetime(data_bulk_time[b], format='%Y-%m-%d %H:%M:%S')"
      ]
    },
    {
      "cell_type": "code",
      "execution_count": null,
      "metadata": {
        "id": "EJRqM_8FBXx7"
      },
      "outputs": [],
      "source": [
        "# изменим тип данных времени в data_wire_time\n",
        "for w in [column for column in data_wire_time.drop('key', axis=1)]:\n",
        "    data_wire_time[w] = pd.to_datetime(data_wire_time[w], format='%Y-%m-%d %H:%M:%S')"
      ]
    },
    {
      "cell_type": "markdown",
      "metadata": {
        "id": "ndDZx_kvBXx8"
      },
      "source": [
        "### Проверка на выбросы"
      ]
    },
    {
      "cell_type": "markdown",
      "metadata": {
        "id": "47oA0CS2BXx8"
      },
      "source": [
        "**Построим графики ящик с усами, чтобы увидеть какие аномальные значения имеются.**\n",
        "\n",
        "В реактивной мощности прежде удалим выброс равный -715."
      ]
    },
    {
      "cell_type": "code",
      "execution_count": null,
      "metadata": {
        "colab": {
          "base_uri": "https://localhost:8080/",
          "height": 468
        },
        "id": "2v86dHrYBXx9",
        "outputId": "19ec0b24-0045-432f-fd77-3babea356f9d",
        "scrolled": true
      },
      "outputs": [
        {
          "data": {
            "image/png": "[encoded data removed]",
            "text/plain": [
              "<Figure size 1080x360 with 1 Axes>"
            ]
          },
          "metadata": {
            "needs_background": "light"
          },
          "output_type": "display_data"
        }
      ],
      "source": [
        "# исследуем выбросы в мощностях\n",
        "data_arc = data_arc[data_arc['Реактивная мощность'] > 0]\n",
        "data_arc.boxplot(column=['Активная мощность', 'Реактивная мощность'], \n",
        "                 vert=False, figsize=(15,5))\n",
        "plt.title('Аномальные значения в мощностях');"
      ]
    },
    {
      "cell_type": "markdown",
      "metadata": {
        "id": "1LDXQM1MBXx9"
      },
      "source": [
        "Есть выбросы и там и там. Но такие мощности были необходимы для производстенного процесса, поэтому избавляться от них некорректно."
      ]
    },
    {
      "cell_type": "markdown",
      "metadata": {
        "id": "yhDUP-PlBXx9"
      },
      "source": [
        "Теперь исследуем выбросы в объёмах сыпучих продуктов."
      ]
    },
    {
      "cell_type": "code",
      "execution_count": null,
      "metadata": {
        "colab": {
          "base_uri": "https://localhost:8080/",
          "height": 853
        },
        "id": "DXGgrxiABXx-",
        "outputId": "15aca30c-5a53-4feb-83c8-264eae2bfd00",
        "scrolled": false
      },
      "outputs": [
        {
          "data": {
            "image/png": "[encoded data removed]",
            "text/plain": [
              "<Figure size 1080x720 with 1 Axes>"
            ]
          },
          "metadata": {
            "needs_background": "light"
          },
          "output_type": "display_data"
        }
      ],
      "source": [
        "data_bulk.drop('key', axis=1).boxplot(vert=False, figsize=(15,10));\n",
        "plt.title('Аномальные значения в объёмах сыпучих продуктов');"
      ]
    },
    {
      "cell_type": "markdown",
      "metadata": {
        "id": "SLPDcuewBXx-"
      },
      "source": [
        "Здесь есть одно аномальное значение, удалим выброс в Bulk 12 = 1849."
      ]
    },
    {
      "cell_type": "code",
      "execution_count": null,
      "metadata": {
        "id": "q8OYgiC-BXx-"
      },
      "outputs": [],
      "source": [
        "data_bulk = data_bulk[data_bulk['Bulk 12'] != 1849]"
      ]
    },
    {
      "cell_type": "code",
      "execution_count": null,
      "metadata": {
        "colab": {
          "base_uri": "https://localhost:8080/",
          "height": 853
        },
        "id": "C_IO3S4DBXx-",
        "outputId": "1cc5e3cf-d4f3-4ce5-a991-56ca328cc831",
        "scrolled": false
      },
      "outputs": [
        {
          "data": {
            "image/png": "[encoded data removed]",
            "text/plain": [
              "<Figure size 1080x720 with 1 Axes>"
            ]
          },
          "metadata": {
            "needs_background": "light"
          },
          "output_type": "display_data"
        }
      ],
      "source": [
        "# исследуем выбросы в объёмах проволочных материалов\n",
        "data_wire.drop('key', axis=1).boxplot(vert=False, figsize=(15,10));\n",
        "plt.title('Аномальные значения в объёмах проволочных материалов');"
      ]
    },
    {
      "cell_type": "markdown",
      "metadata": {
        "id": "6sZ3o82IBXx_"
      },
      "source": [
        "Выбросы имеются почти в каждом случае, как у сыпучих продуктов, так и у проволочных материалов. Нужно узнать у заказчика требуется ли очистка от таких высоких значений легирующихих добавок или они являются необходимыми при очистки стали."
      ]
    },
    {
      "cell_type": "code",
      "execution_count": null,
      "metadata": {
        "colab": {
          "base_uri": "https://localhost:8080/",
          "height": 314
        },
        "id": "yEnj8GhXBXx_",
        "outputId": "8ba5398a-e547-499a-8711-46801491544b",
        "scrolled": true
      },
      "outputs": [
        {
          "data": {
            "image/png": "[encoded data removed]",
            "text/plain": [
              "<Figure size 1080x216 with 1 Axes>"
            ]
          },
          "metadata": {
            "needs_background": "light"
          },
          "output_type": "display_data"
        }
      ],
      "source": [
        "# исследуем выбросы в данных о продувке газом\n",
        "data_gas.boxplot(column='Газ 1', rot=90, vert=False, figsize=(15,3));\n",
        "plt.title('Аномальные значения в данных о продувке газом');"
      ]
    },
    {
      "cell_type": "markdown",
      "metadata": {
        "id": "AJlBe7OzBXx_"
      },
      "source": [
        "От двух строк со значениями выше 60 есть смысл избавиться, чтобы не исказить модель при обучении."
      ]
    },
    {
      "cell_type": "code",
      "execution_count": null,
      "metadata": {
        "id": "1FpCnb3hBXyA"
      },
      "outputs": [],
      "source": [
        "data_gas = data_gas[data_gas['Газ 1'] < 60]"
      ]
    },
    {
      "cell_type": "code",
      "execution_count": null,
      "metadata": {
        "colab": {
          "base_uri": "https://localhost:8080/",
          "height": 314
        },
        "id": "77y49TCHBXyA",
        "outputId": "b9353585-c30c-411e-e8c0-f1cc4957e46a"
      },
      "outputs": [
        {
          "data": {
            "image/png": "[encoded data removed]",
            "text/plain": [
              "<Figure size 1080x216 with 1 Axes>"
            ]
          },
          "metadata": {
            "needs_background": "light"
          },
          "output_type": "display_data"
        }
      ],
      "source": [
        "# исследуем выбросы в результатах измерения температуры\n",
        "data_temp.boxplot(column='Температура', rot=90, vert=False, figsize=(15,3));\n",
        "plt.title('Аномальные значения в результатах измерения температуры');"
      ]
    },
    {
      "cell_type": "markdown",
      "metadata": {
        "id": "fBPeiwAWBXyA"
      },
      "source": [
        "Температура плавления стали выше 1400 градусов. Поэтому строки с температурой ниже 1400 градусов можно удалить, их всего 5 и это явные аномалии."
      ]
    },
    {
      "cell_type": "code",
      "execution_count": null,
      "metadata": {
        "id": "tfOpWcgVBXyA"
      },
      "outputs": [],
      "source": [
        "data_temp = data_temp.loc[(data_temp['Температура'] > 1400) | # делаем срез по температуре выше 1400\n",
        "                          (data_temp['Температура'].isna())]  # и оставляем пропущенные значения"
      ]
    },
    {
      "cell_type": "markdown",
      "metadata": {
        "id": "NIIQmB2MBXyB"
      },
      "source": [
        "Я очистила данные от явных аномальных значений - высокие активные и реактивные мощности, большая подача газа и температура выше 1400 градусов. Оставила зашкаливающие объёмы подачи добавок при легировании стали до уточнения вопроса у заказчика."
      ]
    },
    {
      "cell_type": "markdown",
      "metadata": {
        "id": "kFa63XI0BXyC"
      },
      "source": [
        "### Нормальность распределения"
      ]
    },
    {
      "cell_type": "markdown",
      "metadata": {
        "id": "4dW6a6USBXyC"
      },
      "source": [
        "После удаления выбросов посмотрим на распределение значений."
      ]
    },
    {
      "cell_type": "code",
      "execution_count": null,
      "metadata": {
        "colab": {
          "base_uri": "https://localhost:8080/",
          "height": 1000
        },
        "id": "9PWONx0iBXyC",
        "outputId": "87487d7c-9a7b-4eaa-c2c4-9c07c6a54bad"
      },
      "outputs": [
        {
          "data": {
            "image/png": "[encoded data removed]",
            "text/plain": [
              "<Figure size 604.8x432 with 1 Axes>"
            ]
          },
          "metadata": {
            "needs_background": "light"
          },
          "output_type": "display_data"
        },
        {
          "data": {
            "image/png": "[encoded data removed]",
            "text/plain": [
              "<Figure size 604.8x432 with 1 Axes>"
            ]
          },
          "metadata": {
            "needs_background": "light"
          },
          "output_type": "display_data"
        }
      ],
      "source": [
        "sns.displot(data_arc['Активная мощность'], kde=True,  height=6, aspect=1.4)\n",
        "plt.xlabel('Активная мощность')\n",
        "plt.ylabel('Количество наблюдений')\n",
        "plt.title(('Распределение мощности в данных об электродах'))\n",
        "\n",
        "sns.displot(data_arc['Реактивная мощность'], kde=True,  height=6, aspect=1.4) \n",
        "plt.xlabel('Реактивная мощность')\n",
        "plt.ylabel('Количество наблюдений')\n",
        "\n",
        "plt.show()"
      ]
    },
    {
      "cell_type": "code",
      "execution_count": null,
      "metadata": {
        "colab": {
          "base_uri": "https://localhost:8080/",
          "height": 629
        },
        "id": "_gBum93GBXyC",
        "outputId": "12cc3a70-ebab-4932-9cbf-de01a37c7fab"
      },
      "outputs": [
        {
          "data": {
            "image/png": "[encoded data removed]",
            "text/plain": [
              "<Figure size 604.8x432 with 1 Axes>"
            ]
          },
          "metadata": {
            "needs_background": "light"
          },
          "output_type": "display_data"
        }
      ],
      "source": [
        "sns.displot(data_gas['Газ 1'], kde=True,  height=6, aspect=1.4)\n",
        "plt.xlabel('Газ')\n",
        "plt.ylabel('Количество наблюдений')\n",
        "plt.title(('Распределение газа при продувке сплава'))\n",
        "\n",
        "plt.show()"
      ]
    },
    {
      "cell_type": "code",
      "execution_count": null,
      "metadata": {
        "colab": {
          "base_uri": "https://localhost:8080/",
          "height": 624
        },
        "id": "5eC73KJjBXyD",
        "outputId": "73aeddc0-ee86-47c7-c147-d020478562d8"
      },
      "outputs": [
        {
          "data": {
            "image/png": "[encoded data removed]",
            "text/plain": [
              "<Figure size 604.8x432 with 1 Axes>"
            ]
          },
          "metadata": {
            "needs_background": "light"
          },
          "output_type": "display_data"
        }
      ],
      "source": [
        "sns.displot(data_temp['Температура'], kde=True,  height=6, aspect=1.4)\n",
        "plt.xlabel('Температура')\n",
        "plt.ylabel('Количество наблюдений')\n",
        "plt.title(('Распределение результатов измерения температуры'))\n",
        "\n",
        "plt.show()"
      ]
    },
    {
      "cell_type": "markdown",
      "metadata": {
        "id": "5etc3TCZBXyD"
      },
      "source": [
        "Мощности имеют отклонение вправо от нормального распределения, газ также, но это отклонение менее выражено. Распределение результатов измерения температур (наш целевой признак) стремится к нормальному. Температура стали при обработке в диапазоне 1525 - 1700 градусов."
      ]
    },
    {
      "cell_type": "markdown",
      "metadata": {
        "id": "onQFWmvIBXyE"
      },
      "source": [
        "### Обработка пропусков"
      ]
    },
    {
      "cell_type": "markdown",
      "metadata": {
        "id": "t2YvBYXkBXyE"
      },
      "source": [
        "Пропуски в объёмах сыпучих и проволочных материалах заменим нулями, так как они говорят о том, что данный вид материалов не применялся при легировании стали в данной партии."
      ]
    },
    {
      "cell_type": "code",
      "execution_count": null,
      "metadata": {
        "id": "p64JbZYBBXyE"
      },
      "outputs": [],
      "source": [
        "data_bulk = data_bulk.fillna(0)\n",
        "data_wire = data_wire.fillna(0)"
      ]
    },
    {
      "cell_type": "markdown",
      "metadata": {
        "id": "hDjTGWqCBXyF"
      },
      "source": [
        "После консультации было принято решение избавиться от всех объектов, содержащих пропуски, так как наша целевая это как раз последний замер температуры."
      ]
    },
    {
      "cell_type": "code",
      "execution_count": null,
      "metadata": {
        "id": "MZgCHop2BXyF"
      },
      "outputs": [],
      "source": [
        "data_temp = data_temp.dropna()"
      ]
    },
    {
      "cell_type": "markdown",
      "metadata": {
        "id": "hqR6kre6BXyG"
      },
      "source": [
        "## План работы"
      ]
    },
    {
      "cell_type": "markdown",
      "metadata": {
        "id": "QLPVWYNuBXyG"
      },
      "source": [
        "<div style=\"border:solid blue 2px; padding: 20px\">\n",
        "\n",
        "   * Провести исследовательский анализ данных\n",
        "   * Подготовить данные для обучения модели (пропуски, выбросы)\n",
        "   * Удалить данные, которые не информативны (возможно, добавки какие добавлялись менее чем в 5% случаев)\n",
        "   * Объединить таблицы\n",
        "   * Разделить данные на выборки (обучающая, тестовая)\n",
        "   * Проверка на мультиколлинеарность\n",
        "   * Выбрать модели и провести обучение\n",
        "   * Проверить лучшую модель на адекватность\n",
        "   * Анализ важности факторов у модели-победителя"
      ]
    },
    {
      "cell_type": "markdown",
      "metadata": {
        "id": "rr3b3zhOBXyH"
      },
      "source": [
        "## Вопросы по моделируемому процессу для бизнеса"
      ]
    },
    {
      "cell_type": "markdown",
      "metadata": {
        "id": "3EX76M1SBXyH"
      },
      "source": [
        "<div style=\"border:solid blue 2px; padding: 20px\">\n",
        "\n",
        "   1. Имеются легирующие добавки, которые добавляются в состав в менее чем 5% случаев, пара из них вообще по одному разу (Bulk8, Wire 5). Можно ли исключить их в дальнейшем исследовании?\n",
        "    \n",
        "   2. Минимальное значение инертного газа, которым продувают сплав составляет 0.008399, это допустимые значения?\n",
        "    \n",
        "   3. С чем могут быть связаны пропуски в замерах темератур? Первые замеры есть, а вторые и последующие в 2091 партии отсутсвуют.\n",
        "    \n",
        "   4. Требуется ли очистка от высоких значений легирующихих добавок или они являются необходимыми при очистки стали? Например, Wire 1 объёмом больше 210 или Bulk 12 больше 500."
      ]
    },
    {
      "cell_type": "markdown",
      "metadata": {
        "id": "bkWKdvcYSpnc"
      },
      "source": [
        " ## Подготовка данных к обучению"
      ]
    },
    {
      "cell_type": "markdown",
      "metadata": {
        "id": "xDpNxIPgd9ga"
      },
      "source": [
        "### Целевой признак (target)"
      ]
    },
    {
      "cell_type": "markdown",
      "metadata": {
        "id": "5BxsXXzlSleo"
      },
      "source": [
        "Для начала нужно выделить нашу целевую - температура на выходе. Но прежде нужно избавиться от тех партий, в которых есть лишь один замер температуры. Для этого создадим новую таблицу, в которой будут сначала сгруппированы партии по ключу, суммировано количество замеров, а затем удалены те строки, в которых значение в столбце \"Температура\" равно 1."
      ]
    },
    {
      "cell_type": "code",
      "execution_count": null,
      "metadata": {
        "id": "1EvdyG3BxDmd"
      },
      "outputs": [],
      "source": [
        "res = data_temp.groupby('key', as_index=False).count()[\n",
        "    (data_temp.groupby('key', as_index=False).count()['Температура']==1)==False]"
      ]
    },
    {
      "cell_type": "markdown",
      "metadata": {
        "id": "cAiShgs8T3RB"
      },
      "source": [
        "Следующим шагом создаём отфильтрованную таблицу, в которые входят только те ключи, которые содержатся в полученной выше таблице."
      ]
    },
    {
      "cell_type": "code",
      "execution_count": null,
      "metadata": {
        "colab": {
          "base_uri": "https://localhost:8080/"
        },
        "id": "zz7aaEMipIT2",
        "outputId": "d30ff9b7-be04-4555-9413-05f7f73f7946"
      },
      "outputs": [
        {
          "data": {
            "text/plain": [
              "(12259, 3)"
            ]
          },
          "execution_count": 30,
          "metadata": {},
          "output_type": "execute_result"
        }
      ],
      "source": [
        "new_data_temp = data_temp[data_temp['key'].isin(res['key'])]\n",
        "new_data_temp.shape"
      ]
    },
    {
      "cell_type": "markdown",
      "metadata": {
        "id": "WXwA25WSXmQP"
      },
      "source": [
        "Теперь можем выделить нашу целевую переменную - последнняя измеряемая температура в каждой партии."
      ]
    },
    {
      "cell_type": "code",
      "execution_count": null,
      "metadata": {
        "colab": {
          "base_uri": "https://localhost:8080/",
          "height": 252
        },
        "id": "uScUqbwingaA",
        "outputId": "92b1e13d-1a77-4d33-ef48-f8ddbb129e92"
      },
      "outputs": [
        {
          "name": "stdout",
          "output_type": "stream",
          "text": [
            "Размер таблицы с целевой переменной (2475, 1)\n"
          ]
        },
        {
          "data": {
            "text/html": [
              "<div>\n",
              "<style scoped>\n",
              "    .dataframe tbody tr th:only-of-type {\n",
              "        vertical-align: middle;\n",
              "    }\n",
              "\n",
              "    .dataframe tbody tr th {\n",
              "        vertical-align: top;\n",
              "    }\n",
              "\n",
              "    .dataframe thead th {\n",
              "        text-align: right;\n",
              "    }\n",
              "</style>\n",
              "<table border=\"1\" class=\"dataframe\">\n",
              "  <thead>\n",
              "    <tr style=\"text-align: right;\">\n",
              "      <th></th>\n",
              "      <th>Температура</th>\n",
              "    </tr>\n",
              "    <tr>\n",
              "      <th>key</th>\n",
              "      <th></th>\n",
              "    </tr>\n",
              "  </thead>\n",
              "  <tbody>\n",
              "    <tr>\n",
              "      <th>1</th>\n",
              "      <td>1613.0</td>\n",
              "    </tr>\n",
              "    <tr>\n",
              "      <th>2</th>\n",
              "      <td>1602.0</td>\n",
              "    </tr>\n",
              "    <tr>\n",
              "      <th>3</th>\n",
              "      <td>1599.0</td>\n",
              "    </tr>\n",
              "    <tr>\n",
              "      <th>4</th>\n",
              "      <td>1625.0</td>\n",
              "    </tr>\n",
              "    <tr>\n",
              "      <th>5</th>\n",
              "      <td>1602.0</td>\n",
              "    </tr>\n",
              "  </tbody>\n",
              "</table>\n",
              "</div>"
            ],
            "text/plain": [
              "     Температура\n",
              "key             \n",
              "1         1613.0\n",
              "2         1602.0\n",
              "3         1599.0\n",
              "4         1625.0\n",
              "5         1602.0"
            ]
          },
          "execution_count": 31,
          "metadata": {},
          "output_type": "execute_result"
        }
      ],
      "source": [
        "target = new_data_temp.groupby('key').agg({'Температура':'last'})\n",
        "print('Размер таблицы с целевой переменной', target.shape)\n",
        "target.head()"
      ]
    },
    {
      "cell_type": "markdown",
      "metadata": {
        "id": "T3YEo8ereDNy"
      },
      "source": [
        "### Признаки (features)"
      ]
    },
    {
      "cell_type": "markdown",
      "metadata": {
        "id": "cB-3fvTsYJSS"
      },
      "source": [
        "Первый замер температуры будет одним из наших признаков. Сохраним их в переменной first_temp."
      ]
    },
    {
      "cell_type": "code",
      "execution_count": null,
      "metadata": {
        "id": "lRq92zLCngLW"
      },
      "outputs": [],
      "source": [
        "first_temp = new_data_temp.groupby('key').agg({'Температура':'first'}).rename(\n",
        "    columns={'Температура': 'Температура 1'})"
      ]
    },
    {
      "cell_type": "code",
      "execution_count": null,
      "metadata": {
        "colab": {
          "base_uri": "https://localhost:8080/",
          "height": 235
        },
        "id": "TU8g5bVVCmvp",
        "outputId": "f7ee74cd-3e76-40a2-c239-1bde02c26a1e"
      },
      "outputs": [
        {
          "data": {
            "text/html": [
              "<div>\n",
              "<style scoped>\n",
              "    .dataframe tbody tr th:only-of-type {\n",
              "        vertical-align: middle;\n",
              "    }\n",
              "\n",
              "    .dataframe tbody tr th {\n",
              "        vertical-align: top;\n",
              "    }\n",
              "\n",
              "    .dataframe thead th {\n",
              "        text-align: right;\n",
              "    }\n",
              "</style>\n",
              "<table border=\"1\" class=\"dataframe\">\n",
              "  <thead>\n",
              "    <tr style=\"text-align: right;\">\n",
              "      <th></th>\n",
              "      <th>Температура</th>\n",
              "    </tr>\n",
              "    <tr>\n",
              "      <th>key</th>\n",
              "      <th></th>\n",
              "    </tr>\n",
              "  </thead>\n",
              "  <tbody>\n",
              "    <tr>\n",
              "      <th>1</th>\n",
              "      <td>1613.0</td>\n",
              "    </tr>\n",
              "    <tr>\n",
              "      <th>2</th>\n",
              "      <td>1602.0</td>\n",
              "    </tr>\n",
              "    <tr>\n",
              "      <th>3</th>\n",
              "      <td>1599.0</td>\n",
              "    </tr>\n",
              "    <tr>\n",
              "      <th>4</th>\n",
              "      <td>1625.0</td>\n",
              "    </tr>\n",
              "    <tr>\n",
              "      <th>5</th>\n",
              "      <td>1602.0</td>\n",
              "    </tr>\n",
              "  </tbody>\n",
              "</table>\n",
              "</div>"
            ],
            "text/plain": [
              "     Температура\n",
              "key             \n",
              "1         1613.0\n",
              "2         1602.0\n",
              "3         1599.0\n",
              "4         1625.0\n",
              "5         1602.0"
            ]
          },
          "execution_count": 33,
          "metadata": {},
          "output_type": "execute_result"
        }
      ],
      "source": [
        "target = target[target['Температура'] != first_temp['Температура 1']]\n",
        "target[:5]"
      ]
    },
    {
      "cell_type": "markdown",
      "metadata": {
        "id": "OhRPxL-UY9b4"
      },
      "source": [
        "Теперь создадим фичи для обучения моделей. Это будет:\n",
        "* первый замер температуры;\n",
        "* объём подачи газа по партии;\n",
        "* присадки (предварительно редкие объединим в отдельные группы);\n",
        "* полная мощность (которую получим из активной и реактивной мощностей).\n",
        "\n",
        "Первый признак будем присоединять к таблице first_temp методом join по столбцу key, чтобы найти из таблицы с газом те партии, которые есть в индексах таблицы first_temp. Все остальные признаки будем присоединять методом merge  по тому эе столбцу. Все присоединения выполняем по типу слияния inner.\n",
        "\n",
        "После этого нужно в таргете сделать срез, удалив партии не вошедшие в итоговые фичи ввиду того, что в некоторых таблицах есть пропуски."
      ]
    },
    {
      "cell_type": "code",
      "execution_count": null,
      "metadata": {
        "colab": {
          "base_uri": "https://localhost:8080/",
          "height": 142
        },
        "id": "s95yYr48oJWm",
        "outputId": "b0b76bf1-3492-42a4-be47-f5271b2077e1"
      },
      "outputs": [
        {
          "data": {
            "text/html": [
              "<div>\n",
              "<style scoped>\n",
              "    .dataframe tbody tr th:only-of-type {\n",
              "        vertical-align: middle;\n",
              "    }\n",
              "\n",
              "    .dataframe tbody tr th {\n",
              "        vertical-align: top;\n",
              "    }\n",
              "\n",
              "    .dataframe thead th {\n",
              "        text-align: right;\n",
              "    }\n",
              "</style>\n",
              "<table border=\"1\" class=\"dataframe\">\n",
              "  <thead>\n",
              "    <tr style=\"text-align: right;\">\n",
              "      <th></th>\n",
              "      <th>key</th>\n",
              "      <th>Газ 1</th>\n",
              "      <th>Температура 1</th>\n",
              "    </tr>\n",
              "  </thead>\n",
              "  <tbody>\n",
              "    <tr>\n",
              "      <th>0</th>\n",
              "      <td>1</td>\n",
              "      <td>29.749986</td>\n",
              "      <td>1571.0</td>\n",
              "    </tr>\n",
              "    <tr>\n",
              "      <th>1</th>\n",
              "      <td>2</td>\n",
              "      <td>12.555561</td>\n",
              "      <td>1581.0</td>\n",
              "    </tr>\n",
              "    <tr>\n",
              "      <th>2</th>\n",
              "      <td>3</td>\n",
              "      <td>28.554793</td>\n",
              "      <td>1596.0</td>\n",
              "    </tr>\n",
              "  </tbody>\n",
              "</table>\n",
              "</div>"
            ],
            "text/plain": [
              "   key      Газ 1  Температура 1\n",
              "0    1  29.749986         1571.0\n",
              "1    2  12.555561         1581.0\n",
              "2    3  28.554793         1596.0"
            ]
          },
          "execution_count": 34,
          "metadata": {},
          "output_type": "execute_result"
        }
      ],
      "source": [
        "# соединяем газ и температуру\n",
        "features = data_gas.join(first_temp, on='key', how='inner')\n",
        "features[:3]"
      ]
    },
    {
      "cell_type": "markdown",
      "metadata": {
        "id": "guz3vyFCk9SG"
      },
      "source": [
        "Найдём полную мощность и присоединим её к таблице с газом и температурой.\n",
        "Полная мощность рассчитывается по формуле:\n",
        "\n",
        "$S = \\sqrt(P^2 + Q^2), $ где \n",
        "\n",
        "$S$ - полная мощность,\n",
        "\n",
        "$P$ - активная мощность,\n",
        "\n",
        "$Q$ - реактивная мощность."
      ]
    },
    {
      "cell_type": "code",
      "execution_count": null,
      "metadata": {
        "colab": {
          "base_uri": "https://localhost:8080/",
          "height": 142
        },
        "id": "SoyvYobdh_aq",
        "outputId": "414b7330-98f6-4f5a-e844-293057fb55a0"
      },
      "outputs": [
        {
          "data": {
            "text/html": [
              "<div>\n",
              "<style scoped>\n",
              "    .dataframe tbody tr th:only-of-type {\n",
              "        vertical-align: middle;\n",
              "    }\n",
              "\n",
              "    .dataframe tbody tr th {\n",
              "        vertical-align: top;\n",
              "    }\n",
              "\n",
              "    .dataframe thead th {\n",
              "        text-align: right;\n",
              "    }\n",
              "</style>\n",
              "<table border=\"1\" class=\"dataframe\">\n",
              "  <thead>\n",
              "    <tr style=\"text-align: right;\">\n",
              "      <th></th>\n",
              "      <th>key</th>\n",
              "      <th>Газ 1</th>\n",
              "      <th>Температура 1</th>\n",
              "      <th>Полная мощность</th>\n",
              "    </tr>\n",
              "  </thead>\n",
              "  <tbody>\n",
              "    <tr>\n",
              "      <th>0</th>\n",
              "      <td>1</td>\n",
              "      <td>29.749986</td>\n",
              "      <td>1571.0</td>\n",
              "      <td>1.193639</td>\n",
              "    </tr>\n",
              "    <tr>\n",
              "      <th>1</th>\n",
              "      <td>2</td>\n",
              "      <td>12.555561</td>\n",
              "      <td>1581.0</td>\n",
              "      <td>0.959010</td>\n",
              "    </tr>\n",
              "    <tr>\n",
              "      <th>2</th>\n",
              "      <td>3</td>\n",
              "      <td>28.554793</td>\n",
              "      <td>1596.0</td>\n",
              "      <td>0.896038</td>\n",
              "    </tr>\n",
              "  </tbody>\n",
              "</table>\n",
              "</div>"
            ],
            "text/plain": [
              "   key      Газ 1  Температура 1  Полная мощность\n",
              "0    1  29.749986         1571.0         1.193639\n",
              "1    2  12.555561         1581.0         0.959010\n",
              "2    3  28.554793         1596.0         0.896038"
            ]
          },
          "execution_count": 35,
          "metadata": {},
          "output_type": "execute_result"
        }
      ],
      "source": [
        "features['Полная мощность'] = (data_arc['Активная мощность'] ** 2 + data_arc['Реактивная мощность'] ** 2) ** 0.5\n",
        "features[:3]"
      ]
    },
    {
      "cell_type": "markdown",
      "metadata": {
        "id": "BZDoE1mGjJHq"
      },
      "source": [
        "Выполняем объединение тех редких сыпучих и проволочных материалов в столбец  \"bulk_rare\" и \"wire_rare\" соотв., которые использовались менее чем в 5% случаев.  Сыпучие это Bulk 2, 5, 7, 8, 9, 13. Проволочные - Wire 3, 4, 5, 6, 7, 8 , 9."
      ]
    },
    {
      "cell_type": "code",
      "execution_count": null,
      "metadata": {
        "colab": {
          "base_uri": "https://localhost:8080/",
          "height": 142
        },
        "id": "DLQwE6rtkTWf",
        "outputId": "dbd5d072-3d59-48bb-d7af-424907858df1"
      },
      "outputs": [
        {
          "data": {
            "text/html": [
              "<div>\n",
              "<style scoped>\n",
              "    .dataframe tbody tr th:only-of-type {\n",
              "        vertical-align: middle;\n",
              "    }\n",
              "\n",
              "    .dataframe tbody tr th {\n",
              "        vertical-align: top;\n",
              "    }\n",
              "\n",
              "    .dataframe thead th {\n",
              "        text-align: right;\n",
              "    }\n",
              "</style>\n",
              "<table border=\"1\" class=\"dataframe\">\n",
              "  <thead>\n",
              "    <tr style=\"text-align: right;\">\n",
              "      <th></th>\n",
              "      <th>key</th>\n",
              "      <th>Bulk 1</th>\n",
              "      <th>Bulk 2</th>\n",
              "      <th>Bulk 3</th>\n",
              "      <th>Bulk 4</th>\n",
              "      <th>Bulk 5</th>\n",
              "      <th>Bulk 6</th>\n",
              "      <th>Bulk 7</th>\n",
              "      <th>Bulk 8</th>\n",
              "      <th>Bulk 9</th>\n",
              "      <th>Bulk 10</th>\n",
              "      <th>Bulk 11</th>\n",
              "      <th>Bulk 12</th>\n",
              "      <th>Bulk 13</th>\n",
              "      <th>Bulk 14</th>\n",
              "      <th>Bulk 15</th>\n",
              "      <th>Bulk_rare</th>\n",
              "    </tr>\n",
              "  </thead>\n",
              "  <tbody>\n",
              "    <tr>\n",
              "      <th>102</th>\n",
              "      <td>115</td>\n",
              "      <td>78.0</td>\n",
              "      <td>232.0</td>\n",
              "      <td>0.0</td>\n",
              "      <td>21.0</td>\n",
              "      <td>112.0</td>\n",
              "      <td>0.0</td>\n",
              "      <td>178.0</td>\n",
              "      <td>0.0</td>\n",
              "      <td>0.0</td>\n",
              "      <td>0.0</td>\n",
              "      <td>67.0</td>\n",
              "      <td>0.0</td>\n",
              "      <td>0.0</td>\n",
              "      <td>0.0</td>\n",
              "      <td>0.0</td>\n",
              "      <td>522.0</td>\n",
              "    </tr>\n",
              "    <tr>\n",
              "      <th>103</th>\n",
              "      <td>116</td>\n",
              "      <td>0.0</td>\n",
              "      <td>0.0</td>\n",
              "      <td>0.0</td>\n",
              "      <td>125.0</td>\n",
              "      <td>0.0</td>\n",
              "      <td>0.0</td>\n",
              "      <td>0.0</td>\n",
              "      <td>0.0</td>\n",
              "      <td>0.0</td>\n",
              "      <td>0.0</td>\n",
              "      <td>0.0</td>\n",
              "      <td>255.0</td>\n",
              "      <td>0.0</td>\n",
              "      <td>105.0</td>\n",
              "      <td>203.0</td>\n",
              "      <td>0.0</td>\n",
              "    </tr>\n",
              "    <tr>\n",
              "      <th>104</th>\n",
              "      <td>117</td>\n",
              "      <td>52.0</td>\n",
              "      <td>325.0</td>\n",
              "      <td>0.0</td>\n",
              "      <td>68.0</td>\n",
              "      <td>112.0</td>\n",
              "      <td>0.0</td>\n",
              "      <td>0.0</td>\n",
              "      <td>0.0</td>\n",
              "      <td>0.0</td>\n",
              "      <td>0.0</td>\n",
              "      <td>0.0</td>\n",
              "      <td>0.0</td>\n",
              "      <td>0.0</td>\n",
              "      <td>0.0</td>\n",
              "      <td>0.0</td>\n",
              "      <td>437.0</td>\n",
              "    </tr>\n",
              "  </tbody>\n",
              "</table>\n",
              "</div>"
            ],
            "text/plain": [
              "     key  Bulk 1  Bulk 2  Bulk 3  Bulk 4  Bulk 5  Bulk 6  Bulk 7  Bulk 8  \\\n",
              "102  115    78.0   232.0     0.0    21.0   112.0     0.0   178.0     0.0   \n",
              "103  116     0.0     0.0     0.0   125.0     0.0     0.0     0.0     0.0   \n",
              "104  117    52.0   325.0     0.0    68.0   112.0     0.0     0.0     0.0   \n",
              "\n",
              "     Bulk 9  Bulk 10  Bulk 11  Bulk 12  Bulk 13  Bulk 14  Bulk 15  Bulk_rare  \n",
              "102     0.0      0.0     67.0      0.0      0.0      0.0      0.0      522.0  \n",
              "103     0.0      0.0      0.0    255.0      0.0    105.0    203.0        0.0  \n",
              "104     0.0      0.0      0.0      0.0      0.0      0.0      0.0      437.0  "
            ]
          },
          "execution_count": 36,
          "metadata": {},
          "output_type": "execute_result"
        }
      ],
      "source": [
        "# объёмы сыпучих материалов с объединением редких\n",
        "bulk_rare = ['Bulk 2', 'Bulk 5', 'Bulk 7', 'Bulk 8', 'Bulk 9', 'Bulk 13']\n",
        "data_bulk['Bulk_rare'] = data_bulk[bulk_rare].sum(axis=1)\n",
        "data_bulk[102:105]"
      ]
    },
    {
      "cell_type": "code",
      "execution_count": null,
      "metadata": {
        "colab": {
          "base_uri": "https://localhost:8080/",
          "height": 142
        },
        "id": "IkdoE0PJkTYu",
        "outputId": "339c0267-f456-4701-87e6-425f423fd91c"
      },
      "outputs": [
        {
          "data": {
            "text/html": [
              "<div>\n",
              "<style scoped>\n",
              "    .dataframe tbody tr th:only-of-type {\n",
              "        vertical-align: middle;\n",
              "    }\n",
              "\n",
              "    .dataframe tbody tr th {\n",
              "        vertical-align: top;\n",
              "    }\n",
              "\n",
              "    .dataframe thead th {\n",
              "        text-align: right;\n",
              "    }\n",
              "</style>\n",
              "<table border=\"1\" class=\"dataframe\">\n",
              "  <thead>\n",
              "    <tr style=\"text-align: right;\">\n",
              "      <th></th>\n",
              "      <th>key</th>\n",
              "      <th>Wire 1</th>\n",
              "      <th>Wire 2</th>\n",
              "      <th>Wire 3</th>\n",
              "      <th>Wire 4</th>\n",
              "      <th>Wire 5</th>\n",
              "      <th>Wire 6</th>\n",
              "      <th>Wire 7</th>\n",
              "      <th>Wire 8</th>\n",
              "      <th>Wire 9</th>\n",
              "      <th>Wire_rare</th>\n",
              "    </tr>\n",
              "  </thead>\n",
              "  <tbody>\n",
              "    <tr>\n",
              "      <th>20</th>\n",
              "      <td>21</td>\n",
              "      <td>119.290081</td>\n",
              "      <td>98.367363</td>\n",
              "      <td>0.000000</td>\n",
              "      <td>0.0</td>\n",
              "      <td>0.0</td>\n",
              "      <td>0.0</td>\n",
              "      <td>0.0</td>\n",
              "      <td>0.0</td>\n",
              "      <td>0.0</td>\n",
              "      <td>0.000000</td>\n",
              "    </tr>\n",
              "    <tr>\n",
              "      <th>21</th>\n",
              "      <td>22</td>\n",
              "      <td>144.755523</td>\n",
              "      <td>99.910721</td>\n",
              "      <td>250.041794</td>\n",
              "      <td>0.0</td>\n",
              "      <td>0.0</td>\n",
              "      <td>0.0</td>\n",
              "      <td>0.0</td>\n",
              "      <td>0.0</td>\n",
              "      <td>0.0</td>\n",
              "      <td>250.041794</td>\n",
              "    </tr>\n",
              "    <tr>\n",
              "      <th>22</th>\n",
              "      <td>23</td>\n",
              "      <td>100.158234</td>\n",
              "      <td>114.907524</td>\n",
              "      <td>276.324066</td>\n",
              "      <td>0.0</td>\n",
              "      <td>0.0</td>\n",
              "      <td>0.0</td>\n",
              "      <td>0.0</td>\n",
              "      <td>0.0</td>\n",
              "      <td>0.0</td>\n",
              "      <td>276.324066</td>\n",
              "    </tr>\n",
              "  </tbody>\n",
              "</table>\n",
              "</div>"
            ],
            "text/plain": [
              "    key      Wire 1      Wire 2      Wire 3  Wire 4  Wire 5  Wire 6  Wire 7  \\\n",
              "20   21  119.290081   98.367363    0.000000     0.0     0.0     0.0     0.0   \n",
              "21   22  144.755523   99.910721  250.041794     0.0     0.0     0.0     0.0   \n",
              "22   23  100.158234  114.907524  276.324066     0.0     0.0     0.0     0.0   \n",
              "\n",
              "    Wire 8  Wire 9   Wire_rare  \n",
              "20     0.0     0.0    0.000000  \n",
              "21     0.0     0.0  250.041794  \n",
              "22     0.0     0.0  276.324066  "
            ]
          },
          "execution_count": 37,
          "metadata": {},
          "output_type": "execute_result"
        }
      ],
      "source": [
        "# объёмы проволочных материалов с объединением редких\n",
        "wire_rare = ['Wire 3', 'Wire 4', 'Wire 5', 'Wire 6', 'Wire 7', 'Wire 8', 'Wire 9']\n",
        "data_wire['Wire_rare'] = data_wire[wire_rare].sum(axis=1)\n",
        "data_wire[20:23]"
      ]
    },
    {
      "cell_type": "code",
      "execution_count": null,
      "metadata": {
        "colab": {
          "base_uri": "https://localhost:8080/",
          "height": 235
        },
        "id": "aQD2cU6igVBJ",
        "outputId": "35368be3-0d3f-47b8-8e54-83936a516eed"
      },
      "outputs": [
        {
          "data": {
            "text/html": [
              "<div>\n",
              "<style scoped>\n",
              "    .dataframe tbody tr th:only-of-type {\n",
              "        vertical-align: middle;\n",
              "    }\n",
              "\n",
              "    .dataframe tbody tr th {\n",
              "        vertical-align: top;\n",
              "    }\n",
              "\n",
              "    .dataframe thead th {\n",
              "        text-align: right;\n",
              "    }\n",
              "</style>\n",
              "<table border=\"1\" class=\"dataframe\">\n",
              "  <thead>\n",
              "    <tr style=\"text-align: right;\">\n",
              "      <th></th>\n",
              "      <th>Газ 1</th>\n",
              "      <th>Температура 1</th>\n",
              "      <th>Полная мощность</th>\n",
              "      <th>Wire 1</th>\n",
              "      <th>Wire 2</th>\n",
              "      <th>Wire_rare</th>\n",
              "      <th>Bulk 1</th>\n",
              "      <th>Bulk 3</th>\n",
              "      <th>Bulk 4</th>\n",
              "      <th>Bulk 6</th>\n",
              "      <th>Bulk 10</th>\n",
              "      <th>Bulk 11</th>\n",
              "      <th>Bulk 12</th>\n",
              "      <th>Bulk 14</th>\n",
              "      <th>Bulk 15</th>\n",
              "      <th>Bulk_rare</th>\n",
              "    </tr>\n",
              "    <tr>\n",
              "      <th>key</th>\n",
              "      <th></th>\n",
              "      <th></th>\n",
              "      <th></th>\n",
              "      <th></th>\n",
              "      <th></th>\n",
              "      <th></th>\n",
              "      <th></th>\n",
              "      <th></th>\n",
              "      <th></th>\n",
              "      <th></th>\n",
              "      <th></th>\n",
              "      <th></th>\n",
              "      <th></th>\n",
              "      <th></th>\n",
              "      <th></th>\n",
              "      <th></th>\n",
              "    </tr>\n",
              "  </thead>\n",
              "  <tbody>\n",
              "    <tr>\n",
              "      <th>1</th>\n",
              "      <td>29.749986</td>\n",
              "      <td>1571.0</td>\n",
              "      <td>1.193639</td>\n",
              "      <td>60.059998</td>\n",
              "      <td>0.00000</td>\n",
              "      <td>0.0</td>\n",
              "      <td>0.0</td>\n",
              "      <td>0.0</td>\n",
              "      <td>43.0</td>\n",
              "      <td>0.0</td>\n",
              "      <td>0.0</td>\n",
              "      <td>0.0</td>\n",
              "      <td>206.0</td>\n",
              "      <td>150.0</td>\n",
              "      <td>154.0</td>\n",
              "      <td>0.0</td>\n",
              "    </tr>\n",
              "    <tr>\n",
              "      <th>2</th>\n",
              "      <td>12.555561</td>\n",
              "      <td>1581.0</td>\n",
              "      <td>0.959010</td>\n",
              "      <td>96.052315</td>\n",
              "      <td>0.00000</td>\n",
              "      <td>0.0</td>\n",
              "      <td>0.0</td>\n",
              "      <td>0.0</td>\n",
              "      <td>73.0</td>\n",
              "      <td>0.0</td>\n",
              "      <td>0.0</td>\n",
              "      <td>0.0</td>\n",
              "      <td>206.0</td>\n",
              "      <td>149.0</td>\n",
              "      <td>154.0</td>\n",
              "      <td>0.0</td>\n",
              "    </tr>\n",
              "    <tr>\n",
              "      <th>3</th>\n",
              "      <td>28.554793</td>\n",
              "      <td>1596.0</td>\n",
              "      <td>0.896038</td>\n",
              "      <td>91.160157</td>\n",
              "      <td>0.00000</td>\n",
              "      <td>0.0</td>\n",
              "      <td>0.0</td>\n",
              "      <td>0.0</td>\n",
              "      <td>34.0</td>\n",
              "      <td>0.0</td>\n",
              "      <td>0.0</td>\n",
              "      <td>0.0</td>\n",
              "      <td>205.0</td>\n",
              "      <td>152.0</td>\n",
              "      <td>153.0</td>\n",
              "      <td>0.0</td>\n",
              "    </tr>\n",
              "    <tr>\n",
              "      <th>4</th>\n",
              "      <td>18.841219</td>\n",
              "      <td>1601.0</td>\n",
              "      <td>1.970470</td>\n",
              "      <td>89.063515</td>\n",
              "      <td>0.00000</td>\n",
              "      <td>0.0</td>\n",
              "      <td>0.0</td>\n",
              "      <td>0.0</td>\n",
              "      <td>81.0</td>\n",
              "      <td>0.0</td>\n",
              "      <td>0.0</td>\n",
              "      <td>0.0</td>\n",
              "      <td>207.0</td>\n",
              "      <td>153.0</td>\n",
              "      <td>154.0</td>\n",
              "      <td>0.0</td>\n",
              "    </tr>\n",
              "    <tr>\n",
              "      <th>5</th>\n",
              "      <td>5.413692</td>\n",
              "      <td>1576.0</td>\n",
              "      <td>0.807239</td>\n",
              "      <td>89.238236</td>\n",
              "      <td>9.11456</td>\n",
              "      <td>0.0</td>\n",
              "      <td>0.0</td>\n",
              "      <td>0.0</td>\n",
              "      <td>78.0</td>\n",
              "      <td>0.0</td>\n",
              "      <td>0.0</td>\n",
              "      <td>0.0</td>\n",
              "      <td>203.0</td>\n",
              "      <td>151.0</td>\n",
              "      <td>152.0</td>\n",
              "      <td>0.0</td>\n",
              "    </tr>\n",
              "  </tbody>\n",
              "</table>\n",
              "</div>"
            ],
            "text/plain": [
              "         Газ 1  Температура 1  Полная мощность     Wire 1   Wire 2  Wire_rare  \\\n",
              "key                                                                             \n",
              "1    29.749986         1571.0         1.193639  60.059998  0.00000        0.0   \n",
              "2    12.555561         1581.0         0.959010  96.052315  0.00000        0.0   \n",
              "3    28.554793         1596.0         0.896038  91.160157  0.00000        0.0   \n",
              "4    18.841219         1601.0         1.970470  89.063515  0.00000        0.0   \n",
              "5     5.413692         1576.0         0.807239  89.238236  9.11456        0.0   \n",
              "\n",
              "     Bulk 1  Bulk 3  Bulk 4  Bulk 6  Bulk 10  Bulk 11  Bulk 12  Bulk 14  \\\n",
              "key                                                                       \n",
              "1       0.0     0.0    43.0     0.0      0.0      0.0    206.0    150.0   \n",
              "2       0.0     0.0    73.0     0.0      0.0      0.0    206.0    149.0   \n",
              "3       0.0     0.0    34.0     0.0      0.0      0.0    205.0    152.0   \n",
              "4       0.0     0.0    81.0     0.0      0.0      0.0    207.0    153.0   \n",
              "5       0.0     0.0    78.0     0.0      0.0      0.0    203.0    151.0   \n",
              "\n",
              "     Bulk 15  Bulk_rare  \n",
              "key                      \n",
              "1      154.0        0.0  \n",
              "2      154.0        0.0  \n",
              "3      153.0        0.0  \n",
              "4      154.0        0.0  \n",
              "5      152.0        0.0  "
            ]
          },
          "execution_count": 38,
          "metadata": {},
          "output_type": "execute_result"
        }
      ],
      "source": [
        "# объединяем таблицы с добавками в одну, исключая те столбцы, которые мы объединили в редкие\n",
        "bulk_wire = data_wire.drop(columns=data_wire[wire_rare]).merge(data_bulk.drop(columns=data_bulk[bulk_rare]),\n",
        "                     on='key', how='inner') \n",
        "\n",
        "# обединяем все признаки, установив ключ партии индексом, как в таргете\n",
        "features = (features.merge(bulk_wire, on='key', how='inner')).set_index('key')\n",
        "features.head()"
      ]
    },
    {
      "cell_type": "code",
      "execution_count": null,
      "metadata": {
        "colab": {
          "base_uri": "https://localhost:8080/"
        },
        "id": "ubTTGZY9nnZT",
        "outputId": "aceb00e9-5e15-4bc2-f039-8d7efb5e26f7"
      },
      "outputs": [
        {
          "name": "stdout",
          "output_type": "stream",
          "text": [
            "Размер таблицы с признаками: (2327, 16)\n"
          ]
        }
      ],
      "source": [
        "print('Размер таблицы с признаками:', features.shape)"
      ]
    },
    {
      "cell_type": "code",
      "execution_count": null,
      "metadata": {
        "colab": {
          "base_uri": "https://localhost:8080/",
          "height": 987
        },
        "id": "qYtepP53joB2",
        "outputId": "5c099ef6-69ff-4067-ad1c-d426a3040eb3"
      },
      "outputs": [
        {
          "data": {
            "text/plain": [
              "Text(0.5, 1.0, 'Мультиколлинеарность признаков')"
            ]
          },
          "execution_count": 40,
          "metadata": {},
          "output_type": "execute_result"
        },
        {
          "data": {
            "image/png": "[encoded data removed]",
            "text/plain": [
              "<Figure size 720x720 with 2 Axes>"
            ]
          },
          "metadata": {
            "needs_background": "light"
          },
          "output_type": "display_data"
        }
      ],
      "source": [
        "# проверим признаки на мультиколлинеарность\n",
        "plt.figure(figsize=(10, 10))\n",
        "sns.heatmap(features.corr(), annot = True)\n",
        "plt.title('Мультиколлинеарность признаков');"
      ]
    },
    {
      "cell_type": "markdown",
      "metadata": {
        "id": "ETP_jtYrg6Zy"
      },
      "source": [
        "Высококоллерируемых признаков не обнаружено.\n",
        "\n",
        "Партий, вошедших в итоговую таблицу с признаками меньше, чем партий с целевым значением. Отфильтруем target, оставив только партии из features."
      ]
    },
    {
      "cell_type": "code",
      "execution_count": null,
      "metadata": {
        "colab": {
          "base_uri": "https://localhost:8080/"
        },
        "id": "oqRTKn5qgMOY",
        "outputId": "f1b64dfd-6f1b-4be1-bdbf-99974196125c"
      },
      "outputs": [
        {
          "name": "stdout",
          "output_type": "stream",
          "text": [
            "(2290, 16) (2290, 1)\n"
          ]
        }
      ],
      "source": [
        "target = target[target.index.isin(features.index)]\n",
        "features = features[features.index.isin(target.index)]\n",
        "print(features.shape, target.shape)"
      ]
    },
    {
      "cell_type": "markdown",
      "metadata": {
        "id": "cqBHJ7f-wmVa"
      },
      "source": [
        "Длины таблиц с таргетом и с фичами равны. Разделим данные на обучающие и тестовые выборки."
      ]
    },
    {
      "cell_type": "markdown",
      "metadata": {
        "id": "MpOMMBj1jAhG"
      },
      "source": [
        "### Разделение данных на выборки"
      ]
    },
    {
      "cell_type": "code",
      "execution_count": null,
      "metadata": {
        "id": "DK5kBRMqehko"
      },
      "outputs": [],
      "source": [
        "X_train, X_test, y_train, y_test = train_test_split(\n",
        "                 features, target, test_size=0.25, random_state=RANDOM_STATE)"
      ]
    },
    {
      "cell_type": "code",
      "execution_count": null,
      "metadata": {
        "colab": {
          "base_uri": "https://localhost:8080/"
        },
        "id": "RvGjtph5ehnN",
        "outputId": "181ce9ad-a3b0-4d1e-e03e-961fd5a67289"
      },
      "outputs": [
        {
          "name": "stdout",
          "output_type": "stream",
          "text": [
            "Обучающая: (1717, 16) (1717, 1)\n",
            "Тестовая: (573, 16) (573, 1)\n"
          ]
        }
      ],
      "source": [
        "# проверим размеры выборок\n",
        "print('Обучающая:', X_train.shape, y_train.shape)\n",
        "print('Тестовая:', X_test.shape, y_test.shape)"
      ]
    },
    {
      "cell_type": "code",
      "execution_count": null,
      "metadata": {
        "colab": {
          "base_uri": "https://localhost:8080/",
          "height": 235
        },
        "id": "F7DHq1Iijf0t",
        "outputId": "91f58f59-2bbb-4a69-dd04-ebf894bf82ff"
      },
      "outputs": [
        {
          "data": {
            "text/html": [
              "<div>\n",
              "<style scoped>\n",
              "    .dataframe tbody tr th:only-of-type {\n",
              "        vertical-align: middle;\n",
              "    }\n",
              "\n",
              "    .dataframe tbody tr th {\n",
              "        vertical-align: top;\n",
              "    }\n",
              "\n",
              "    .dataframe thead th {\n",
              "        text-align: right;\n",
              "    }\n",
              "</style>\n",
              "<table border=\"1\" class=\"dataframe\">\n",
              "  <thead>\n",
              "    <tr style=\"text-align: right;\">\n",
              "      <th></th>\n",
              "      <th>Газ 1</th>\n",
              "      <th>Температура 1</th>\n",
              "      <th>Полная мощность</th>\n",
              "      <th>Wire 1</th>\n",
              "      <th>Wire 2</th>\n",
              "      <th>Wire_rare</th>\n",
              "      <th>Bulk 1</th>\n",
              "      <th>Bulk 3</th>\n",
              "      <th>Bulk 4</th>\n",
              "      <th>Bulk 6</th>\n",
              "      <th>Bulk 10</th>\n",
              "      <th>Bulk 11</th>\n",
              "      <th>Bulk 12</th>\n",
              "      <th>Bulk 14</th>\n",
              "      <th>Bulk 15</th>\n",
              "      <th>Bulk_rare</th>\n",
              "    </tr>\n",
              "    <tr>\n",
              "      <th>key</th>\n",
              "      <th></th>\n",
              "      <th></th>\n",
              "      <th></th>\n",
              "      <th></th>\n",
              "      <th></th>\n",
              "      <th></th>\n",
              "      <th></th>\n",
              "      <th></th>\n",
              "      <th></th>\n",
              "      <th></th>\n",
              "      <th></th>\n",
              "      <th></th>\n",
              "      <th></th>\n",
              "      <th></th>\n",
              "      <th></th>\n",
              "      <th></th>\n",
              "    </tr>\n",
              "  </thead>\n",
              "  <tbody>\n",
              "    <tr>\n",
              "      <th>486</th>\n",
              "      <td>19.213015</td>\n",
              "      <td>1582.0</td>\n",
              "      <td>1.188884</td>\n",
              "      <td>98.186402</td>\n",
              "      <td>0.0</td>\n",
              "      <td>0.0</td>\n",
              "      <td>29.0</td>\n",
              "      <td>0.0</td>\n",
              "      <td>0.0</td>\n",
              "      <td>0.0</td>\n",
              "      <td>0.0</td>\n",
              "      <td>0.0</td>\n",
              "      <td>446.0</td>\n",
              "      <td>259.0</td>\n",
              "      <td>224.0</td>\n",
              "      <td>0.0</td>\n",
              "    </tr>\n",
              "    <tr>\n",
              "      <th>1658</th>\n",
              "      <td>17.865516</td>\n",
              "      <td>1562.0</td>\n",
              "      <td>1.232461</td>\n",
              "      <td>105.066002</td>\n",
              "      <td>0.0</td>\n",
              "      <td>0.0</td>\n",
              "      <td>27.0</td>\n",
              "      <td>137.0</td>\n",
              "      <td>0.0</td>\n",
              "      <td>0.0</td>\n",
              "      <td>0.0</td>\n",
              "      <td>0.0</td>\n",
              "      <td>399.0</td>\n",
              "      <td>199.0</td>\n",
              "      <td>179.0</td>\n",
              "      <td>0.0</td>\n",
              "    </tr>\n",
              "    <tr>\n",
              "      <th>2078</th>\n",
              "      <td>7.787218</td>\n",
              "      <td>1567.0</td>\n",
              "      <td>0.565125</td>\n",
              "      <td>34.070400</td>\n",
              "      <td>0.0</td>\n",
              "      <td>0.0</td>\n",
              "      <td>0.0</td>\n",
              "      <td>36.0</td>\n",
              "      <td>0.0</td>\n",
              "      <td>0.0</td>\n",
              "      <td>0.0</td>\n",
              "      <td>0.0</td>\n",
              "      <td>457.0</td>\n",
              "      <td>94.0</td>\n",
              "      <td>205.0</td>\n",
              "      <td>0.0</td>\n",
              "    </tr>\n",
              "    <tr>\n",
              "      <th>481</th>\n",
              "      <td>9.359756</td>\n",
              "      <td>1590.0</td>\n",
              "      <td>1.449829</td>\n",
              "      <td>65.239197</td>\n",
              "      <td>0.0</td>\n",
              "      <td>0.0</td>\n",
              "      <td>0.0</td>\n",
              "      <td>342.0</td>\n",
              "      <td>0.0</td>\n",
              "      <td>0.0</td>\n",
              "      <td>0.0</td>\n",
              "      <td>0.0</td>\n",
              "      <td>359.0</td>\n",
              "      <td>195.0</td>\n",
              "      <td>103.0</td>\n",
              "      <td>0.0</td>\n",
              "    </tr>\n",
              "    <tr>\n",
              "      <th>1078</th>\n",
              "      <td>5.640079</td>\n",
              "      <td>1618.0</td>\n",
              "      <td>0.405320</td>\n",
              "      <td>80.074799</td>\n",
              "      <td>0.0</td>\n",
              "      <td>0.0</td>\n",
              "      <td>0.0</td>\n",
              "      <td>0.0</td>\n",
              "      <td>122.0</td>\n",
              "      <td>0.0</td>\n",
              "      <td>0.0</td>\n",
              "      <td>0.0</td>\n",
              "      <td>0.0</td>\n",
              "      <td>0.0</td>\n",
              "      <td>0.0</td>\n",
              "      <td>0.0</td>\n",
              "    </tr>\n",
              "  </tbody>\n",
              "</table>\n",
              "</div>"
            ],
            "text/plain": [
              "          Газ 1  Температура 1  Полная мощность      Wire 1  Wire 2  \\\n",
              "key                                                                   \n",
              "486   19.213015         1582.0         1.188884   98.186402     0.0   \n",
              "1658  17.865516         1562.0         1.232461  105.066002     0.0   \n",
              "2078   7.787218         1567.0         0.565125   34.070400     0.0   \n",
              "481    9.359756         1590.0         1.449829   65.239197     0.0   \n",
              "1078   5.640079         1618.0         0.405320   80.074799     0.0   \n",
              "\n",
              "      Wire_rare  Bulk 1  Bulk 3  Bulk 4  Bulk 6  Bulk 10  Bulk 11  Bulk 12  \\\n",
              "key                                                                          \n",
              "486         0.0    29.0     0.0     0.0     0.0      0.0      0.0    446.0   \n",
              "1658        0.0    27.0   137.0     0.0     0.0      0.0      0.0    399.0   \n",
              "2078        0.0     0.0    36.0     0.0     0.0      0.0      0.0    457.0   \n",
              "481         0.0     0.0   342.0     0.0     0.0      0.0      0.0    359.0   \n",
              "1078        0.0     0.0     0.0   122.0     0.0      0.0      0.0      0.0   \n",
              "\n",
              "      Bulk 14  Bulk 15  Bulk_rare  \n",
              "key                                \n",
              "486     259.0    224.0        0.0  \n",
              "1658    199.0    179.0        0.0  \n",
              "2078     94.0    205.0        0.0  \n",
              "481     195.0    103.0        0.0  \n",
              "1078      0.0      0.0        0.0  "
            ]
          },
          "execution_count": 44,
          "metadata": {},
          "output_type": "execute_result"
        }
      ],
      "source": [
        "X_train.head()"
      ]
    },
    {
      "cell_type": "markdown",
      "metadata": {
        "id": "J3G-6SWtjM30"
      },
      "source": [
        "### Кодирование и масштабирование признаков"
      ]
    },
    {
      "cell_type": "markdown",
      "metadata": {
        "id": "LMg86i4BjM6Z"
      },
      "source": [
        "У нас все признаки количественные. Их необходимо отмасштабировать. Этот шаг будет организован при конвеерной обработке Pipeline.\n",
        "\n",
        "Приступаем к обучению моделей."
      ]
    },
    {
      "cell_type": "markdown",
      "metadata": {
        "id": "WHqooO_7xlMh"
      },
      "source": [
        "# Машинное обучение"
      ]
    },
    {
      "cell_type": "markdown",
      "metadata": {
        "id": "2G9lHxMUVOsG"
      },
      "source": [
        "Обучим 5 моделей: \n",
        "* простейшую Dummy;\n",
        "* линейную регрессию опорных векторов LinearSVR;\n",
        "* деревянную RandomForest;\n",
        "* 2 модели градиентного бустинга:\n",
        "  * LightGBM\n",
        "  * CatBoost.\n",
        "\n",
        "Создадим таблицу, в которую будем сохранять метрики наших моделей:"
      ]
    },
    {
      "cell_type": "code",
      "execution_count": null,
      "metadata": {
        "colab": {
          "base_uri": "https://localhost:8080/",
          "height": 204
        },
        "id": "xW0_g64uKFBY",
        "outputId": "5c53b198-76db-459b-f65e-b26c01628acc"
      },
      "outputs": [
        {
          "data": {
            "text/html": [
              "<div>\n",
              "<style scoped>\n",
              "    .dataframe tbody tr th:only-of-type {\n",
              "        vertical-align: middle;\n",
              "    }\n",
              "\n",
              "    .dataframe tbody tr th {\n",
              "        vertical-align: top;\n",
              "    }\n",
              "\n",
              "    .dataframe thead th {\n",
              "        text-align: right;\n",
              "    }\n",
              "</style>\n",
              "<table border=\"1\" class=\"dataframe\">\n",
              "  <thead>\n",
              "    <tr style=\"text-align: right;\">\n",
              "      <th></th>\n",
              "      <th>MAE</th>\n",
              "    </tr>\n",
              "  </thead>\n",
              "  <tbody>\n",
              "    <tr>\n",
              "      <th>DummyRegressor</th>\n",
              "      <td>0.0</td>\n",
              "    </tr>\n",
              "    <tr>\n",
              "      <th>LinearSVR</th>\n",
              "      <td>0.0</td>\n",
              "    </tr>\n",
              "    <tr>\n",
              "      <th>RandomForestRegressor</th>\n",
              "      <td>0.0</td>\n",
              "    </tr>\n",
              "    <tr>\n",
              "      <th>LightGBM</th>\n",
              "      <td>0.0</td>\n",
              "    </tr>\n",
              "    <tr>\n",
              "      <th>CatBoost</th>\n",
              "      <td>0.0</td>\n",
              "    </tr>\n",
              "  </tbody>\n",
              "</table>\n",
              "</div>"
            ],
            "text/plain": [
              "                       MAE\n",
              "DummyRegressor         0.0\n",
              "LinearSVR              0.0\n",
              "RandomForestRegressor  0.0\n",
              "LightGBM               0.0\n",
              "CatBoost               0.0"
            ]
          },
          "execution_count": 46,
          "metadata": {},
          "output_type": "execute_result"
        }
      ],
      "source": [
        "result = pd.DataFrame({'MAE': [0.0, 0.0, 0.0, 0.0, 0.0]\n",
        "}, index=['DummyRegressor', 'LinearSVR', 'RandomForestRegressor', 'LightGBM', 'CatBoost'])\n",
        "result"
      ]
    },
    {
      "cell_type": "markdown",
      "metadata": {
        "id": "tXr00HVTneR1"
      },
      "source": [
        "Строим простейшую baseline-модель для дальнейшей проверки лучшей модели на адекватность."
      ]
    },
    {
      "cell_type": "code",
      "execution_count": null,
      "metadata": {
        "colab": {
          "base_uri": "https://localhost:8080/"
        },
        "id": "RvJrXcr9ndfI",
        "outputId": "89d68047-f2e0-45c1-d798-4bd6fb17ccee"
      },
      "outputs": [
        {
          "name": "stdout",
          "output_type": "stream",
          "text": [
            "Метрика MAE dummy-модели при прогнозировании температуры = 8.2555\n"
          ]
        }
      ],
      "source": [
        "dummy = cross_val_score(DummyRegressor(), \n",
        "                        X_train, y_train,\n",
        "                        scoring = 'neg_mean_absolute_error',\n",
        "                        cv=5)\n",
        "mae_dummy = dummy.mean() * -1\n",
        "    \n",
        "print('Метрика MAE dummy-модели при прогнозировании температуры = {}'.format(mae_dummy.round(4)))"
      ]
    },
    {
      "cell_type": "code",
      "execution_count": null,
      "metadata": {
        "colab": {
          "base_uri": "https://localhost:8080/",
          "height": 204
        },
        "id": "WUYFb9dEW0pZ",
        "outputId": "70c10b36-9886-4e96-c4b3-a5a9f6d0b493"
      },
      "outputs": [
        {
          "data": {
            "text/html": [
              "<div>\n",
              "<style scoped>\n",
              "    .dataframe tbody tr th:only-of-type {\n",
              "        vertical-align: middle;\n",
              "    }\n",
              "\n",
              "    .dataframe tbody tr th {\n",
              "        vertical-align: top;\n",
              "    }\n",
              "\n",
              "    .dataframe thead th {\n",
              "        text-align: right;\n",
              "    }\n",
              "</style>\n",
              "<table border=\"1\" class=\"dataframe\">\n",
              "  <thead>\n",
              "    <tr style=\"text-align: right;\">\n",
              "      <th></th>\n",
              "      <th>MAE</th>\n",
              "    </tr>\n",
              "  </thead>\n",
              "  <tbody>\n",
              "    <tr>\n",
              "      <th>DummyRegressor</th>\n",
              "      <td>8.2555</td>\n",
              "    </tr>\n",
              "    <tr>\n",
              "      <th>LinearSVR</th>\n",
              "      <td>0.0000</td>\n",
              "    </tr>\n",
              "    <tr>\n",
              "      <th>RandomForestRegressor</th>\n",
              "      <td>0.0000</td>\n",
              "    </tr>\n",
              "    <tr>\n",
              "      <th>LightGBM</th>\n",
              "      <td>0.0000</td>\n",
              "    </tr>\n",
              "    <tr>\n",
              "      <th>CatBoost</th>\n",
              "      <td>0.0000</td>\n",
              "    </tr>\n",
              "  </tbody>\n",
              "</table>\n",
              "</div>"
            ],
            "text/plain": [
              "                          MAE\n",
              "DummyRegressor         8.2555\n",
              "LinearSVR              0.0000\n",
              "RandomForestRegressor  0.0000\n",
              "LightGBM               0.0000\n",
              "CatBoost               0.0000"
            ]
          },
          "execution_count": 48,
          "metadata": {},
          "output_type": "execute_result"
        }
      ],
      "source": [
        "result['MAE']['DummyRegressor'] = mae_dummy.round(4)\n",
        "result"
      ]
    },
    {
      "cell_type": "markdown",
      "metadata": {
        "id": "Hvp1_LpbXFjK"
      },
      "source": [
        "Создаю функцию, которая на вход принимает модель и список подбираемых гиперпараметров. Функция организует конвейерную обработку, которая сначала масштабирует данные методом StandardScaler, а затем обучает модель с помощью кросс-валидации, подбирая гиперпараметры через RandomizedSearchCV. Возвращает функция лучший оценщик."
      ]
    },
    {
      "cell_type": "code",
      "execution_count": null,
      "metadata": {
        "id": "vdhJye107q8W"
      },
      "outputs": [],
      "source": [
        "def rscv_pipeline(model, parameters, model_name):\n",
        "\n",
        "  pipeline = Pipeline([( \"scaler\" , StandardScaler()),\n",
        "                     (\"ml\", model)])\n",
        "    \n",
        "  random_pipeline = RandomizedSearchCV(\n",
        "          pipeline,\n",
        "          param_distributions = parameters,\n",
        "          scoring = 'neg_mean_absolute_error',\n",
        "          n_iter = 50,\n",
        "          cv = 5,\n",
        "          random_state = RANDOM_STATE,\n",
        "          verbose = 1,\n",
        "          return_train_score = True\n",
        "  )\n",
        "  random_pipeline.fit(X_train,y_train)\n",
        "\n",
        "  result['MAE'][model_name] = (random_pipeline.best_score_ * -1).round(4)\n",
        "\n",
        "  display(result)\n",
        "  print('----'*20)\n",
        "  print()\n",
        "  print('Метрика MAE {} при прогнозировании температуры = {}'.format(model_name, (random_pipeline.best_score_ * -1).round(4)))\n",
        "  print()\n",
        "  print(random_pipeline.best_params_)\n",
        "\n",
        "  return random_pipeline.best_estimator_"
      ]
    },
    {
      "cell_type": "markdown",
      "metadata": {
        "id": "MKRLqah_a3qZ"
      },
      "source": [
        "### Модель LinearSVR"
      ]
    },
    {
      "cell_type": "code",
      "execution_count": null,
      "metadata": {
        "colab": {
          "base_uri": "https://localhost:8080/",
          "height": 414
        },
        "id": "9MvAKh8UxfRV",
        "outputId": "8747fe38-96f7-445f-8a17-cc81dfe9b6e6"
      },
      "outputs": [
        {
          "name": "stdout",
          "output_type": "stream",
          "text": [
            "Fitting 5 folds for each of 15 candidates, totalling 75 fits\n"
          ]
        },
        {
          "data": {
            "text/html": [
              "<div>\n",
              "<style scoped>\n",
              "    .dataframe tbody tr th:only-of-type {\n",
              "        vertical-align: middle;\n",
              "    }\n",
              "\n",
              "    .dataframe tbody tr th {\n",
              "        vertical-align: top;\n",
              "    }\n",
              "\n",
              "    .dataframe thead th {\n",
              "        text-align: right;\n",
              "    }\n",
              "</style>\n",
              "<table border=\"1\" class=\"dataframe\">\n",
              "  <thead>\n",
              "    <tr style=\"text-align: right;\">\n",
              "      <th></th>\n",
              "      <th>MAE</th>\n",
              "    </tr>\n",
              "  </thead>\n",
              "  <tbody>\n",
              "    <tr>\n",
              "      <th>DummyRegressor</th>\n",
              "      <td>8.2555</td>\n",
              "    </tr>\n",
              "    <tr>\n",
              "      <th>LinearSVR</th>\n",
              "      <td>7.3464</td>\n",
              "    </tr>\n",
              "    <tr>\n",
              "      <th>RandomForestRegressor</th>\n",
              "      <td>0.0000</td>\n",
              "    </tr>\n",
              "    <tr>\n",
              "      <th>LightGBM</th>\n",
              "      <td>0.0000</td>\n",
              "    </tr>\n",
              "    <tr>\n",
              "      <th>CatBoost</th>\n",
              "      <td>0.0000</td>\n",
              "    </tr>\n",
              "  </tbody>\n",
              "</table>\n",
              "</div>"
            ],
            "text/plain": [
              "                          MAE\n",
              "DummyRegressor         8.2555\n",
              "LinearSVR              7.3464\n",
              "RandomForestRegressor  0.0000\n",
              "LightGBM               0.0000\n",
              "CatBoost               0.0000"
            ]
          },
          "metadata": {},
          "output_type": "display_data"
        },
        {
          "name": "stdout",
          "output_type": "stream",
          "text": [
            "--------------------------------------------------------------------------------\n",
            "\n",
            "Метрика MAE LinearSVR при прогнозировании температуры = 7.3464\n",
            "\n",
            "{'ml__max_iter': 1000, 'ml__C': 31.622776601683793}\n"
          ]
        },
        {
          "data": {
            "text/plain": [
              "Pipeline(steps=[('scaler', StandardScaler()),\n",
              "                ('ml', LinearSVR(C=31.622776601683793, random_state=100423))])"
            ]
          },
          "metadata": {},
          "output_type": "display_data"
        }
      ],
      "source": [
        "linear = LinearSVR(random_state=RANDOM_STATE)\n",
        "\n",
        "param_linear = {    'ml__C': np.logspace(0, 2, 5),\n",
        "                    'ml__max_iter': [100, 500, 1000]\n",
        "}\n",
        "\n",
        "res_linear = rscv_pipeline(linear, param_linear, 'LinearSVR')\n",
        "display(res_linear)"
      ]
    },
    {
      "cell_type": "markdown",
      "metadata": {
        "id": "fbucV-7Sd94h"
      },
      "source": [
        "### Модель RandomForestRegressor"
      ]
    },
    {
      "cell_type": "code",
      "execution_count": null,
      "metadata": {
        "colab": {
          "base_uri": "https://localhost:8080/",
          "height": 414
        },
        "id": "q5m2zOSs7iJJ",
        "outputId": "e8b29230-57d4-45d0-ed5f-2355be297d05"
      },
      "outputs": [
        {
          "name": "stdout",
          "output_type": "stream",
          "text": [
            "Fitting 5 folds for each of 8 candidates, totalling 40 fits\n"
          ]
        },
        {
          "data": {
            "text/html": [
              "<div>\n",
              "<style scoped>\n",
              "    .dataframe tbody tr th:only-of-type {\n",
              "        vertical-align: middle;\n",
              "    }\n",
              "\n",
              "    .dataframe tbody tr th {\n",
              "        vertical-align: top;\n",
              "    }\n",
              "\n",
              "    .dataframe thead th {\n",
              "        text-align: right;\n",
              "    }\n",
              "</style>\n",
              "<table border=\"1\" class=\"dataframe\">\n",
              "  <thead>\n",
              "    <tr style=\"text-align: right;\">\n",
              "      <th></th>\n",
              "      <th>MAE</th>\n",
              "    </tr>\n",
              "  </thead>\n",
              "  <tbody>\n",
              "    <tr>\n",
              "      <th>DummyRegressor</th>\n",
              "      <td>8.2555</td>\n",
              "    </tr>\n",
              "    <tr>\n",
              "      <th>LinearSVR</th>\n",
              "      <td>7.3464</td>\n",
              "    </tr>\n",
              "    <tr>\n",
              "      <th>RandomForestRegressor</th>\n",
              "      <td>7.2852</td>\n",
              "    </tr>\n",
              "    <tr>\n",
              "      <th>LightGBM</th>\n",
              "      <td>0.0000</td>\n",
              "    </tr>\n",
              "    <tr>\n",
              "      <th>CatBoost</th>\n",
              "      <td>0.0000</td>\n",
              "    </tr>\n",
              "  </tbody>\n",
              "</table>\n",
              "</div>"
            ],
            "text/plain": [
              "                          MAE\n",
              "DummyRegressor         8.2555\n",
              "LinearSVR              7.3464\n",
              "RandomForestRegressor  7.2852\n",
              "LightGBM               0.0000\n",
              "CatBoost               0.0000"
            ]
          },
          "metadata": {},
          "output_type": "display_data"
        },
        {
          "name": "stdout",
          "output_type": "stream",
          "text": [
            "--------------------------------------------------------------------------------\n",
            "\n",
            "Метрика MAE RandomForestRegressor при прогнозировании температуры = 7.2852\n",
            "\n",
            "{'ml__n_estimators': 700, 'ml__min_samples_split': 3, 'ml__max_depth': 9}\n"
          ]
        },
        {
          "data": {
            "text/plain": [
              "Pipeline(steps=[('scaler', StandardScaler()),\n",
              "                ('ml',\n",
              "                 RandomForestRegressor(max_depth=9, min_samples_split=3,\n",
              "                                       n_estimators=700,\n",
              "                                       random_state=100423))])"
            ]
          },
          "metadata": {},
          "output_type": "display_data"
        }
      ],
      "source": [
        "forest = RandomForestRegressor(random_state=RANDOM_STATE)\n",
        "\n",
        "param_rf = {\n",
        "                    'ml__n_estimators': [500, 700],\n",
        "                    'ml__max_depth': [3, 9],\n",
        "                    'ml__min_samples_split': [2,3]\n",
        "}\n",
        "\n",
        "res_forest = rscv_pipeline(forest, param_rf, 'RandomForestRegressor')\n",
        "display(res_forest)"
      ]
    },
    {
      "cell_type": "markdown",
      "metadata": {
        "id": "fqtimmWrdtJT"
      },
      "source": [
        "### Модель LightGBM"
      ]
    },
    {
      "cell_type": "code",
      "execution_count": null,
      "metadata": {
        "colab": {
          "base_uri": "https://localhost:8080/",
          "height": 414
        },
        "id": "lmcPV3jKdtbe",
        "outputId": "3287f9a6-709f-48da-8357-cbc9ef45a511"
      },
      "outputs": [
        {
          "name": "stdout",
          "output_type": "stream",
          "text": [
            "Fitting 5 folds for each of 1 candidates, totalling 5 fits\n"
          ]
        },
        {
          "data": {
            "text/html": [
              "<div>\n",
              "<style scoped>\n",
              "    .dataframe tbody tr th:only-of-type {\n",
              "        vertical-align: middle;\n",
              "    }\n",
              "\n",
              "    .dataframe tbody tr th {\n",
              "        vertical-align: top;\n",
              "    }\n",
              "\n",
              "    .dataframe thead th {\n",
              "        text-align: right;\n",
              "    }\n",
              "</style>\n",
              "<table border=\"1\" class=\"dataframe\">\n",
              "  <thead>\n",
              "    <tr style=\"text-align: right;\">\n",
              "      <th></th>\n",
              "      <th>MAE</th>\n",
              "    </tr>\n",
              "  </thead>\n",
              "  <tbody>\n",
              "    <tr>\n",
              "      <th>DummyRegressor</th>\n",
              "      <td>8.2555</td>\n",
              "    </tr>\n",
              "    <tr>\n",
              "      <th>LinearSVR</th>\n",
              "      <td>7.3464</td>\n",
              "    </tr>\n",
              "    <tr>\n",
              "      <th>RandomForestRegressor</th>\n",
              "      <td>7.2852</td>\n",
              "    </tr>\n",
              "    <tr>\n",
              "      <th>LightGBM</th>\n",
              "      <td>7.2948</td>\n",
              "    </tr>\n",
              "    <tr>\n",
              "      <th>CatBoost</th>\n",
              "      <td>0.0000</td>\n",
              "    </tr>\n",
              "  </tbody>\n",
              "</table>\n",
              "</div>"
            ],
            "text/plain": [
              "                          MAE\n",
              "DummyRegressor         8.2555\n",
              "LinearSVR              7.3464\n",
              "RandomForestRegressor  7.2852\n",
              "LightGBM               7.2948\n",
              "CatBoost               0.0000"
            ]
          },
          "metadata": {},
          "output_type": "display_data"
        },
        {
          "name": "stdout",
          "output_type": "stream",
          "text": [
            "--------------------------------------------------------------------------------\n",
            "\n",
            "Метрика MAE LightGBM при прогнозировании температуры = 7.2948\n",
            "\n",
            "{'ml__n_estimators': 150, 'ml__max_depth': 2, 'ml__learning_rate': 0.05}\n"
          ]
        },
        {
          "data": {
            "text/plain": [
              "Pipeline(steps=[('scaler', StandardScaler()),\n",
              "                ('ml',\n",
              "                 LGBMRegressor(learning_rate=0.05, max_depth=2,\n",
              "                               n_estimators=150, random_state=100423,\n",
              "                               verbose=-1))])"
            ]
          },
          "metadata": {},
          "output_type": "display_data"
        }
      ],
      "source": [
        "param_lgbm = {\n",
        "              'ml__n_estimators': [150],\n",
        "              'ml__max_depth': [2],\n",
        "              'ml__learning_rate': [0.05]\n",
        "    }\n",
        "\n",
        "lgbm = LGBMRegressor(verbose=-1, random_state=RANDOM_STATE)\n",
        "\n",
        "res_lgbm = rscv_pipeline(lgbm, param_lgbm, 'LightGBM')\n",
        "display(res_lgbm)"
      ]
    },
    {
      "cell_type": "markdown",
      "metadata": {
        "id": "mBfhWnD1dtrY"
      },
      "source": [
        "### Модель CatBoost"
      ]
    },
    {
      "cell_type": "code",
      "execution_count": null,
      "metadata": {
        "colab": {
          "base_uri": "https://localhost:8080/",
          "height": 414
        },
        "id": "ZkjLc-Qidt3i",
        "outputId": "717e3ce9-30f9-4076-e9ab-ae74d2cb32dd"
      },
      "outputs": [
        {
          "name": "stdout",
          "output_type": "stream",
          "text": [
            "Fitting 5 folds for each of 16 candidates, totalling 80 fits\n"
          ]
        },
        {
          "data": {
            "text/html": [
              "<div>\n",
              "<style scoped>\n",
              "    .dataframe tbody tr th:only-of-type {\n",
              "        vertical-align: middle;\n",
              "    }\n",
              "\n",
              "    .dataframe tbody tr th {\n",
              "        vertical-align: top;\n",
              "    }\n",
              "\n",
              "    .dataframe thead th {\n",
              "        text-align: right;\n",
              "    }\n",
              "</style>\n",
              "<table border=\"1\" class=\"dataframe\">\n",
              "  <thead>\n",
              "    <tr style=\"text-align: right;\">\n",
              "      <th></th>\n",
              "      <th>MAE</th>\n",
              "    </tr>\n",
              "  </thead>\n",
              "  <tbody>\n",
              "    <tr>\n",
              "      <th>DummyRegressor</th>\n",
              "      <td>8.2555</td>\n",
              "    </tr>\n",
              "    <tr>\n",
              "      <th>LinearSVR</th>\n",
              "      <td>7.3464</td>\n",
              "    </tr>\n",
              "    <tr>\n",
              "      <th>RandomForestRegressor</th>\n",
              "      <td>7.2852</td>\n",
              "    </tr>\n",
              "    <tr>\n",
              "      <th>LightGBM</th>\n",
              "      <td>7.2948</td>\n",
              "    </tr>\n",
              "    <tr>\n",
              "      <th>CatBoost</th>\n",
              "      <td>7.2305</td>\n",
              "    </tr>\n",
              "  </tbody>\n",
              "</table>\n",
              "</div>"
            ],
            "text/plain": [
              "                          MAE\n",
              "DummyRegressor         8.2555\n",
              "LinearSVR              7.3464\n",
              "RandomForestRegressor  7.2852\n",
              "LightGBM               7.2948\n",
              "CatBoost               7.2305"
            ]
          },
          "metadata": {},
          "output_type": "display_data"
        },
        {
          "name": "stdout",
          "output_type": "stream",
          "text": [
            "--------------------------------------------------------------------------------\n",
            "\n",
            "Метрика MAE CatBoost при прогнозировании температуры = 7.2305\n",
            "\n",
            "{'ml__min_data_in_leaf': 2, 'ml__learning_rate': 0.1, 'ml__iterations': 100, 'ml__depth': 2}\n"
          ]
        },
        {
          "data": {
            "text/plain": [
              "Pipeline(steps=[('scaler', StandardScaler()),\n",
              "                ('ml',\n",
              "                 <catboost.core.CatBoostRegressor object at 0x7fd8cf5af280>)])"
            ]
          },
          "metadata": {},
          "output_type": "display_data"
        }
      ],
      "source": [
        "cat = CatBoostRegressor(verbose=False,loss_function='MAE',random_state=RANDOM_STATE)\n",
        "\n",
        "param_cat = {\n",
        "    'ml__iterations': [100, 200],\n",
        "    'ml__learning_rate': [0.1, 0.3],\n",
        "    'ml__min_data_in_leaf': [2, 4],\n",
        "    'ml__depth': [2,4]\n",
        "    }\n",
        "\n",
        "res_cat = rscv_pipeline(cat, param_cat, 'CatBoost')\n",
        "display(res_cat)"
      ]
    },
    {
      "cell_type": "markdown",
      "metadata": {
        "id": "9DGpiEXdObQv"
      },
      "source": [
        "> Визуализируем результаты метрики MAE для каждой модели, кроме простейшей."
      ]
    },
    {
      "cell_type": "code",
      "execution_count": null,
      "metadata": {
        "colab": {
          "base_uri": "https://localhost:8080/",
          "height": 545
        },
        "id": "TAXK0G4TH1qZ",
        "outputId": "6087bb6e-d9e3-4ddd-ce2f-3d9fa19f1701"
      },
      "outputs": [
        {
          "data": {
            "image/png": "[encoded data removed]",
            "text/plain": [
              "<Figure size 720x432 with 1 Axes>"
            ]
          },
          "metadata": {
            "needs_background": "light"
          },
          "output_type": "display_data"
        }
      ],
      "source": [
        "plt.figure(figsize=(10,6))\n",
        "sns.barplot(data=result.drop('DummyRegressor', axis=0), \n",
        "            y='MAE', x = list(result.drop('DummyRegressor', axis=0).index), \n",
        "            palette='BrBG')\n",
        "plt.title('Сравнение метрик обученных моделей')\n",
        "plt.ylim(6.5, 7.5)\n",
        "plt.show()"
      ]
    },
    {
      "cell_type": "markdown",
      "metadata": {
        "id": "nlcMG9nDg_ZK"
      },
      "source": [
        ">Лучший результат показала модель CatBoost с параметрами iterations=100, learning_rate=0.1, min_data_in_leaf=2, depth=2. Метрика MAE = 7.2305. Проверим результат на тестовой выборке. "
      ]
    },
    {
      "cell_type": "markdown",
      "metadata": {
        "id": "OezfMv-Tc4ot"
      },
      "source": [
        "## Тестирование лучшей модели"
      ]
    },
    {
      "cell_type": "code",
      "execution_count": null,
      "metadata": {
        "colab": {
          "base_uri": "https://localhost:8080/"
        },
        "id": "D829Q7XlAXd5",
        "outputId": "f1ec303a-8f2d-4b61-a28a-3e3845681a10"
      },
      "outputs": [
        {
          "name": "stdout",
          "output_type": "stream",
          "text": [
            "MAE лучшей модели: 6.5341\n"
          ]
        }
      ],
      "source": [
        "predicted = res_cat.predict(X_test)\n",
        "print(f'MAE лучшей модели: {mean_absolute_error(y_test, predicted).round(4)}') "
      ]
    },
    {
      "cell_type": "markdown",
      "metadata": {
        "id": "Z8PPPHJyb8x2"
      },
      "source": [
        "> Лучшая модель показала результат на тестовой выборке 6.5341, что удовлетворяет условию заказчика, по которому метрика MAE должна быть <= 6.8."
      ]
    },
    {
      "cell_type": "markdown",
      "metadata": {
        "id": "4ZrpPKedhtn7"
      },
      "source": [
        "### Анализ модели"
      ]
    },
    {
      "cell_type": "markdown",
      "metadata": {
        "id": "Y_q-tKIZSH06"
      },
      "source": [
        "> Посмотрим какие признаки оказали наибольшую важность при обучении модели:"
      ]
    },
    {
      "cell_type": "code",
      "execution_count": null,
      "metadata": {
        "colab": {
          "base_uri": "https://localhost:8080/",
          "height": 761
        },
        "id": "Ifa26dIShpnU",
        "outputId": "0e1cfcba-9b3a-409d-f956-b710db627d81"
      },
      "outputs": [
        {
          "data": {
            "image/png": "[encoded data removed]",
            "text/plain": [
              "<Figure size 1440x1080 with 1 Axes>"
            ]
          },
          "metadata": {
            "needs_background": "light"
          },
          "output_type": "display_data"
        }
      ],
      "source": [
        "try:\n",
        "    feature_imp = pd.DataFrame(zip(res_cat[-1].feature_importances_,\n",
        "                                          res_cat.named_steps[\"scaler\"].get_feature_names_out()), \n",
        "                           columns=['Value','Feature'])\n",
        "except:\n",
        "        feature_imp = pd.DataFrame(zip(res_cat[-1].feature_importances_,\n",
        "                                       X_train.columns), columns=['Value','Feature'])\n",
        "plt.figure(figsize=(20, 15))\n",
        "sns.barplot(x=\"Value\", y=\"Feature\", data=feature_imp.sort_values(by=\"Value\", ascending=False))\n",
        "plt.title('CatBoost Features')\n",
        "plt.tight_layout()\n",
        "plt.show()"
      ]
    },
    {
      "cell_type": "markdown",
      "metadata": {
        "id": "Xd61aiujdNY2"
      },
      "source": [
        "Самыми важными признаками при прогнозировании температуры стали является первый замер температуры и объём добавки проволочного материала Wire 10. В следующую группу по влиянию на предсказания температуры можно выделить следующие 4 добавки - Wire 2 и  Bulk 6, 12, 15. \n",
        "\n",
        "Bulk 10 и объединенные редкие Bulk вообще не влияют на прогноз."
      ]
    },
    {
      "cell_type": "markdown",
      "source": [
        "# РЕЗУЛЬТАТЫ ПРОЕКТА"
      ],
      "metadata": {
        "id": "swjSlVcWeknw"
      }
    },
    {
      "cell_type": "markdown",
      "metadata": {
        "id": "kpK90n4gc4ow"
      },
      "source": [
        "<div style=\"border:solid blue 2px; padding: 20px\">\n",
        "\n",
        "В ходе работы над данным проектом было выполнено:\n",
        "   -  Проведён аналих данных, изучена описательная статистика и общая информация каждой таблицы, обнаружены аномалии и пропуски. \n",
        "  \n",
        "    С помощью боксплотов проверены на выбросы мощности, температура, подача газа и материалов (удалены аномальные значения и температуры выше 1400 градусов). Остальные выбросы оставили, так как после общения с заказчиком было выяснено, что такие значения иногда являются необходимыми во время производственного процесса.\n",
        "    \n",
        "  Также при анализе была изучена нормальность распределения: мощности и подача газа имеют отклонение вправо от нормального распределения, а распределение температуры стремится к нормальному.\n",
        "    \n",
        "  Пропуски в объёмах сыпучих и проволочных материалах заменены нулями, так как они говорят о том, что данный вид материалов не применялся при легировании стали в данной партии. Все партии, имеющие пропуски в таблице с температурами были уалены, потому что пропуски были только в последлних замерах (а это является нашей целевой), также удалены партии, имеющие только один замер.\n",
        "   \n",
        "    \n",
        "   - Затем был выделен таргет и фичи, объединенные из разных таблиц по ключу партии. \n",
        "    Факторы, которые я отобрала для обучения модели: \n",
        "    \n",
        " * первый замер температуры;\n",
        " * объём подачи газа по партии;\n",
        " * присадки;\n",
        " * полная мощность.\n",
        "   \n",
        "    \n",
        "   - После чего было разделение на обучающую и тренировочную выборки и проведено обучение 5 моделей (простейшая для проверки лучшей на адекватность, линейная регрессия опорных векторов LinearSVR; деревянная RandomForest и 2 модели градиентного бустинга (LightGBM и CatBoost). \n",
        "    \n",
        "    Для обучения моделей была организована конвейерная обработка Pipeline, которая сначала масштабировала количественные признаки методом StandardScaler, а затем модель обучалась с помощью кросс-валидации, подбирая гиперпараметры через RandomizedSearchCV.\n",
        "  \n",
        "    \n",
        "   - Результаты работы моделей были визуализированы с помощью графика барплот. Лучшую метрику MAE ранвую 7.2305 показала модель CatBoost, тестирование лучшей модели на тестовых данных показал резултат MAE = 6.5341, что удовлетворило результату задачи, по которой метрика должна быть менее 6.8.\n",
        "    \n",
        "    \n",
        "   - В конце проекта был выведен график с важностью влияния признаков на работу нашей лучшей модели. Самыми важными признаками при прогнозировании температуры стали является первый замер температуры и объём добавки проволочного материала Wire 10. В следующую группу по влиянию на предсказания температуры можно выделить следующие 4 добавки - Wire 2 и  Bulk 6, 12, 15. \n",
        "\n",
        "   Bulk 10 и объединенные редкие Bulk вообще не влияют на прогноз."
      ]
    },
    {
      "cell_type": "markdown",
      "source": [
        "<div class=\"alert alert-success\" style=\"border-color: green; border-radius: 5px\">\n",
        "    <p><u><b>Предложение бизнесу:</b></u></p>\n",
        "    <p>Если самым важным фактором является первая температура, то можно попытаться управлять энергозатратами, работая с этим признаком. Как вариант, установить границы допустимых значений температуры и фиксировать каждый выход за эти нормы. После чего, провести работу с отобранными случаями: <br>\n",
        " - выяснить какой материал и в какиз объемах подавался; <br>\n",
        " -  как проводилась продувка газом (объем и иные моменты); <br>\n",
        " - какие подавались мощности при нагреве графическими электродами. \n",
        "\n",
        "На базе полученных результатов, разработать энергосберегательные мероприятия.</p>\n",
        "</div>"
      ],
      "metadata": {
        "id": "RYgm-9OAi8jL"
      }
    }
  ],
  "metadata": {
    "ExecuteTimeLog": [
      {
        "duration": 382,
        "start_time": "2023-04-10T13:01:14.225Z"
      },
      {
        "duration": 157,
        "start_time": "2023-04-10T13:01:38.018Z"
      },
      {
        "duration": 45,
        "start_time": "2023-04-10T13:01:52.055Z"
      },
      {
        "duration": 88,
        "start_time": "2023-04-10T13:02:45.957Z"
      },
      {
        "duration": 12,
        "start_time": "2023-04-10T13:02:56.403Z"
      },
      {
        "duration": 368,
        "start_time": "2023-04-10T13:24:58.741Z"
      },
      {
        "duration": 29,
        "start_time": "2023-04-10T13:25:20.877Z"
      },
      {
        "duration": 11,
        "start_time": "2023-04-10T13:25:29.754Z"
      },
      {
        "duration": 413,
        "start_time": "2023-04-11T02:53:30.061Z"
      },
      {
        "duration": 541,
        "start_time": "2023-04-11T02:53:30.477Z"
      },
      {
        "duration": 12,
        "start_time": "2023-04-11T02:53:31.097Z"
      },
      {
        "duration": 15,
        "start_time": "2023-04-11T02:53:32.017Z"
      },
      {
        "duration": 30,
        "start_time": "2023-04-11T02:53:58.913Z"
      },
      {
        "duration": 25,
        "start_time": "2023-04-11T02:54:10.806Z"
      },
      {
        "duration": 26,
        "start_time": "2023-04-11T02:55:01.209Z"
      },
      {
        "duration": 163,
        "start_time": "2023-04-11T02:59:10.743Z"
      },
      {
        "duration": 3,
        "start_time": "2023-04-11T02:59:52.353Z"
      },
      {
        "duration": 18,
        "start_time": "2023-04-11T03:04:30.537Z"
      },
      {
        "duration": 15,
        "start_time": "2023-04-11T03:06:39.604Z"
      },
      {
        "duration": 22,
        "start_time": "2023-04-11T03:07:15.801Z"
      },
      {
        "duration": 21,
        "start_time": "2023-04-11T03:07:39.993Z"
      },
      {
        "duration": 20,
        "start_time": "2023-04-11T03:07:56.038Z"
      },
      {
        "duration": 30,
        "start_time": "2023-04-11T03:08:46.553Z"
      },
      {
        "duration": 18,
        "start_time": "2023-04-11T03:17:49.143Z"
      },
      {
        "duration": 19,
        "start_time": "2023-04-11T03:17:53.167Z"
      },
      {
        "duration": 18,
        "start_time": "2023-04-11T03:18:44.893Z"
      },
      {
        "duration": 31,
        "start_time": "2023-04-11T03:22:40.060Z"
      },
      {
        "duration": 36,
        "start_time": "2023-04-11T03:23:14.134Z"
      },
      {
        "duration": 19,
        "start_time": "2023-04-11T03:23:32.753Z"
      },
      {
        "duration": 18,
        "start_time": "2023-04-11T03:28:15.216Z"
      },
      {
        "duration": 53,
        "start_time": "2023-04-11T03:29:00.216Z"
      },
      {
        "duration": 801,
        "start_time": "2023-04-11T03:29:13.002Z"
      },
      {
        "duration": 29,
        "start_time": "2023-04-11T03:29:22.653Z"
      },
      {
        "duration": 32,
        "start_time": "2023-04-11T03:29:29.177Z"
      },
      {
        "duration": 21,
        "start_time": "2023-04-11T03:29:33.991Z"
      },
      {
        "duration": 25,
        "start_time": "2023-04-11T03:29:40.013Z"
      },
      {
        "duration": 44,
        "start_time": "2023-04-11T03:29:54.883Z"
      },
      {
        "duration": 27,
        "start_time": "2023-04-11T03:30:00.708Z"
      },
      {
        "duration": 18,
        "start_time": "2023-04-11T03:30:11.736Z"
      },
      {
        "duration": 19,
        "start_time": "2023-04-11T03:30:19.370Z"
      },
      {
        "duration": 18,
        "start_time": "2023-04-11T03:30:33.673Z"
      },
      {
        "duration": 419,
        "start_time": "2023-04-11T03:31:29.765Z"
      },
      {
        "duration": 60,
        "start_time": "2023-04-11T03:31:34.814Z"
      },
      {
        "duration": 367,
        "start_time": "2023-04-11T03:31:48.908Z"
      },
      {
        "duration": 24,
        "start_time": "2023-04-11T03:32:04.264Z"
      },
      {
        "duration": 21,
        "start_time": "2023-04-11T03:32:14.590Z"
      },
      {
        "duration": 775,
        "start_time": "2023-04-11T03:32:52.964Z"
      },
      {
        "duration": 58,
        "start_time": "2023-04-11T03:33:09.971Z"
      },
      {
        "duration": 24,
        "start_time": "2023-04-11T03:33:18.888Z"
      },
      {
        "duration": 7,
        "start_time": "2023-04-11T03:54:45.108Z"
      },
      {
        "duration": 25,
        "start_time": "2023-04-11T03:55:14.018Z"
      },
      {
        "duration": 26,
        "start_time": "2023-04-11T03:55:44.468Z"
      },
      {
        "duration": 26,
        "start_time": "2023-04-11T03:56:18.976Z"
      },
      {
        "duration": 28,
        "start_time": "2023-04-11T03:56:44.762Z"
      },
      {
        "duration": 24,
        "start_time": "2023-04-11T03:56:56.468Z"
      },
      {
        "duration": 28,
        "start_time": "2023-04-11T03:57:03.813Z"
      },
      {
        "duration": 22,
        "start_time": "2023-04-11T03:59:16.538Z"
      },
      {
        "duration": 20,
        "start_time": "2023-04-11T03:59:30.517Z"
      },
      {
        "duration": 21,
        "start_time": "2023-04-11T04:07:38.765Z"
      },
      {
        "duration": 43,
        "start_time": "2023-04-11T04:08:01.809Z"
      },
      {
        "duration": 21,
        "start_time": "2023-04-11T04:15:14.856Z"
      },
      {
        "duration": 21,
        "start_time": "2023-04-11T04:15:54.807Z"
      },
      {
        "duration": 8,
        "start_time": "2023-04-11T04:18:15.444Z"
      },
      {
        "duration": 13940,
        "start_time": "2023-04-11T04:18:31.880Z"
      },
      {
        "duration": 3281,
        "start_time": "2023-04-11T04:18:45.823Z"
      },
      {
        "duration": 6023,
        "start_time": "2023-04-11T04:19:13.760Z"
      },
      {
        "duration": 41401,
        "start_time": "2023-04-11T04:22:14.423Z"
      },
      {
        "duration": 62,
        "start_time": "2023-04-11T08:45:01.017Z"
      },
      {
        "duration": 464,
        "start_time": "2023-04-11T08:45:04.525Z"
      },
      {
        "duration": 16114,
        "start_time": "2023-04-11T08:45:09.645Z"
      },
      {
        "duration": 2337,
        "start_time": "2023-04-11T08:45:32.437Z"
      },
      {
        "duration": 3,
        "start_time": "2023-04-11T08:45:42.611Z"
      },
      {
        "duration": 2,
        "start_time": "2023-04-11T08:45:53.315Z"
      },
      {
        "duration": 539,
        "start_time": "2023-04-11T08:45:59.181Z"
      },
      {
        "duration": 27,
        "start_time": "2023-04-11T08:46:00.320Z"
      },
      {
        "duration": 17,
        "start_time": "2023-04-11T08:46:00.945Z"
      },
      {
        "duration": 18,
        "start_time": "2023-04-11T08:46:01.179Z"
      },
      {
        "duration": 35183,
        "start_time": "2023-04-11T08:46:01.426Z"
      },
      {
        "duration": 24,
        "start_time": "2023-04-11T08:46:36.611Z"
      },
      {
        "duration": 24,
        "start_time": "2023-04-11T08:46:36.636Z"
      },
      {
        "duration": 13,
        "start_time": "2023-04-11T08:46:36.662Z"
      },
      {
        "duration": 79,
        "start_time": "2023-04-11T08:46:36.677Z"
      },
      {
        "duration": 16,
        "start_time": "2023-04-11T08:46:36.758Z"
      },
      {
        "duration": 18,
        "start_time": "2023-04-11T08:46:36.775Z"
      },
      {
        "duration": 17,
        "start_time": "2023-04-11T08:46:36.795Z"
      },
      {
        "duration": 21,
        "start_time": "2023-04-11T08:47:05.919Z"
      },
      {
        "duration": 33,
        "start_time": "2023-04-11T08:47:35.360Z"
      },
      {
        "duration": 1707,
        "start_time": "2023-04-11T08:48:35.786Z"
      },
      {
        "duration": 14,
        "start_time": "2023-04-11T08:49:00.105Z"
      },
      {
        "duration": 10,
        "start_time": "2023-04-11T08:49:29.877Z"
      },
      {
        "duration": 32,
        "start_time": "2023-04-11T08:50:02.682Z"
      },
      {
        "duration": 11,
        "start_time": "2023-04-11T08:50:24.713Z"
      },
      {
        "duration": 7,
        "start_time": "2023-04-11T08:50:32.570Z"
      },
      {
        "duration": 11,
        "start_time": "2023-04-11T08:50:43.651Z"
      },
      {
        "duration": 9,
        "start_time": "2023-04-11T08:50:58.749Z"
      },
      {
        "duration": 8,
        "start_time": "2023-04-11T08:51:18.493Z"
      },
      {
        "duration": 9,
        "start_time": "2023-04-11T08:51:26.357Z"
      },
      {
        "duration": 21,
        "start_time": "2023-04-11T08:54:46.810Z"
      },
      {
        "duration": 455,
        "start_time": "2023-04-11T12:07:59.141Z"
      },
      {
        "duration": 702,
        "start_time": "2023-04-11T12:08:02.728Z"
      },
      {
        "duration": 428,
        "start_time": "2023-04-11T12:11:51.920Z"
      },
      {
        "duration": 213,
        "start_time": "2023-04-11T12:11:52.350Z"
      },
      {
        "duration": 16,
        "start_time": "2023-04-11T12:12:06.515Z"
      },
      {
        "duration": 28,
        "start_time": "2023-04-11T12:12:06.533Z"
      },
      {
        "duration": 17,
        "start_time": "2023-04-11T12:12:06.563Z"
      },
      {
        "duration": 29,
        "start_time": "2023-04-11T12:12:06.581Z"
      },
      {
        "duration": 82,
        "start_time": "2023-04-11T12:12:08.144Z"
      },
      {
        "duration": 0,
        "start_time": "2023-04-11T12:12:08.228Z"
      },
      {
        "duration": 0,
        "start_time": "2023-04-11T12:12:08.229Z"
      },
      {
        "duration": 0,
        "start_time": "2023-04-11T12:12:08.231Z"
      },
      {
        "duration": 0,
        "start_time": "2023-04-11T12:12:08.233Z"
      },
      {
        "duration": 0,
        "start_time": "2023-04-11T12:12:08.234Z"
      },
      {
        "duration": 0,
        "start_time": "2023-04-11T12:12:08.235Z"
      },
      {
        "duration": 0,
        "start_time": "2023-04-11T12:12:08.236Z"
      },
      {
        "duration": 0,
        "start_time": "2023-04-11T12:12:08.237Z"
      },
      {
        "duration": 7,
        "start_time": "2023-04-11T12:15:02.207Z"
      },
      {
        "duration": 25,
        "start_time": "2023-04-11T12:15:37.441Z"
      },
      {
        "duration": 5,
        "start_time": "2023-04-11T12:16:08.007Z"
      },
      {
        "duration": 44,
        "start_time": "2023-04-11T12:16:08.015Z"
      },
      {
        "duration": 4,
        "start_time": "2023-04-11T12:16:33.843Z"
      },
      {
        "duration": 35,
        "start_time": "2023-04-11T12:16:35.402Z"
      },
      {
        "duration": 4,
        "start_time": "2023-04-11T12:16:50.630Z"
      },
      {
        "duration": 42,
        "start_time": "2023-04-11T12:16:52.821Z"
      },
      {
        "duration": 4,
        "start_time": "2023-04-11T12:17:01.216Z"
      },
      {
        "duration": 4,
        "start_time": "2023-04-11T12:17:36.975Z"
      },
      {
        "duration": 11,
        "start_time": "2023-04-11T12:17:38.908Z"
      },
      {
        "duration": 6,
        "start_time": "2023-04-11T12:17:47.570Z"
      },
      {
        "duration": 35,
        "start_time": "2023-04-11T12:17:47.842Z"
      },
      {
        "duration": 4,
        "start_time": "2023-04-11T12:18:10.947Z"
      },
      {
        "duration": 49,
        "start_time": "2023-04-11T12:18:12.779Z"
      },
      {
        "duration": 3,
        "start_time": "2023-04-11T12:19:21.109Z"
      },
      {
        "duration": 42,
        "start_time": "2023-04-11T12:19:21.883Z"
      },
      {
        "duration": 3,
        "start_time": "2023-04-11T12:21:04.737Z"
      },
      {
        "duration": 4,
        "start_time": "2023-04-11T12:21:35.306Z"
      },
      {
        "duration": 97,
        "start_time": "2023-04-11T12:22:41.322Z"
      },
      {
        "duration": 47,
        "start_time": "2023-04-11T12:24:23.568Z"
      },
      {
        "duration": 28,
        "start_time": "2023-04-11T12:24:57.911Z"
      },
      {
        "duration": 43,
        "start_time": "2023-04-11T12:28:06.430Z"
      },
      {
        "duration": 203,
        "start_time": "2023-04-11T12:28:21.320Z"
      },
      {
        "duration": 57,
        "start_time": "2023-04-11T12:28:44.321Z"
      },
      {
        "duration": 31,
        "start_time": "2023-04-11T12:29:01.906Z"
      },
      {
        "duration": 44,
        "start_time": "2023-04-11T12:29:07.558Z"
      },
      {
        "duration": 62,
        "start_time": "2023-04-11T12:29:10.946Z"
      },
      {
        "duration": 9,
        "start_time": "2023-04-11T12:37:58.884Z"
      },
      {
        "duration": 6,
        "start_time": "2023-04-11T12:38:50.377Z"
      },
      {
        "duration": 6,
        "start_time": "2023-04-11T12:39:03.333Z"
      },
      {
        "duration": 5,
        "start_time": "2023-04-11T12:45:18.042Z"
      },
      {
        "duration": 6,
        "start_time": "2023-04-11T12:45:48.258Z"
      },
      {
        "duration": 6,
        "start_time": "2023-04-11T12:45:57.164Z"
      },
      {
        "duration": 4,
        "start_time": "2023-04-11T12:51:52.378Z"
      },
      {
        "duration": 19,
        "start_time": "2023-04-11T12:52:05.567Z"
      },
      {
        "duration": 19,
        "start_time": "2023-04-11T12:52:18.433Z"
      },
      {
        "duration": 3,
        "start_time": "2023-04-11T12:53:06.808Z"
      },
      {
        "duration": 30,
        "start_time": "2023-04-11T12:53:07.781Z"
      },
      {
        "duration": 43,
        "start_time": "2023-04-11T12:53:31.030Z"
      },
      {
        "duration": 13,
        "start_time": "2023-04-11T12:57:16.717Z"
      },
      {
        "duration": 12,
        "start_time": "2023-04-11T12:57:23.862Z"
      },
      {
        "duration": 30,
        "start_time": "2023-04-11T12:57:52.346Z"
      },
      {
        "duration": 27,
        "start_time": "2023-04-11T12:57:58.756Z"
      },
      {
        "duration": 30,
        "start_time": "2023-04-11T12:58:50.516Z"
      },
      {
        "duration": 7,
        "start_time": "2023-04-11T12:59:44.705Z"
      },
      {
        "duration": 9,
        "start_time": "2023-04-11T12:59:48.636Z"
      },
      {
        "duration": 27,
        "start_time": "2023-04-11T13:19:48.800Z"
      },
      {
        "duration": 2997,
        "start_time": "2023-04-11T13:23:35.380Z"
      },
      {
        "duration": 2672,
        "start_time": "2023-04-11T13:23:41.941Z"
      },
      {
        "duration": 3942,
        "start_time": "2023-04-11T13:23:55.317Z"
      },
      {
        "duration": 10,
        "start_time": "2023-04-11T13:24:28.245Z"
      },
      {
        "duration": 3152,
        "start_time": "2023-04-11T13:24:41.374Z"
      },
      {
        "duration": 10,
        "start_time": "2023-04-11T13:24:59.184Z"
      },
      {
        "duration": 10,
        "start_time": "2023-04-11T13:25:05.554Z"
      },
      {
        "duration": 11,
        "start_time": "2023-04-11T13:25:08.939Z"
      },
      {
        "duration": 22,
        "start_time": "2023-04-11T13:25:21.141Z"
      },
      {
        "duration": 11,
        "start_time": "2023-04-11T13:25:41.739Z"
      },
      {
        "duration": 19,
        "start_time": "2023-04-11T13:25:45.139Z"
      },
      {
        "duration": 14,
        "start_time": "2023-04-11T13:25:56.613Z"
      },
      {
        "duration": 16,
        "start_time": "2023-04-11T13:26:10.499Z"
      },
      {
        "duration": 21,
        "start_time": "2023-04-11T13:27:14.564Z"
      },
      {
        "duration": 15,
        "start_time": "2023-04-11T13:27:36.540Z"
      },
      {
        "duration": 23,
        "start_time": "2023-04-11T13:27:43.387Z"
      },
      {
        "duration": 13,
        "start_time": "2023-04-11T13:28:12.284Z"
      },
      {
        "duration": 13,
        "start_time": "2023-04-11T13:28:51.407Z"
      },
      {
        "duration": 1006,
        "start_time": "2023-04-11T14:37:48.467Z"
      },
      {
        "duration": 9338,
        "start_time": "2023-04-11T14:40:12.048Z"
      },
      {
        "duration": 5077,
        "start_time": "2023-04-11T14:40:31.390Z"
      },
      {
        "duration": 18,
        "start_time": "2023-04-11T14:41:13.711Z"
      },
      {
        "duration": 16,
        "start_time": "2023-04-11T14:41:27.408Z"
      },
      {
        "duration": 13,
        "start_time": "2023-04-11T14:41:36.947Z"
      },
      {
        "duration": 12,
        "start_time": "2023-04-11T14:41:41.458Z"
      },
      {
        "duration": 324,
        "start_time": "2023-04-11T14:47:43.753Z"
      },
      {
        "duration": 40,
        "start_time": "2023-04-11T14:50:19.920Z"
      },
      {
        "duration": 102,
        "start_time": "2023-04-11T14:51:21.202Z"
      },
      {
        "duration": 24,
        "start_time": "2023-04-11T14:51:37.175Z"
      },
      {
        "duration": 7,
        "start_time": "2023-04-11T14:52:24.941Z"
      },
      {
        "duration": 213,
        "start_time": "2023-04-11T14:52:28.798Z"
      },
      {
        "duration": 161,
        "start_time": "2023-04-11T14:52:56.943Z"
      },
      {
        "duration": 259,
        "start_time": "2023-04-11T14:54:50.810Z"
      },
      {
        "duration": 160,
        "start_time": "2023-04-11T14:54:57.770Z"
      },
      {
        "duration": 153,
        "start_time": "2023-04-11T15:00:04.314Z"
      },
      {
        "duration": 359,
        "start_time": "2023-04-11T15:00:27.999Z"
      },
      {
        "duration": 185,
        "start_time": "2023-04-11T15:00:42.521Z"
      },
      {
        "duration": 175,
        "start_time": "2023-04-11T15:00:48.243Z"
      },
      {
        "duration": 220,
        "start_time": "2023-04-11T15:01:00.836Z"
      },
      {
        "duration": 691,
        "start_time": "2023-04-11T15:07:50.055Z"
      },
      {
        "duration": 649,
        "start_time": "2023-04-11T15:07:54.875Z"
      },
      {
        "duration": 620,
        "start_time": "2023-04-11T15:08:29.021Z"
      },
      {
        "duration": 778,
        "start_time": "2023-04-11T15:08:51.006Z"
      },
      {
        "duration": 713,
        "start_time": "2023-04-11T15:08:56.428Z"
      },
      {
        "duration": 714,
        "start_time": "2023-04-11T15:09:00.043Z"
      },
      {
        "duration": 124,
        "start_time": "2023-04-11T15:09:20.901Z"
      },
      {
        "duration": 494,
        "start_time": "2023-04-11T15:09:27.468Z"
      },
      {
        "duration": 723,
        "start_time": "2023-04-11T15:09:45.638Z"
      },
      {
        "duration": 737,
        "start_time": "2023-04-11T15:09:49.600Z"
      },
      {
        "duration": 832,
        "start_time": "2023-04-11T15:10:43.871Z"
      },
      {
        "duration": 631,
        "start_time": "2023-04-11T15:11:35.404Z"
      },
      {
        "duration": 745,
        "start_time": "2023-04-11T15:11:45.100Z"
      },
      {
        "duration": 686,
        "start_time": "2023-04-11T15:12:32.707Z"
      },
      {
        "duration": 589,
        "start_time": "2023-04-11T15:12:53.440Z"
      },
      {
        "duration": 742,
        "start_time": "2023-04-11T15:13:00.338Z"
      },
      {
        "duration": 831,
        "start_time": "2023-04-11T15:14:49.279Z"
      },
      {
        "duration": 21,
        "start_time": "2023-04-11T15:15:08.231Z"
      },
      {
        "duration": 600,
        "start_time": "2023-04-11T15:15:16.039Z"
      },
      {
        "duration": 615,
        "start_time": "2023-04-11T15:16:03.109Z"
      },
      {
        "duration": 669,
        "start_time": "2023-04-11T15:16:07.645Z"
      },
      {
        "duration": 716,
        "start_time": "2023-04-11T15:16:12.444Z"
      },
      {
        "duration": 696,
        "start_time": "2023-04-11T15:16:17.460Z"
      },
      {
        "duration": 871,
        "start_time": "2023-04-11T15:17:19.047Z"
      },
      {
        "duration": 741,
        "start_time": "2023-04-11T15:17:23.914Z"
      },
      {
        "duration": 694,
        "start_time": "2023-04-11T15:17:29.627Z"
      },
      {
        "duration": 837,
        "start_time": "2023-04-11T15:17:35.568Z"
      },
      {
        "duration": 675,
        "start_time": "2023-04-11T15:17:42.442Z"
      },
      {
        "duration": 168,
        "start_time": "2023-04-11T15:17:57.403Z"
      },
      {
        "duration": 1500,
        "start_time": "2023-04-11T15:19:25.175Z"
      },
      {
        "duration": 1632,
        "start_time": "2023-04-11T15:19:33.130Z"
      },
      {
        "duration": 1659,
        "start_time": "2023-04-11T15:19:53.802Z"
      },
      {
        "duration": 1770,
        "start_time": "2023-04-11T15:19:59.416Z"
      },
      {
        "duration": 1649,
        "start_time": "2023-04-11T15:20:09.608Z"
      },
      {
        "duration": 20,
        "start_time": "2023-04-11T15:20:48.631Z"
      },
      {
        "duration": 1429,
        "start_time": "2023-04-11T15:21:53.349Z"
      },
      {
        "duration": 1313,
        "start_time": "2023-04-11T15:22:02.931Z"
      },
      {
        "duration": 19,
        "start_time": "2023-04-11T15:27:13.183Z"
      },
      {
        "duration": 112,
        "start_time": "2023-04-11T15:27:23.914Z"
      },
      {
        "duration": 10,
        "start_time": "2023-04-11T15:27:54.528Z"
      },
      {
        "duration": 11,
        "start_time": "2023-04-11T15:28:08.458Z"
      },
      {
        "duration": 16,
        "start_time": "2023-04-11T15:28:13.214Z"
      },
      {
        "duration": 828,
        "start_time": "2023-04-11T15:31:55.436Z"
      },
      {
        "duration": 868,
        "start_time": "2023-04-11T15:33:07.309Z"
      },
      {
        "duration": 1038,
        "start_time": "2023-04-11T15:33:36.645Z"
      },
      {
        "duration": 2368,
        "start_time": "2023-04-11T15:34:05.230Z"
      },
      {
        "duration": 3291,
        "start_time": "2023-04-11T15:35:17.644Z"
      },
      {
        "duration": 483,
        "start_time": "2023-04-11T15:36:40.640Z"
      },
      {
        "duration": 500,
        "start_time": "2023-04-11T15:36:53.452Z"
      },
      {
        "duration": 616,
        "start_time": "2023-04-11T15:36:59.600Z"
      },
      {
        "duration": 13,
        "start_time": "2023-04-11T15:38:14.406Z"
      },
      {
        "duration": 3234,
        "start_time": "2023-04-11T15:38:25.039Z"
      },
      {
        "duration": 12,
        "start_time": "2023-04-11T15:38:34.984Z"
      },
      {
        "duration": 163,
        "start_time": "2023-04-11T15:38:44.015Z"
      },
      {
        "duration": 170,
        "start_time": "2023-04-11T15:38:56.662Z"
      },
      {
        "duration": 255,
        "start_time": "2023-04-11T15:39:14.212Z"
      },
      {
        "duration": 18,
        "start_time": "2023-04-11T15:39:58.622Z"
      },
      {
        "duration": 15,
        "start_time": "2023-04-11T15:40:09.361Z"
      },
      {
        "duration": 597,
        "start_time": "2023-04-11T15:43:09.453Z"
      },
      {
        "duration": 86,
        "start_time": "2023-04-11T15:43:21.554Z"
      },
      {
        "duration": 537,
        "start_time": "2023-04-11T15:43:29.624Z"
      },
      {
        "duration": 1496,
        "start_time": "2023-04-11T15:44:43.756Z"
      },
      {
        "duration": 527,
        "start_time": "2023-04-11T15:45:53.808Z"
      },
      {
        "duration": 1641,
        "start_time": "2023-04-11T15:46:16.159Z"
      },
      {
        "duration": 1507,
        "start_time": "2023-04-11T15:46:32.945Z"
      },
      {
        "duration": 1605,
        "start_time": "2023-04-11T15:47:00.747Z"
      },
      {
        "duration": 1576,
        "start_time": "2023-04-11T15:47:48.207Z"
      },
      {
        "duration": 1465,
        "start_time": "2023-04-11T15:48:01.774Z"
      },
      {
        "duration": 1533,
        "start_time": "2023-04-11T15:48:15.923Z"
      },
      {
        "duration": 1395,
        "start_time": "2023-04-11T15:48:25.510Z"
      },
      {
        "duration": 14,
        "start_time": "2023-04-11T15:51:48.302Z"
      },
      {
        "duration": 38,
        "start_time": "2023-04-11T15:51:54.972Z"
      },
      {
        "duration": 24,
        "start_time": "2023-04-11T15:52:12.947Z"
      },
      {
        "duration": 553,
        "start_time": "2023-04-11T15:52:23.331Z"
      },
      {
        "duration": 3,
        "start_time": "2023-04-11T15:54:53.637Z"
      },
      {
        "duration": 185,
        "start_time": "2023-04-11T15:57:27.010Z"
      },
      {
        "duration": 9,
        "start_time": "2023-04-11T16:00:09.255Z"
      },
      {
        "duration": 201,
        "start_time": "2023-04-11T16:00:32.710Z"
      },
      {
        "duration": 9,
        "start_time": "2023-04-11T16:00:53.978Z"
      },
      {
        "duration": 186,
        "start_time": "2023-04-11T16:00:54.745Z"
      },
      {
        "duration": 351,
        "start_time": "2023-04-11T16:05:25.294Z"
      },
      {
        "duration": 1461,
        "start_time": "2023-04-11T16:06:23.508Z"
      },
      {
        "duration": 6,
        "start_time": "2023-04-11T16:13:26.893Z"
      },
      {
        "duration": 1287,
        "start_time": "2023-04-11T16:13:36.715Z"
      },
      {
        "duration": 206,
        "start_time": "2023-04-11T16:13:45.227Z"
      },
      {
        "duration": 271,
        "start_time": "2023-04-11T16:13:50.552Z"
      },
      {
        "duration": 7,
        "start_time": "2023-04-11T16:13:53.550Z"
      },
      {
        "duration": 1620,
        "start_time": "2023-04-11T16:13:56.704Z"
      },
      {
        "duration": 384,
        "start_time": "2023-04-11T16:15:57.650Z"
      },
      {
        "duration": 375,
        "start_time": "2023-04-11T16:16:02.003Z"
      },
      {
        "duration": 1734,
        "start_time": "2023-04-11T16:17:02.106Z"
      },
      {
        "duration": 16,
        "start_time": "2023-04-11T16:17:12.454Z"
      },
      {
        "duration": 199,
        "start_time": "2023-04-11T16:21:32.747Z"
      },
      {
        "duration": 365,
        "start_time": "2023-04-11T16:21:44.941Z"
      },
      {
        "duration": 356,
        "start_time": "2023-04-11T16:22:08.503Z"
      },
      {
        "duration": 205,
        "start_time": "2023-04-11T16:22:19.027Z"
      },
      {
        "duration": 25,
        "start_time": "2023-04-11T16:22:32.351Z"
      },
      {
        "duration": 17,
        "start_time": "2023-04-11T16:22:49.733Z"
      },
      {
        "duration": 14,
        "start_time": "2023-04-11T16:23:56.578Z"
      },
      {
        "duration": 8,
        "start_time": "2023-04-11T16:24:06.029Z"
      },
      {
        "duration": 4,
        "start_time": "2023-04-11T16:24:14.975Z"
      },
      {
        "duration": 5,
        "start_time": "2023-04-11T16:24:36.625Z"
      },
      {
        "duration": 6,
        "start_time": "2023-04-11T16:24:52.244Z"
      },
      {
        "duration": 7,
        "start_time": "2023-04-11T16:25:04.714Z"
      },
      {
        "duration": 6,
        "start_time": "2023-04-11T16:25:12.345Z"
      },
      {
        "duration": 6,
        "start_time": "2023-04-11T16:25:22.877Z"
      },
      {
        "duration": 514,
        "start_time": "2023-04-11T16:25:34.858Z"
      },
      {
        "duration": 277,
        "start_time": "2023-04-11T16:29:56.870Z"
      },
      {
        "duration": 281,
        "start_time": "2023-04-11T16:29:59.853Z"
      },
      {
        "duration": 170,
        "start_time": "2023-04-11T16:33:14.055Z"
      },
      {
        "duration": 183,
        "start_time": "2023-04-11T16:33:19.527Z"
      },
      {
        "duration": 190,
        "start_time": "2023-04-11T16:33:24.580Z"
      },
      {
        "duration": 142,
        "start_time": "2023-04-11T16:33:32.030Z"
      },
      {
        "duration": 202,
        "start_time": "2023-04-11T16:33:36.175Z"
      },
      {
        "duration": 163,
        "start_time": "2023-04-11T16:33:42.542Z"
      },
      {
        "duration": 6,
        "start_time": "2023-04-11T16:37:44.629Z"
      },
      {
        "duration": 147,
        "start_time": "2023-04-11T16:37:50.335Z"
      },
      {
        "duration": 488,
        "start_time": "2023-04-11T16:38:33.551Z"
      },
      {
        "duration": 48906,
        "start_time": "2023-04-11T16:38:48.054Z"
      },
      {
        "duration": 443,
        "start_time": "2023-04-11T16:39:36.963Z"
      },
      {
        "duration": 208,
        "start_time": "2023-04-11T16:41:17.136Z"
      },
      {
        "duration": 3146,
        "start_time": "2023-04-11T16:41:37.732Z"
      },
      {
        "duration": 185,
        "start_time": "2023-04-11T16:42:25.260Z"
      },
      {
        "duration": 140,
        "start_time": "2023-04-11T16:44:20.140Z"
      },
      {
        "duration": 7,
        "start_time": "2023-04-11T16:46:00.978Z"
      },
      {
        "duration": 4,
        "start_time": "2023-04-11T16:46:19.504Z"
      },
      {
        "duration": 1431,
        "start_time": "2023-04-11T19:34:35.921Z"
      },
      {
        "duration": 971,
        "start_time": "2023-04-11T19:34:37.354Z"
      },
      {
        "duration": 3,
        "start_time": "2023-04-11T19:34:38.327Z"
      },
      {
        "duration": 68,
        "start_time": "2023-04-11T19:34:38.332Z"
      },
      {
        "duration": 63,
        "start_time": "2023-04-11T19:34:38.402Z"
      },
      {
        "duration": 60,
        "start_time": "2023-04-11T19:34:38.466Z"
      },
      {
        "duration": 22,
        "start_time": "2023-04-11T19:34:38.528Z"
      },
      {
        "duration": 45,
        "start_time": "2023-04-11T19:34:38.552Z"
      },
      {
        "duration": 54,
        "start_time": "2023-04-11T19:34:38.606Z"
      },
      {
        "duration": 80,
        "start_time": "2023-04-11T19:34:38.662Z"
      },
      {
        "duration": 5,
        "start_time": "2023-04-11T19:34:38.743Z"
      },
      {
        "duration": 207,
        "start_time": "2023-04-11T19:34:38.750Z"
      },
      {
        "duration": 6,
        "start_time": "2023-04-11T19:34:38.958Z"
      },
      {
        "duration": 360,
        "start_time": "2023-04-11T19:34:38.965Z"
      },
      {
        "duration": 289,
        "start_time": "2023-04-11T19:34:39.328Z"
      },
      {
        "duration": 135,
        "start_time": "2023-04-11T19:34:39.619Z"
      },
      {
        "duration": 5,
        "start_time": "2023-04-11T19:34:39.755Z"
      },
      {
        "duration": 160,
        "start_time": "2023-04-11T19:34:39.761Z"
      },
      {
        "duration": 11,
        "start_time": "2023-04-11T19:34:39.926Z"
      },
      {
        "duration": 1222,
        "start_time": "2023-04-11T19:34:39.938Z"
      },
      {
        "duration": 398,
        "start_time": "2023-04-11T19:34:41.161Z"
      },
      {
        "duration": 45,
        "start_time": "2023-04-12T03:27:08.045Z"
      },
      {
        "duration": 1277,
        "start_time": "2023-04-12T03:27:13.046Z"
      },
      {
        "duration": 593,
        "start_time": "2023-04-12T03:27:14.325Z"
      },
      {
        "duration": 3,
        "start_time": "2023-04-12T03:27:14.920Z"
      },
      {
        "duration": 46,
        "start_time": "2023-04-12T03:27:14.925Z"
      },
      {
        "duration": 78,
        "start_time": "2023-04-12T03:27:14.973Z"
      },
      {
        "duration": 31,
        "start_time": "2023-04-12T03:27:15.054Z"
      },
      {
        "duration": 49,
        "start_time": "2023-04-12T03:27:15.086Z"
      },
      {
        "duration": 25,
        "start_time": "2023-04-12T03:27:15.137Z"
      },
      {
        "duration": 46,
        "start_time": "2023-04-12T03:27:15.164Z"
      },
      {
        "duration": 26,
        "start_time": "2023-04-12T03:27:15.236Z"
      },
      {
        "duration": 17,
        "start_time": "2023-04-12T03:27:15.264Z"
      },
      {
        "duration": 181,
        "start_time": "2023-04-12T03:27:15.283Z"
      },
      {
        "duration": 5,
        "start_time": "2023-04-12T03:27:15.465Z"
      },
      {
        "duration": 304,
        "start_time": "2023-04-12T03:27:15.471Z"
      },
      {
        "duration": 239,
        "start_time": "2023-04-12T03:27:15.776Z"
      },
      {
        "duration": 132,
        "start_time": "2023-04-12T03:27:16.017Z"
      },
      {
        "duration": 4,
        "start_time": "2023-04-12T03:27:16.151Z"
      },
      {
        "duration": 133,
        "start_time": "2023-04-12T03:27:16.156Z"
      },
      {
        "duration": 9,
        "start_time": "2023-04-12T03:27:16.291Z"
      },
      {
        "duration": 1241,
        "start_time": "2023-04-12T03:27:16.301Z"
      },
      {
        "duration": 347,
        "start_time": "2023-04-12T03:27:17.544Z"
      },
      {
        "duration": 121,
        "start_time": "2023-04-12T03:27:28.191Z"
      },
      {
        "duration": 97,
        "start_time": "2023-04-12T03:27:33.879Z"
      },
      {
        "duration": 106,
        "start_time": "2023-04-12T03:27:41.118Z"
      },
      {
        "duration": 106,
        "start_time": "2023-04-12T03:27:45.912Z"
      },
      {
        "duration": 183,
        "start_time": "2023-04-12T03:27:58.363Z"
      },
      {
        "duration": 116,
        "start_time": "2023-04-12T03:28:45.671Z"
      },
      {
        "duration": 4,
        "start_time": "2023-04-12T03:28:51.646Z"
      },
      {
        "duration": 113,
        "start_time": "2023-04-12T03:29:01.183Z"
      },
      {
        "duration": 4,
        "start_time": "2023-04-12T03:29:59.958Z"
      },
      {
        "duration": 7,
        "start_time": "2023-04-12T03:30:44.542Z"
      },
      {
        "duration": 144,
        "start_time": "2023-04-12T03:31:24.621Z"
      },
      {
        "duration": 7,
        "start_time": "2023-04-12T03:31:30.500Z"
      },
      {
        "duration": 7,
        "start_time": "2023-04-12T03:31:53.256Z"
      },
      {
        "duration": 7,
        "start_time": "2023-04-12T03:31:59.602Z"
      },
      {
        "duration": 7,
        "start_time": "2023-04-12T03:32:16.488Z"
      },
      {
        "duration": 7,
        "start_time": "2023-04-12T03:33:02.625Z"
      },
      {
        "duration": 7,
        "start_time": "2023-04-12T03:33:09.400Z"
      },
      {
        "duration": 116,
        "start_time": "2023-04-12T03:33:55.383Z"
      },
      {
        "duration": 5,
        "start_time": "2023-04-12T03:34:41.592Z"
      },
      {
        "duration": 307,
        "start_time": "2023-04-12T03:34:58.892Z"
      },
      {
        "duration": 9,
        "start_time": "2023-04-12T03:35:10.909Z"
      },
      {
        "duration": 10,
        "start_time": "2023-04-12T03:42:42.932Z"
      },
      {
        "duration": 8,
        "start_time": "2023-04-12T03:43:15.707Z"
      },
      {
        "duration": 29,
        "start_time": "2023-04-12T03:43:38.506Z"
      },
      {
        "duration": 8,
        "start_time": "2023-04-12T03:43:42.179Z"
      },
      {
        "duration": 3,
        "start_time": "2023-04-12T03:43:53.119Z"
      },
      {
        "duration": 7,
        "start_time": "2023-04-12T03:44:02.717Z"
      },
      {
        "duration": 8,
        "start_time": "2023-04-12T03:44:08.920Z"
      },
      {
        "duration": 6,
        "start_time": "2023-04-12T03:44:12.007Z"
      },
      {
        "duration": 9,
        "start_time": "2023-04-12T03:44:38.118Z"
      },
      {
        "duration": 87,
        "start_time": "2023-04-12T03:44:43.198Z"
      },
      {
        "duration": 69,
        "start_time": "2023-04-12T03:44:46.936Z"
      },
      {
        "duration": 6,
        "start_time": "2023-04-12T03:44:52.700Z"
      },
      {
        "duration": 13,
        "start_time": "2023-04-12T03:44:56.069Z"
      },
      {
        "duration": 11,
        "start_time": "2023-04-12T03:45:08.430Z"
      },
      {
        "duration": 8,
        "start_time": "2023-04-12T03:45:15.134Z"
      },
      {
        "duration": 8,
        "start_time": "2023-04-12T03:45:18.317Z"
      },
      {
        "duration": 11,
        "start_time": "2023-04-12T03:45:21.952Z"
      },
      {
        "duration": 11,
        "start_time": "2023-04-12T03:48:03.133Z"
      },
      {
        "duration": 12,
        "start_time": "2023-04-12T03:48:12.403Z"
      },
      {
        "duration": 7,
        "start_time": "2023-04-12T03:48:26.594Z"
      },
      {
        "duration": 1445,
        "start_time": "2023-04-12T03:48:43.730Z"
      },
      {
        "duration": 1315,
        "start_time": "2023-04-12T03:48:54.731Z"
      },
      {
        "duration": 6,
        "start_time": "2023-04-12T03:49:23.495Z"
      },
      {
        "duration": 5,
        "start_time": "2023-04-12T03:49:33.983Z"
      },
      {
        "duration": 179,
        "start_time": "2023-04-12T03:49:40.711Z"
      },
      {
        "duration": 17,
        "start_time": "2023-04-12T03:50:03.511Z"
      },
      {
        "duration": 6,
        "start_time": "2023-04-12T03:51:22.431Z"
      },
      {
        "duration": 5,
        "start_time": "2023-04-12T03:51:37.101Z"
      },
      {
        "duration": 6,
        "start_time": "2023-04-12T03:51:43.702Z"
      },
      {
        "duration": 5,
        "start_time": "2023-04-12T03:52:34.924Z"
      },
      {
        "duration": 4,
        "start_time": "2023-04-12T03:53:06.948Z"
      },
      {
        "duration": 13,
        "start_time": "2023-04-12T03:53:57.736Z"
      },
      {
        "duration": 9,
        "start_time": "2023-04-12T03:54:33.705Z"
      },
      {
        "duration": 9,
        "start_time": "2023-04-12T03:54:44.819Z"
      },
      {
        "duration": 7,
        "start_time": "2023-04-12T03:55:23.344Z"
      },
      {
        "duration": 8,
        "start_time": "2023-04-12T03:55:45.153Z"
      },
      {
        "duration": 13,
        "start_time": "2023-04-12T03:56:05.232Z"
      },
      {
        "duration": 8,
        "start_time": "2023-04-12T03:56:12.279Z"
      },
      {
        "duration": 8,
        "start_time": "2023-04-12T03:56:40.898Z"
      },
      {
        "duration": 11,
        "start_time": "2023-04-12T03:58:01.013Z"
      },
      {
        "duration": 1908,
        "start_time": "2023-04-12T03:58:14.331Z"
      },
      {
        "duration": 9,
        "start_time": "2023-04-12T03:58:30.923Z"
      },
      {
        "duration": 8,
        "start_time": "2023-04-12T03:58:35.690Z"
      },
      {
        "duration": 8,
        "start_time": "2023-04-12T03:59:03.963Z"
      },
      {
        "duration": 6,
        "start_time": "2023-04-12T03:59:54.755Z"
      },
      {
        "duration": 11,
        "start_time": "2023-04-12T04:00:08.060Z"
      },
      {
        "duration": 6,
        "start_time": "2023-04-12T04:00:32.339Z"
      },
      {
        "duration": 6,
        "start_time": "2023-04-12T04:00:39.929Z"
      },
      {
        "duration": 7,
        "start_time": "2023-04-12T04:00:51.041Z"
      },
      {
        "duration": 6,
        "start_time": "2023-04-12T04:00:54.112Z"
      },
      {
        "duration": 4,
        "start_time": "2023-04-12T04:01:04.250Z"
      },
      {
        "duration": 6,
        "start_time": "2023-04-12T04:01:10.895Z"
      },
      {
        "duration": 10,
        "start_time": "2023-04-12T04:01:26.826Z"
      },
      {
        "duration": 9,
        "start_time": "2023-04-12T04:01:40.691Z"
      },
      {
        "duration": 9,
        "start_time": "2023-04-12T04:02:00.247Z"
      },
      {
        "duration": 7,
        "start_time": "2023-04-12T04:02:23.099Z"
      },
      {
        "duration": 5,
        "start_time": "2023-04-12T04:02:42.863Z"
      },
      {
        "duration": 10,
        "start_time": "2023-04-12T04:02:49.127Z"
      },
      {
        "duration": 9,
        "start_time": "2023-04-12T04:02:58.929Z"
      },
      {
        "duration": 9,
        "start_time": "2023-04-12T04:04:35.829Z"
      },
      {
        "duration": 5,
        "start_time": "2023-04-12T04:04:56.052Z"
      },
      {
        "duration": 5,
        "start_time": "2023-04-12T04:05:06.172Z"
      },
      {
        "duration": 6,
        "start_time": "2023-04-12T04:05:10.684Z"
      },
      {
        "duration": 7,
        "start_time": "2023-04-12T04:05:16.125Z"
      },
      {
        "duration": 5,
        "start_time": "2023-04-12T04:05:19.708Z"
      },
      {
        "duration": 9,
        "start_time": "2023-04-12T04:05:25.494Z"
      },
      {
        "duration": 12,
        "start_time": "2023-04-12T04:06:32.657Z"
      },
      {
        "duration": 12,
        "start_time": "2023-04-12T04:06:46.882Z"
      },
      {
        "duration": 12,
        "start_time": "2023-04-12T04:06:55.090Z"
      },
      {
        "duration": 3,
        "start_time": "2023-04-12T04:07:04.419Z"
      },
      {
        "duration": 7,
        "start_time": "2023-04-12T04:07:07.545Z"
      },
      {
        "duration": 6,
        "start_time": "2023-04-12T04:07:12.082Z"
      },
      {
        "duration": 6,
        "start_time": "2023-04-12T04:07:20.217Z"
      },
      {
        "duration": 7,
        "start_time": "2023-04-12T04:07:47.160Z"
      },
      {
        "duration": 6,
        "start_time": "2023-04-12T04:08:14.266Z"
      },
      {
        "duration": 6,
        "start_time": "2023-04-12T04:08:21.384Z"
      },
      {
        "duration": 6,
        "start_time": "2023-04-12T04:08:28.217Z"
      },
      {
        "duration": 6,
        "start_time": "2023-04-12T04:09:12.848Z"
      },
      {
        "duration": 16,
        "start_time": "2023-04-12T04:09:48.096Z"
      },
      {
        "duration": 7,
        "start_time": "2023-04-12T04:10:06.095Z"
      },
      {
        "duration": 11,
        "start_time": "2023-04-12T04:10:08.880Z"
      },
      {
        "duration": 8,
        "start_time": "2023-04-12T04:10:33.128Z"
      },
      {
        "duration": 12,
        "start_time": "2023-04-12T04:10:33.846Z"
      },
      {
        "duration": 11,
        "start_time": "2023-04-12T04:10:44.382Z"
      },
      {
        "duration": 38,
        "start_time": "2023-04-12T04:11:11.117Z"
      },
      {
        "duration": 33,
        "start_time": "2023-04-12T04:11:17.228Z"
      },
      {
        "duration": 13,
        "start_time": "2023-04-12T04:14:55.414Z"
      },
      {
        "duration": 11,
        "start_time": "2023-04-12T04:17:45.661Z"
      },
      {
        "duration": 7,
        "start_time": "2023-04-12T04:18:37.908Z"
      },
      {
        "duration": 7,
        "start_time": "2023-04-12T04:18:47.012Z"
      },
      {
        "duration": 9,
        "start_time": "2023-04-12T04:19:14.749Z"
      },
      {
        "duration": 6,
        "start_time": "2023-04-12T04:19:18.884Z"
      },
      {
        "duration": 7,
        "start_time": "2023-04-12T04:19:32.132Z"
      },
      {
        "duration": 11,
        "start_time": "2023-04-12T04:19:42.032Z"
      },
      {
        "duration": 6,
        "start_time": "2023-04-12T04:21:24.355Z"
      },
      {
        "duration": 10,
        "start_time": "2023-04-12T04:21:31.944Z"
      },
      {
        "duration": 6,
        "start_time": "2023-04-12T04:21:44.793Z"
      },
      {
        "duration": 5,
        "start_time": "2023-04-12T04:22:19.407Z"
      },
      {
        "duration": 1583,
        "start_time": "2023-04-12T04:22:34.390Z"
      },
      {
        "duration": 5,
        "start_time": "2023-04-12T04:22:41.907Z"
      },
      {
        "duration": 5,
        "start_time": "2023-04-12T04:22:46.031Z"
      },
      {
        "duration": 6,
        "start_time": "2023-04-12T04:23:15.895Z"
      },
      {
        "duration": 5,
        "start_time": "2023-04-12T04:23:31.565Z"
      },
      {
        "duration": 10,
        "start_time": "2023-04-12T04:23:51.788Z"
      },
      {
        "duration": 6,
        "start_time": "2023-04-12T04:24:03.784Z"
      },
      {
        "duration": 14,
        "start_time": "2023-04-12T04:25:26.003Z"
      },
      {
        "duration": 6,
        "start_time": "2023-04-12T04:25:46.771Z"
      },
      {
        "duration": 9,
        "start_time": "2023-04-12T04:25:57.492Z"
      },
      {
        "duration": 7,
        "start_time": "2023-04-12T04:26:05.578Z"
      },
      {
        "duration": 9,
        "start_time": "2023-04-12T04:26:18.432Z"
      },
      {
        "duration": 6,
        "start_time": "2023-04-12T04:27:19.681Z"
      },
      {
        "duration": 6,
        "start_time": "2023-04-12T04:27:28.186Z"
      },
      {
        "duration": 7,
        "start_time": "2023-04-12T04:28:05.455Z"
      },
      {
        "duration": 6,
        "start_time": "2023-04-12T04:28:10.232Z"
      },
      {
        "duration": 6,
        "start_time": "2023-04-12T04:28:15.975Z"
      },
      {
        "duration": 8,
        "start_time": "2023-04-12T04:28:25.425Z"
      },
      {
        "duration": 8,
        "start_time": "2023-04-12T04:28:55.496Z"
      },
      {
        "duration": 5,
        "start_time": "2023-04-12T04:29:08.055Z"
      },
      {
        "duration": 6,
        "start_time": "2023-04-12T04:29:13.789Z"
      },
      {
        "duration": 13,
        "start_time": "2023-04-12T04:29:28.281Z"
      },
      {
        "duration": 97,
        "start_time": "2023-04-12T04:29:41.868Z"
      },
      {
        "duration": 94,
        "start_time": "2023-04-12T04:29:44.535Z"
      },
      {
        "duration": 6,
        "start_time": "2023-04-12T04:29:47.284Z"
      },
      {
        "duration": 5,
        "start_time": "2023-04-12T04:31:22.276Z"
      },
      {
        "duration": 6,
        "start_time": "2023-04-12T04:31:36.210Z"
      },
      {
        "duration": 7,
        "start_time": "2023-04-12T04:31:41.049Z"
      },
      {
        "duration": 7,
        "start_time": "2023-04-12T04:31:47.508Z"
      },
      {
        "duration": 7,
        "start_time": "2023-04-12T04:31:54.979Z"
      },
      {
        "duration": 8,
        "start_time": "2023-04-12T04:32:02.332Z"
      },
      {
        "duration": 5,
        "start_time": "2023-04-12T04:32:06.154Z"
      },
      {
        "duration": 15,
        "start_time": "2023-04-12T04:32:56.507Z"
      },
      {
        "duration": 5,
        "start_time": "2023-04-12T04:33:11.387Z"
      },
      {
        "duration": 12,
        "start_time": "2023-04-12T04:44:39.278Z"
      },
      {
        "duration": 13,
        "start_time": "2023-04-12T04:44:57.723Z"
      },
      {
        "duration": 13,
        "start_time": "2023-04-12T04:46:19.310Z"
      },
      {
        "duration": 14,
        "start_time": "2023-04-12T04:47:40.934Z"
      },
      {
        "duration": 12,
        "start_time": "2023-04-12T04:48:23.967Z"
      },
      {
        "duration": 5,
        "start_time": "2023-04-12T04:48:46.371Z"
      },
      {
        "duration": 9,
        "start_time": "2023-04-12T04:49:20.684Z"
      },
      {
        "duration": 5,
        "start_time": "2023-04-12T04:49:35.707Z"
      },
      {
        "duration": 8,
        "start_time": "2023-04-12T04:49:50.888Z"
      },
      {
        "duration": 11,
        "start_time": "2023-04-12T04:50:03.994Z"
      },
      {
        "duration": 13,
        "start_time": "2023-04-12T04:50:08.968Z"
      },
      {
        "duration": 10,
        "start_time": "2023-04-12T04:50:45.183Z"
      },
      {
        "duration": 10,
        "start_time": "2023-04-12T04:51:09.305Z"
      },
      {
        "duration": 13,
        "start_time": "2023-04-12T04:51:27.092Z"
      },
      {
        "duration": 6,
        "start_time": "2023-04-12T04:51:41.424Z"
      },
      {
        "duration": 5,
        "start_time": "2023-04-12T04:52:27.311Z"
      },
      {
        "duration": 4,
        "start_time": "2023-04-12T04:52:27.876Z"
      },
      {
        "duration": 5,
        "start_time": "2023-04-12T04:52:41.067Z"
      },
      {
        "duration": 5,
        "start_time": "2023-04-12T04:53:12.949Z"
      },
      {
        "duration": 6,
        "start_time": "2023-04-12T04:53:23.461Z"
      },
      {
        "duration": 6,
        "start_time": "2023-04-12T04:53:33.939Z"
      },
      {
        "duration": 142,
        "start_time": "2023-04-12T04:59:21.225Z"
      },
      {
        "duration": 137,
        "start_time": "2023-04-12T04:59:29.354Z"
      },
      {
        "duration": 245,
        "start_time": "2023-04-12T04:59:50.783Z"
      },
      {
        "duration": 203,
        "start_time": "2023-04-12T04:59:56.025Z"
      },
      {
        "duration": 203,
        "start_time": "2023-04-12T05:00:29.253Z"
      },
      {
        "duration": 118,
        "start_time": "2023-04-12T05:00:36.177Z"
      },
      {
        "duration": 4,
        "start_time": "2023-04-12T05:00:40.382Z"
      },
      {
        "duration": 6,
        "start_time": "2023-04-12T05:00:55.767Z"
      },
      {
        "duration": 1218,
        "start_time": "2023-04-12T05:01:04.639Z"
      },
      {
        "duration": 197,
        "start_time": "2023-04-12T05:01:05.859Z"
      },
      {
        "duration": 3,
        "start_time": "2023-04-12T05:01:06.058Z"
      },
      {
        "duration": 43,
        "start_time": "2023-04-12T05:01:06.063Z"
      },
      {
        "duration": 72,
        "start_time": "2023-04-12T05:01:06.107Z"
      },
      {
        "duration": 33,
        "start_time": "2023-04-12T05:01:06.181Z"
      },
      {
        "duration": 37,
        "start_time": "2023-04-12T05:01:06.234Z"
      },
      {
        "duration": 31,
        "start_time": "2023-04-12T05:01:06.273Z"
      },
      {
        "duration": 62,
        "start_time": "2023-04-12T05:01:06.306Z"
      },
      {
        "duration": 28,
        "start_time": "2023-04-12T05:01:06.371Z"
      },
      {
        "duration": 3,
        "start_time": "2023-04-12T05:01:06.400Z"
      },
      {
        "duration": 199,
        "start_time": "2023-04-12T05:01:06.404Z"
      },
      {
        "duration": 6,
        "start_time": "2023-04-12T05:01:06.605Z"
      },
      {
        "duration": 334,
        "start_time": "2023-04-12T05:01:06.612Z"
      },
      {
        "duration": 246,
        "start_time": "2023-04-12T05:01:06.947Z"
      },
      {
        "duration": 124,
        "start_time": "2023-04-12T05:01:07.195Z"
      },
      {
        "duration": 5,
        "start_time": "2023-04-12T05:01:07.320Z"
      },
      {
        "duration": 124,
        "start_time": "2023-04-12T05:01:07.336Z"
      },
      {
        "duration": 5,
        "start_time": "2023-04-12T05:01:07.462Z"
      },
      {
        "duration": 1284,
        "start_time": "2023-04-12T05:01:07.469Z"
      },
      {
        "duration": 352,
        "start_time": "2023-04-12T05:01:08.755Z"
      },
      {
        "duration": 10,
        "start_time": "2023-04-12T05:01:09.109Z"
      },
      {
        "duration": 8,
        "start_time": "2023-04-12T05:03:54.522Z"
      },
      {
        "duration": 10,
        "start_time": "2023-04-12T05:04:10.563Z"
      },
      {
        "duration": 7,
        "start_time": "2023-04-12T05:04:14.131Z"
      },
      {
        "duration": 6,
        "start_time": "2023-04-12T05:04:45.115Z"
      },
      {
        "duration": 4,
        "start_time": "2023-04-12T05:04:56.983Z"
      },
      {
        "duration": 1051,
        "start_time": "2023-04-12T05:06:29.584Z"
      },
      {
        "duration": 595,
        "start_time": "2023-04-12T05:07:26.559Z"
      },
      {
        "duration": 136,
        "start_time": "2023-04-12T05:08:18.365Z"
      },
      {
        "duration": 5,
        "start_time": "2023-04-12T05:20:26.150Z"
      },
      {
        "duration": 26,
        "start_time": "2023-04-12T05:20:39.192Z"
      },
      {
        "duration": 15,
        "start_time": "2023-04-12T05:21:26.678Z"
      },
      {
        "duration": 72,
        "start_time": "2023-04-12T05:21:57.242Z"
      },
      {
        "duration": 155,
        "start_time": "2023-04-12T05:22:11.970Z"
      },
      {
        "duration": 6,
        "start_time": "2023-04-12T05:22:33.409Z"
      },
      {
        "duration": 86,
        "start_time": "2023-04-12T05:27:03.388Z"
      },
      {
        "duration": 10,
        "start_time": "2023-04-12T05:27:07.554Z"
      },
      {
        "duration": 5,
        "start_time": "2023-04-12T05:27:51.727Z"
      },
      {
        "duration": 1843,
        "start_time": "2023-04-12T05:28:00.762Z"
      },
      {
        "duration": 9,
        "start_time": "2023-04-12T05:28:06.556Z"
      },
      {
        "duration": 5,
        "start_time": "2023-04-12T05:28:26.961Z"
      },
      {
        "duration": 1757,
        "start_time": "2023-04-12T05:28:35.611Z"
      },
      {
        "duration": 11,
        "start_time": "2023-04-12T05:28:39.627Z"
      },
      {
        "duration": 9,
        "start_time": "2023-04-12T05:29:04.802Z"
      },
      {
        "duration": 1594,
        "start_time": "2023-04-12T05:29:59.512Z"
      },
      {
        "duration": 9,
        "start_time": "2023-04-12T05:30:08.520Z"
      },
      {
        "duration": 12,
        "start_time": "2023-04-12T05:30:39.310Z"
      },
      {
        "duration": 9,
        "start_time": "2023-04-12T05:30:54.829Z"
      },
      {
        "duration": 84,
        "start_time": "2023-04-12T05:31:30.657Z"
      },
      {
        "duration": 4,
        "start_time": "2023-04-12T05:31:47.238Z"
      },
      {
        "duration": 6,
        "start_time": "2023-04-12T05:32:05.115Z"
      },
      {
        "duration": 80,
        "start_time": "2023-04-12T05:32:56.549Z"
      },
      {
        "duration": 21,
        "start_time": "2023-04-12T05:34:17.698Z"
      },
      {
        "duration": 29,
        "start_time": "2023-04-12T05:34:26.557Z"
      },
      {
        "duration": 28,
        "start_time": "2023-04-12T05:35:09.880Z"
      },
      {
        "duration": 36,
        "start_time": "2023-04-12T05:35:29.995Z"
      },
      {
        "duration": 18,
        "start_time": "2023-04-12T05:36:36.824Z"
      },
      {
        "duration": 26,
        "start_time": "2023-04-12T05:36:49.701Z"
      },
      {
        "duration": 16,
        "start_time": "2023-04-12T05:36:50.072Z"
      },
      {
        "duration": 3,
        "start_time": "2023-04-12T05:37:45.638Z"
      },
      {
        "duration": 3,
        "start_time": "2023-04-12T05:38:03.005Z"
      },
      {
        "duration": 17,
        "start_time": "2023-04-12T05:38:09.730Z"
      },
      {
        "duration": 6,
        "start_time": "2023-04-12T05:39:54.709Z"
      },
      {
        "duration": 6,
        "start_time": "2023-04-12T05:40:30.940Z"
      },
      {
        "duration": 6,
        "start_time": "2023-04-12T05:40:35.042Z"
      },
      {
        "duration": 7,
        "start_time": "2023-04-12T05:40:39.321Z"
      },
      {
        "duration": 6,
        "start_time": "2023-04-12T05:40:43.982Z"
      },
      {
        "duration": 6,
        "start_time": "2023-04-12T05:40:46.976Z"
      },
      {
        "duration": 5,
        "start_time": "2023-04-12T05:40:51.536Z"
      },
      {
        "duration": 5,
        "start_time": "2023-04-12T05:40:55.920Z"
      },
      {
        "duration": 6,
        "start_time": "2023-04-12T05:45:37.204Z"
      },
      {
        "duration": 4,
        "start_time": "2023-04-12T05:45:49.875Z"
      },
      {
        "duration": 92,
        "start_time": "2023-04-12T05:45:53.587Z"
      },
      {
        "duration": 14,
        "start_time": "2023-04-12T05:45:56.202Z"
      },
      {
        "duration": 2086,
        "start_time": "2023-04-12T05:46:10.362Z"
      },
      {
        "duration": 9,
        "start_time": "2023-04-12T05:52:01.123Z"
      },
      {
        "duration": 10,
        "start_time": "2023-04-12T05:52:39.857Z"
      },
      {
        "duration": 10,
        "start_time": "2023-04-12T05:53:47.896Z"
      },
      {
        "duration": 9,
        "start_time": "2023-04-12T05:53:55.301Z"
      },
      {
        "duration": 8,
        "start_time": "2023-04-12T05:55:16.705Z"
      },
      {
        "duration": 4,
        "start_time": "2023-04-12T05:55:20.916Z"
      },
      {
        "duration": 3,
        "start_time": "2023-04-12T05:55:35.189Z"
      },
      {
        "duration": 3,
        "start_time": "2023-04-12T05:56:05.181Z"
      },
      {
        "duration": 7,
        "start_time": "2023-04-12T05:57:10.828Z"
      },
      {
        "duration": 6,
        "start_time": "2023-04-12T05:57:26.762Z"
      },
      {
        "duration": 5,
        "start_time": "2023-04-12T05:57:36.316Z"
      },
      {
        "duration": 12,
        "start_time": "2023-04-12T05:59:51.105Z"
      },
      {
        "duration": 3,
        "start_time": "2023-04-12T06:00:05.089Z"
      },
      {
        "duration": 10,
        "start_time": "2023-04-12T06:00:15.855Z"
      },
      {
        "duration": 5,
        "start_time": "2023-04-12T06:00:29.010Z"
      },
      {
        "duration": 10,
        "start_time": "2023-04-12T06:00:33.200Z"
      },
      {
        "duration": 3,
        "start_time": "2023-04-12T06:01:21.956Z"
      },
      {
        "duration": 5,
        "start_time": "2023-04-12T06:01:24.224Z"
      },
      {
        "duration": 11,
        "start_time": "2023-04-12T06:02:11.583Z"
      },
      {
        "duration": 5,
        "start_time": "2023-04-12T06:02:18.267Z"
      },
      {
        "duration": 12,
        "start_time": "2023-04-12T06:02:33.948Z"
      },
      {
        "duration": 8,
        "start_time": "2023-04-12T06:02:37.883Z"
      },
      {
        "duration": 4,
        "start_time": "2023-04-12T06:02:40.121Z"
      },
      {
        "duration": 9,
        "start_time": "2023-04-12T06:03:31.882Z"
      },
      {
        "duration": 6,
        "start_time": "2023-04-12T06:19:51.859Z"
      },
      {
        "duration": 9,
        "start_time": "2023-04-12T06:20:00.005Z"
      },
      {
        "duration": 10,
        "start_time": "2023-04-12T06:20:12.252Z"
      },
      {
        "duration": 1052,
        "start_time": "2023-04-12T07:53:47.189Z"
      },
      {
        "duration": 174,
        "start_time": "2023-04-12T07:53:48.291Z"
      },
      {
        "duration": 4,
        "start_time": "2023-04-12T07:54:17.652Z"
      },
      {
        "duration": 35,
        "start_time": "2023-04-12T07:54:18.394Z"
      },
      {
        "duration": 77,
        "start_time": "2023-04-12T07:54:18.980Z"
      },
      {
        "duration": 34,
        "start_time": "2023-04-12T07:54:19.642Z"
      },
      {
        "duration": 34,
        "start_time": "2023-04-12T07:54:20.251Z"
      },
      {
        "duration": 28,
        "start_time": "2023-04-12T07:54:20.874Z"
      },
      {
        "duration": 47,
        "start_time": "2023-04-12T07:54:21.590Z"
      },
      {
        "duration": 25,
        "start_time": "2023-04-12T07:54:22.235Z"
      },
      {
        "duration": 28,
        "start_time": "2023-04-12T07:58:45.995Z"
      },
      {
        "duration": 19,
        "start_time": "2023-04-12T07:58:46.582Z"
      },
      {
        "duration": 175,
        "start_time": "2023-04-12T08:03:14.160Z"
      },
      {
        "duration": 9,
        "start_time": "2023-04-12T08:03:22.658Z"
      },
      {
        "duration": 304,
        "start_time": "2023-04-12T08:03:22.669Z"
      },
      {
        "duration": 253,
        "start_time": "2023-04-12T08:03:22.976Z"
      },
      {
        "duration": 126,
        "start_time": "2023-04-12T08:03:23.234Z"
      },
      {
        "duration": 4,
        "start_time": "2023-04-12T08:03:23.361Z"
      },
      {
        "duration": 131,
        "start_time": "2023-04-12T08:03:23.367Z"
      },
      {
        "duration": 7,
        "start_time": "2023-04-12T08:03:24.557Z"
      },
      {
        "duration": 1225,
        "start_time": "2023-04-12T08:04:09.672Z"
      },
      {
        "duration": 405,
        "start_time": "2023-04-12T08:04:10.899Z"
      },
      {
        "duration": 642,
        "start_time": "2023-04-12T08:04:11.306Z"
      },
      {
        "duration": 99,
        "start_time": "2023-04-12T08:07:07.207Z"
      },
      {
        "duration": 3,
        "start_time": "2023-04-12T08:07:13.242Z"
      },
      {
        "duration": 14,
        "start_time": "2023-04-12T08:07:14.771Z"
      },
      {
        "duration": 1245,
        "start_time": "2023-04-13T04:28:40.776Z"
      },
      {
        "duration": 582,
        "start_time": "2023-04-13T04:28:42.023Z"
      },
      {
        "duration": 4,
        "start_time": "2023-04-13T04:28:42.606Z"
      },
      {
        "duration": 36,
        "start_time": "2023-04-13T04:28:42.613Z"
      },
      {
        "duration": 56,
        "start_time": "2023-04-13T04:28:42.650Z"
      },
      {
        "duration": 26,
        "start_time": "2023-04-13T04:28:42.707Z"
      },
      {
        "duration": 42,
        "start_time": "2023-04-13T04:28:42.734Z"
      },
      {
        "duration": 21,
        "start_time": "2023-04-13T04:28:42.778Z"
      },
      {
        "duration": 38,
        "start_time": "2023-04-13T04:28:42.801Z"
      },
      {
        "duration": 44,
        "start_time": "2023-04-13T04:28:42.841Z"
      },
      {
        "duration": 31,
        "start_time": "2023-04-13T04:28:42.886Z"
      },
      {
        "duration": 17,
        "start_time": "2023-04-13T04:28:42.919Z"
      },
      {
        "duration": 192,
        "start_time": "2023-04-13T04:28:42.937Z"
      },
      {
        "duration": 6,
        "start_time": "2023-04-13T04:28:43.131Z"
      },
      {
        "duration": 281,
        "start_time": "2023-04-13T04:28:43.139Z"
      },
      {
        "duration": 233,
        "start_time": "2023-04-13T04:28:43.422Z"
      },
      {
        "duration": 117,
        "start_time": "2023-04-13T04:28:43.657Z"
      },
      {
        "duration": 4,
        "start_time": "2023-04-13T04:28:43.776Z"
      },
      {
        "duration": 113,
        "start_time": "2023-04-13T04:28:43.782Z"
      },
      {
        "duration": 6,
        "start_time": "2023-04-13T04:28:43.897Z"
      },
      {
        "duration": 1087,
        "start_time": "2023-04-13T04:28:43.904Z"
      },
      {
        "duration": 340,
        "start_time": "2023-04-13T04:28:44.992Z"
      },
      {
        "duration": 602,
        "start_time": "2023-04-13T04:28:45.334Z"
      },
      {
        "duration": 5,
        "start_time": "2023-04-13T04:28:45.938Z"
      },
      {
        "duration": 138,
        "start_time": "2023-04-13T04:28:45.945Z"
      },
      {
        "duration": 1027,
        "start_time": "2023-04-13T04:29:06.345Z"
      },
      {
        "duration": 183,
        "start_time": "2023-04-13T04:29:07.374Z"
      },
      {
        "duration": 3,
        "start_time": "2023-04-13T04:29:07.561Z"
      },
      {
        "duration": 41,
        "start_time": "2023-04-13T04:29:07.566Z"
      },
      {
        "duration": 55,
        "start_time": "2023-04-13T04:29:07.608Z"
      },
      {
        "duration": 27,
        "start_time": "2023-04-13T04:29:07.672Z"
      },
      {
        "duration": 20,
        "start_time": "2023-04-13T04:29:07.701Z"
      },
      {
        "duration": 53,
        "start_time": "2023-04-13T04:29:07.723Z"
      },
      {
        "duration": 40,
        "start_time": "2023-04-13T04:29:07.779Z"
      },
      {
        "duration": 22,
        "start_time": "2023-04-13T04:29:07.821Z"
      },
      {
        "duration": 43,
        "start_time": "2023-04-13T04:29:07.844Z"
      },
      {
        "duration": 25,
        "start_time": "2023-04-13T04:29:07.888Z"
      },
      {
        "duration": 162,
        "start_time": "2023-04-13T04:29:07.915Z"
      },
      {
        "duration": 102,
        "start_time": "2023-04-13T04:29:08.078Z"
      },
      {
        "duration": 0,
        "start_time": "2023-04-13T04:29:08.182Z"
      },
      {
        "duration": 0,
        "start_time": "2023-04-13T04:29:08.183Z"
      },
      {
        "duration": 0,
        "start_time": "2023-04-13T04:29:08.184Z"
      },
      {
        "duration": 1,
        "start_time": "2023-04-13T04:29:08.185Z"
      },
      {
        "duration": 0,
        "start_time": "2023-04-13T04:29:08.187Z"
      },
      {
        "duration": 0,
        "start_time": "2023-04-13T04:29:08.188Z"
      },
      {
        "duration": 0,
        "start_time": "2023-04-13T04:29:08.188Z"
      },
      {
        "duration": 0,
        "start_time": "2023-04-13T04:29:08.189Z"
      },
      {
        "duration": 0,
        "start_time": "2023-04-13T04:29:08.190Z"
      },
      {
        "duration": 0,
        "start_time": "2023-04-13T04:29:08.191Z"
      },
      {
        "duration": 0,
        "start_time": "2023-04-13T04:29:08.192Z"
      },
      {
        "duration": 6,
        "start_time": "2023-04-13T04:35:02.422Z"
      },
      {
        "duration": 6,
        "start_time": "2023-04-13T04:35:59.403Z"
      },
      {
        "duration": 6,
        "start_time": "2023-04-13T04:36:22.596Z"
      },
      {
        "duration": 6,
        "start_time": "2023-04-13T04:37:23.678Z"
      },
      {
        "duration": 6,
        "start_time": "2023-04-13T04:40:19.227Z"
      },
      {
        "duration": 6,
        "start_time": "2023-04-13T04:40:27.203Z"
      },
      {
        "duration": 125,
        "start_time": "2023-04-13T04:41:18.212Z"
      },
      {
        "duration": 279,
        "start_time": "2023-04-13T04:41:22.660Z"
      },
      {
        "duration": 330,
        "start_time": "2023-04-13T04:41:25.718Z"
      },
      {
        "duration": 380,
        "start_time": "2023-04-13T04:42:01.050Z"
      },
      {
        "duration": 270,
        "start_time": "2023-04-13T04:44:55.270Z"
      },
      {
        "duration": 318,
        "start_time": "2023-04-13T04:46:00.574Z"
      },
      {
        "duration": 181,
        "start_time": "2023-04-13T04:46:13.778Z"
      },
      {
        "duration": 174,
        "start_time": "2023-04-13T04:46:26.193Z"
      },
      {
        "duration": 182,
        "start_time": "2023-04-13T04:46:43.542Z"
      },
      {
        "duration": 140,
        "start_time": "2023-04-13T04:46:47.206Z"
      },
      {
        "duration": 196,
        "start_time": "2023-04-13T04:47:05.567Z"
      },
      {
        "duration": 343,
        "start_time": "2023-04-13T04:47:36.316Z"
      },
      {
        "duration": 4,
        "start_time": "2023-04-13T04:48:24.688Z"
      },
      {
        "duration": 323,
        "start_time": "2023-04-13T04:48:27.753Z"
      },
      {
        "duration": 118,
        "start_time": "2023-04-13T04:48:37.473Z"
      },
      {
        "duration": 5,
        "start_time": "2023-04-13T05:02:28.808Z"
      },
      {
        "duration": 132,
        "start_time": "2023-04-13T05:02:32.403Z"
      },
      {
        "duration": 1170,
        "start_time": "2023-04-13T05:03:55.789Z"
      },
      {
        "duration": 10,
        "start_time": "2023-04-13T05:03:56.962Z"
      },
      {
        "duration": 456,
        "start_time": "2023-04-13T05:04:05.989Z"
      },
      {
        "duration": 1010,
        "start_time": "2023-04-13T05:04:21.137Z"
      },
      {
        "duration": 5,
        "start_time": "2023-04-13T05:04:32.178Z"
      },
      {
        "duration": 581,
        "start_time": "2023-04-13T05:04:35.099Z"
      },
      {
        "duration": 3,
        "start_time": "2023-04-13T05:05:29.597Z"
      },
      {
        "duration": 6,
        "start_time": "2023-04-13T05:07:38.153Z"
      },
      {
        "duration": 6,
        "start_time": "2023-04-13T05:07:43.898Z"
      },
      {
        "duration": 4,
        "start_time": "2023-04-13T05:07:50.718Z"
      },
      {
        "duration": 2862,
        "start_time": "2023-04-19T07:06:51.410Z"
      },
      {
        "duration": 2897,
        "start_time": "2023-04-19T07:06:54.274Z"
      },
      {
        "duration": 3,
        "start_time": "2023-04-19T07:06:57.172Z"
      },
      {
        "duration": 43,
        "start_time": "2023-04-19T07:06:57.184Z"
      },
      {
        "duration": 197,
        "start_time": "2023-04-19T07:06:57.229Z"
      },
      {
        "duration": 3,
        "start_time": "2023-04-19T07:06:57.428Z"
      },
      {
        "duration": 50,
        "start_time": "2023-04-19T07:06:57.432Z"
      },
      {
        "duration": 86,
        "start_time": "2023-04-19T07:06:57.484Z"
      },
      {
        "duration": 29,
        "start_time": "2023-04-19T07:06:57.671Z"
      },
      {
        "duration": 25,
        "start_time": "2023-04-19T07:06:58.253Z"
      },
      {
        "duration": 29,
        "start_time": "2023-04-19T07:06:58.862Z"
      },
      {
        "duration": 50,
        "start_time": "2023-04-19T07:06:59.346Z"
      },
      {
        "duration": 26,
        "start_time": "2023-04-19T07:06:59.539Z"
      },
      {
        "duration": 32,
        "start_time": "2023-04-19T07:07:01.224Z"
      },
      {
        "duration": 18,
        "start_time": "2023-04-19T07:07:01.430Z"
      },
      {
        "duration": 169,
        "start_time": "2023-04-19T07:07:03.621Z"
      },
      {
        "duration": 318,
        "start_time": "2023-04-19T07:07:05.000Z"
      },
      {
        "duration": 4,
        "start_time": "2023-04-19T07:07:05.555Z"
      },
      {
        "duration": 313,
        "start_time": "2023-04-19T07:07:06.071Z"
      },
      {
        "duration": 121,
        "start_time": "2023-04-19T07:07:07.054Z"
      },
      {
        "duration": 4,
        "start_time": "2023-04-19T07:07:07.585Z"
      },
      {
        "duration": 113,
        "start_time": "2023-04-19T07:07:07.823Z"
      },
      {
        "duration": 5,
        "start_time": "2023-04-19T07:07:08.306Z"
      },
      {
        "duration": 1398,
        "start_time": "2023-04-19T07:07:14.054Z"
      },
      {
        "duration": 408,
        "start_time": "2023-04-19T07:07:15.455Z"
      },
      {
        "duration": 715,
        "start_time": "2023-04-19T07:07:15.864Z"
      },
      {
        "duration": 4,
        "start_time": "2023-04-19T07:07:18.052Z"
      },
      {
        "duration": 7,
        "start_time": "2023-04-19T07:07:20.945Z"
      },
      {
        "duration": 16,
        "start_time": "2023-04-19T07:11:24.723Z"
      },
      {
        "duration": 7,
        "start_time": "2023-04-19T07:11:25.864Z"
      },
      {
        "duration": 17,
        "start_time": "2023-04-19T07:11:27.696Z"
      },
      {
        "duration": 8,
        "start_time": "2023-04-19T07:12:10.427Z"
      },
      {
        "duration": 11,
        "start_time": "2023-04-19T07:12:10.994Z"
      },
      {
        "duration": 14,
        "start_time": "2023-04-19T07:12:32.101Z"
      },
      {
        "duration": 13,
        "start_time": "2023-04-19T07:12:44.126Z"
      },
      {
        "duration": 21,
        "start_time": "2023-04-19T07:13:05.717Z"
      },
      {
        "duration": 15,
        "start_time": "2023-04-19T07:13:06.801Z"
      },
      {
        "duration": 39,
        "start_time": "2023-04-19T07:13:07.664Z"
      },
      {
        "duration": 4,
        "start_time": "2023-04-19T07:13:08.285Z"
      },
      {
        "duration": 1720,
        "start_time": "2023-04-19T07:13:09.134Z"
      },
      {
        "duration": 6,
        "start_time": "2023-04-19T07:13:10.855Z"
      },
      {
        "duration": 6,
        "start_time": "2023-04-19T07:15:32.535Z"
      },
      {
        "duration": 5,
        "start_time": "2023-04-19T07:15:33.047Z"
      },
      {
        "duration": 22,
        "start_time": "2023-04-19T07:15:33.843Z"
      },
      {
        "duration": 6,
        "start_time": "2023-04-19T07:16:06.349Z"
      },
      {
        "duration": 25,
        "start_time": "2023-04-19T07:16:08.987Z"
      },
      {
        "duration": 8,
        "start_time": "2023-04-19T07:16:10.381Z"
      },
      {
        "duration": 5,
        "start_time": "2023-04-19T07:16:30.168Z"
      },
      {
        "duration": 13073,
        "start_time": "2023-04-19T07:17:18.468Z"
      },
      {
        "duration": 103509,
        "start_time": "2023-04-19T07:18:26.949Z"
      },
      {
        "duration": 322140,
        "start_time": "2023-04-19T07:20:10.459Z"
      },
      {
        "duration": 113188,
        "start_time": "2023-04-19T07:29:24.929Z"
      },
      {
        "duration": 146,
        "start_time": "2023-04-19T07:31:18.119Z"
      },
      {
        "duration": 9,
        "start_time": "2023-04-19T07:31:18.267Z"
      },
      {
        "duration": 138,
        "start_time": "2023-04-19T07:31:18.284Z"
      },
      {
        "duration": 46,
        "start_time": "2023-04-20T04:01:07.408Z"
      },
      {
        "duration": 2712,
        "start_time": "2023-04-20T04:01:57.229Z"
      },
      {
        "duration": 1556,
        "start_time": "2023-04-20T04:01:59.944Z"
      },
      {
        "duration": 3,
        "start_time": "2023-04-20T04:02:01.502Z"
      },
      {
        "duration": 54,
        "start_time": "2023-04-20T04:02:01.508Z"
      },
      {
        "duration": 464,
        "start_time": "2023-04-20T04:02:01.564Z"
      },
      {
        "duration": 4,
        "start_time": "2023-04-20T04:02:02.030Z"
      },
      {
        "duration": 61,
        "start_time": "2023-04-20T04:02:02.036Z"
      },
      {
        "duration": 67,
        "start_time": "2023-04-20T04:02:02.098Z"
      },
      {
        "duration": 44,
        "start_time": "2023-04-20T04:02:02.167Z"
      },
      {
        "duration": 27,
        "start_time": "2023-04-20T04:02:02.214Z"
      },
      {
        "duration": 50,
        "start_time": "2023-04-20T04:02:02.242Z"
      },
      {
        "duration": 45,
        "start_time": "2023-04-20T04:02:02.294Z"
      },
      {
        "duration": 45,
        "start_time": "2023-04-20T04:02:02.341Z"
      },
      {
        "duration": 44,
        "start_time": "2023-04-20T04:02:02.388Z"
      },
      {
        "duration": 24,
        "start_time": "2023-04-20T04:02:02.434Z"
      },
      {
        "duration": 218,
        "start_time": "2023-04-20T04:02:02.459Z"
      },
      {
        "duration": 343,
        "start_time": "2023-04-20T04:02:02.683Z"
      },
      {
        "duration": 5,
        "start_time": "2023-04-20T04:02:03.027Z"
      },
      {
        "duration": 341,
        "start_time": "2023-04-20T04:02:03.034Z"
      },
      {
        "duration": 137,
        "start_time": "2023-04-20T04:02:03.377Z"
      },
      {
        "duration": 5,
        "start_time": "2023-04-20T04:02:03.516Z"
      },
      {
        "duration": 143,
        "start_time": "2023-04-20T04:02:03.522Z"
      },
      {
        "duration": 6,
        "start_time": "2023-04-20T04:02:03.666Z"
      },
      {
        "duration": 1325,
        "start_time": "2023-04-20T04:02:03.684Z"
      },
      {
        "duration": 385,
        "start_time": "2023-04-20T04:02:05.011Z"
      },
      {
        "duration": 740,
        "start_time": "2023-04-20T04:02:05.398Z"
      },
      {
        "duration": 3,
        "start_time": "2023-04-20T04:02:06.140Z"
      },
      {
        "duration": 18,
        "start_time": "2023-04-20T04:02:06.147Z"
      },
      {
        "duration": 19,
        "start_time": "2023-04-20T04:02:06.166Z"
      },
      {
        "duration": 24,
        "start_time": "2023-04-20T04:02:06.187Z"
      },
      {
        "duration": 28,
        "start_time": "2023-04-20T04:02:06.212Z"
      },
      {
        "duration": 11,
        "start_time": "2023-04-20T04:02:06.242Z"
      },
      {
        "duration": 31,
        "start_time": "2023-04-20T04:02:06.254Z"
      },
      {
        "duration": 24,
        "start_time": "2023-04-20T04:02:06.287Z"
      },
      {
        "duration": 23,
        "start_time": "2023-04-20T04:02:06.313Z"
      },
      {
        "duration": 30,
        "start_time": "2023-04-20T04:02:06.337Z"
      },
      {
        "duration": 30,
        "start_time": "2023-04-20T04:02:06.369Z"
      },
      {
        "duration": 44,
        "start_time": "2023-04-20T04:02:06.400Z"
      },
      {
        "duration": 21,
        "start_time": "2023-04-20T04:02:06.446Z"
      },
      {
        "duration": 1752,
        "start_time": "2023-04-20T04:02:06.468Z"
      },
      {
        "duration": 6,
        "start_time": "2023-04-20T04:02:08.222Z"
      },
      {
        "duration": 27,
        "start_time": "2023-04-20T04:02:08.230Z"
      },
      {
        "duration": 27,
        "start_time": "2023-04-20T04:02:08.259Z"
      },
      {
        "duration": 48,
        "start_time": "2023-04-20T04:02:08.288Z"
      },
      {
        "duration": 40,
        "start_time": "2023-04-20T04:02:08.338Z"
      },
      {
        "duration": 25,
        "start_time": "2023-04-20T04:02:08.380Z"
      },
      {
        "duration": 66,
        "start_time": "2023-04-20T04:02:08.406Z"
      },
      {
        "duration": 123,
        "start_time": "2023-04-20T04:02:08.474Z"
      },
      {
        "duration": 0,
        "start_time": "2023-04-20T04:02:08.599Z"
      },
      {
        "duration": 0,
        "start_time": "2023-04-20T04:02:08.601Z"
      },
      {
        "duration": 0,
        "start_time": "2023-04-20T04:02:08.602Z"
      },
      {
        "duration": 0,
        "start_time": "2023-04-20T04:02:08.603Z"
      },
      {
        "duration": 0,
        "start_time": "2023-04-20T04:02:08.604Z"
      },
      {
        "duration": 0,
        "start_time": "2023-04-20T04:02:08.606Z"
      },
      {
        "duration": 0,
        "start_time": "2023-04-20T04:02:08.608Z"
      },
      {
        "duration": 0,
        "start_time": "2023-04-20T04:02:08.609Z"
      },
      {
        "duration": 0,
        "start_time": "2023-04-20T04:02:08.610Z"
      },
      {
        "duration": 6,
        "start_time": "2023-04-20T04:02:29.721Z"
      },
      {
        "duration": 11,
        "start_time": "2023-04-20T04:02:39.335Z"
      },
      {
        "duration": 7,
        "start_time": "2023-04-20T04:02:55.339Z"
      },
      {
        "duration": 7,
        "start_time": "2023-04-20T04:02:59.353Z"
      },
      {
        "duration": 6,
        "start_time": "2023-04-20T04:03:07.383Z"
      },
      {
        "duration": 6,
        "start_time": "2023-04-20T04:03:42.489Z"
      },
      {
        "duration": 8,
        "start_time": "2023-04-20T04:04:08.224Z"
      },
      {
        "duration": 7,
        "start_time": "2023-04-20T04:04:12.370Z"
      },
      {
        "duration": 9,
        "start_time": "2023-04-20T04:04:21.907Z"
      },
      {
        "duration": 5,
        "start_time": "2023-04-20T04:04:28.704Z"
      },
      {
        "duration": 13133,
        "start_time": "2023-04-20T04:04:29.407Z"
      },
      {
        "duration": 100703,
        "start_time": "2023-04-20T04:04:42.543Z"
      },
      {
        "duration": 2644,
        "start_time": "2023-04-20T04:06:23.247Z"
      },
      {
        "duration": 59359,
        "start_time": "2023-04-20T04:06:25.893Z"
      },
      {
        "duration": 165,
        "start_time": "2023-04-20T04:07:25.255Z"
      },
      {
        "duration": 10,
        "start_time": "2023-04-20T04:07:25.423Z"
      },
      {
        "duration": 11,
        "start_time": "2023-04-20T04:08:48.988Z"
      },
      {
        "duration": 4,
        "start_time": "2023-04-20T04:09:19.849Z"
      },
      {
        "duration": 10,
        "start_time": "2023-04-20T04:09:28.376Z"
      },
      {
        "duration": 9,
        "start_time": "2023-04-20T04:09:38.745Z"
      },
      {
        "duration": 16,
        "start_time": "2023-04-20T04:11:22.464Z"
      },
      {
        "duration": 15,
        "start_time": "2023-04-20T04:11:30.509Z"
      },
      {
        "duration": 10,
        "start_time": "2023-04-20T04:13:19.820Z"
      },
      {
        "duration": 9,
        "start_time": "2023-04-20T04:13:24.436Z"
      },
      {
        "duration": 9,
        "start_time": "2023-04-20T04:13:33.391Z"
      },
      {
        "duration": 9,
        "start_time": "2023-04-20T04:13:50.309Z"
      },
      {
        "duration": 9,
        "start_time": "2023-04-20T04:14:11.197Z"
      },
      {
        "duration": 9,
        "start_time": "2023-04-20T04:14:22.500Z"
      },
      {
        "duration": 5,
        "start_time": "2023-04-20T04:14:57.666Z"
      },
      {
        "duration": 142,
        "start_time": "2023-04-20T04:15:01.956Z"
      },
      {
        "duration": 437,
        "start_time": "2023-04-20T04:15:21.530Z"
      },
      {
        "duration": 476,
        "start_time": "2023-04-20T04:15:29.812Z"
      },
      {
        "duration": 580,
        "start_time": "2023-04-20T04:15:36.249Z"
      },
      {
        "duration": 485,
        "start_time": "2023-04-20T04:15:44.901Z"
      },
      {
        "duration": 457,
        "start_time": "2023-04-20T04:16:05.455Z"
      },
      {
        "duration": 8919,
        "start_time": "2023-04-20T04:24:50.253Z"
      },
      {
        "duration": 43,
        "start_time": "2023-04-20T15:01:11.686Z"
      },
      {
        "duration": 2143,
        "start_time": "2023-04-20T15:01:21.777Z"
      },
      {
        "duration": 1557,
        "start_time": "2023-04-20T15:01:23.922Z"
      },
      {
        "duration": 2,
        "start_time": "2023-04-20T15:01:25.481Z"
      },
      {
        "duration": 5,
        "start_time": "2023-04-20T15:01:25.485Z"
      },
      {
        "duration": 518,
        "start_time": "2023-04-20T15:01:25.492Z"
      },
      {
        "duration": 4,
        "start_time": "2023-04-20T15:01:26.011Z"
      },
      {
        "duration": 39,
        "start_time": "2023-04-20T15:01:26.016Z"
      },
      {
        "duration": 86,
        "start_time": "2023-04-20T15:01:26.057Z"
      },
      {
        "duration": 31,
        "start_time": "2023-04-20T15:01:26.146Z"
      },
      {
        "duration": 26,
        "start_time": "2023-04-20T15:01:26.179Z"
      },
      {
        "duration": 53,
        "start_time": "2023-04-20T15:01:26.206Z"
      },
      {
        "duration": 47,
        "start_time": "2023-04-20T15:01:26.261Z"
      },
      {
        "duration": 51,
        "start_time": "2023-04-20T15:01:26.309Z"
      },
      {
        "duration": 26,
        "start_time": "2023-04-20T15:01:26.363Z"
      },
      {
        "duration": 17,
        "start_time": "2023-04-20T15:01:26.390Z"
      },
      {
        "duration": 183,
        "start_time": "2023-04-20T15:01:26.408Z"
      },
      {
        "duration": 318,
        "start_time": "2023-04-20T15:01:26.593Z"
      },
      {
        "duration": 4,
        "start_time": "2023-04-20T15:01:26.912Z"
      },
      {
        "duration": 317,
        "start_time": "2023-04-20T15:01:26.918Z"
      },
      {
        "duration": 110,
        "start_time": "2023-04-20T15:01:27.237Z"
      },
      {
        "duration": 4,
        "start_time": "2023-04-20T15:01:27.348Z"
      },
      {
        "duration": 112,
        "start_time": "2023-04-20T15:01:27.353Z"
      },
      {
        "duration": 5,
        "start_time": "2023-04-20T15:01:27.467Z"
      },
      {
        "duration": 1233,
        "start_time": "2023-04-20T15:01:27.473Z"
      },
      {
        "duration": 411,
        "start_time": "2023-04-20T15:01:28.708Z"
      },
      {
        "duration": 738,
        "start_time": "2023-04-20T15:01:29.120Z"
      },
      {
        "duration": 4,
        "start_time": "2023-04-20T15:01:29.860Z"
      },
      {
        "duration": 17,
        "start_time": "2023-04-20T15:01:29.866Z"
      },
      {
        "duration": 28,
        "start_time": "2023-04-20T15:01:29.885Z"
      },
      {
        "duration": 14,
        "start_time": "2023-04-20T15:01:29.915Z"
      },
      {
        "duration": 27,
        "start_time": "2023-04-20T15:01:29.930Z"
      },
      {
        "duration": 5,
        "start_time": "2023-04-20T15:01:29.959Z"
      },
      {
        "duration": 7,
        "start_time": "2023-04-20T15:01:29.966Z"
      },
      {
        "duration": 14,
        "start_time": "2023-04-20T15:01:29.974Z"
      },
      {
        "duration": 9,
        "start_time": "2023-04-20T15:01:29.990Z"
      },
      {
        "duration": 36,
        "start_time": "2023-04-20T15:01:30.001Z"
      },
      {
        "duration": 17,
        "start_time": "2023-04-20T15:01:30.039Z"
      },
      {
        "duration": 36,
        "start_time": "2023-04-20T15:01:30.057Z"
      },
      {
        "duration": 5,
        "start_time": "2023-04-20T15:01:30.094Z"
      },
      {
        "duration": 1798,
        "start_time": "2023-04-20T15:01:30.101Z"
      },
      {
        "duration": 5,
        "start_time": "2023-04-20T15:01:31.903Z"
      },
      {
        "duration": 21,
        "start_time": "2023-04-20T15:01:31.910Z"
      },
      {
        "duration": 44,
        "start_time": "2023-04-20T15:01:31.932Z"
      },
      {
        "duration": 46,
        "start_time": "2023-04-20T15:01:31.977Z"
      },
      {
        "duration": 41,
        "start_time": "2023-04-20T15:01:32.024Z"
      },
      {
        "duration": 41,
        "start_time": "2023-04-20T15:01:32.068Z"
      },
      {
        "duration": 48,
        "start_time": "2023-04-20T15:01:32.110Z"
      },
      {
        "duration": 8,
        "start_time": "2023-04-20T15:01:32.160Z"
      },
      {
        "duration": 7,
        "start_time": "2023-04-20T15:01:32.170Z"
      },
      {
        "duration": 11903,
        "start_time": "2023-04-20T15:01:32.179Z"
      },
      {
        "duration": 89806,
        "start_time": "2023-04-20T15:01:44.084Z"
      },
      {
        "duration": 363256,
        "start_time": "2023-04-20T15:03:13.892Z"
      },
      {
        "duration": 46717,
        "start_time": "2023-04-20T15:09:17.150Z"
      },
      {
        "duration": 105,
        "start_time": "2023-04-20T15:10:03.869Z"
      },
      {
        "duration": 7,
        "start_time": "2023-04-20T15:10:03.976Z"
      },
      {
        "duration": 439,
        "start_time": "2023-04-20T15:10:03.984Z"
      },
      {
        "duration": 11,
        "start_time": "2023-04-20T15:10:04.425Z"
      },
      {
        "duration": 23,
        "start_time": "2023-04-20T15:10:04.438Z"
      }
    ],
    "colab": {
      "provenance": [],
      "toc_visible": true
    },
    "kernelspec": {
      "display_name": "Python 3 (ipykernel)",
      "language": "python",
      "name": "python3"
    },
    "language_info": {
      "codemirror_mode": {
        "name": "ipython",
        "version": 3
      },
      "file_extension": ".py",
      "mimetype": "text/x-python",
      "name": "python",
      "nbconvert_exporter": "python",
      "pygments_lexer": "ipython3",
      "version": "3.9.5"
    },
    "toc": {
      "base_numbering": 1,
      "nav_menu": {},
      "number_sections": true,
      "sideBar": true,
      "skip_h1_title": true,
      "title_cell": "Table of Contents",
      "title_sidebar": "Contents",
      "toc_cell": false,
      "toc_position": {
        "height": "calc(100% - 180px)",
        "left": "10px",
        "top": "150px",
        "width": "256.278px"
      },
      "toc_section_display": true,
      "toc_window_display": true
    }
  },
  "nbformat": 4,
  "nbformat_minor": 0
}